{
 "cells": [
  {
   "cell_type": "markdown",
   "metadata": {},
   "source": [
    "## Lesson 2 - Basic Data Structure\n",
    "\n",
    "* 2.1 - List\n",
    "* 2.2 - Index and Slice\n",
    "* 2.3 - Common Methods for List\n",
    "* 2.4 - List Sort\n",
    "* 2.5 - Other List Operations\n",
    "* 2.6 - Multiple Layers List and DeepCopy\n",
    "* 2.7 - Tuple\n",
    "* 2.8 - Set"
   ]
  },
  {
   "cell_type": "code",
   "execution_count": null,
   "metadata": {},
   "outputs": [],
   "source": []
  }
 ],
 "metadata": {
  "kernelspec": {
   "display_name": "Python 3",
   "language": "python",
   "name": "python3"
  },
  "language_info": {
   "codemirror_mode": {
    "name": "ipython",
    "version": 3
   },
   "file_extension": ".py",
   "mimetype": "text/x-python",
   "name": "python",
   "nbconvert_exporter": "python",
   "pygments_lexer": "ipython3",
   "version": "3.7.1"
  }
 },
 "nbformat": 4,
 "nbformat_minor": 2
}
