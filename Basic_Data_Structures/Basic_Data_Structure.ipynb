{
 "cells": [
  {
   "cell_type": "markdown",
   "metadata": {},
   "source": [
    "## Lesson 2 - Basic Data Structure\n",
    "\n",
    "* 2.1 - List\n",
    "* 2.2 - Index and Slice\n",
    "* 2.3 - Common Methods of List Object\n",
    "* 2.4 - List Sort\n",
    "* 2.5 - Other List Operations\n",
    "* 2.6 - Multiple Layers List and DeepCopy\n",
    "* 2.7 - Tuple\n",
    "* 2.8 - Set\n",
    "\n",
    "In this section, we focus on discussing the basic data structure in Python: **List**, **Tuple**, and **Set**.  We will discuss **Dictionary** in the later section.  First of all, many people refer the Python \"list\" as an array in other programming language, however, You should know that the Python \"list\" is a much flexible and powerful data structure compares to an array in different programming language.  A \"tuple', on the other hand, is basically an **immutable** list.  We are going to discuss some situation when we need an immutable list, tuple.  \n",
    "\n",
    "This section also discuss a relatively new Python data structure: **set**, which is an unordered collection data type that is iterable, mutable, and has no duplicate elements."
   ]
  },
  {
   "cell_type": "markdown",
   "metadata": {},
   "source": [
    "## 2.1 - List\n",
    "\n",
    "A Python **list** is similar to an **array** in C, Java, and other programming languages, which is an ordered mutable collection of objects. A list is created by placing all the items (elements) inside a square bracket [ ], separated by commas.  \n",
    "\n",
    "Reference: https://docs.python.org/3/tutorial/datastructures.html\n",
    "\n",
    "Here is an example of a list.\n",
    "\n",
    "``` Python\n",
    "# Create a list with 3 elements and assign it to variable x\n",
    "x = [1, 2, 3]\n",
    "```\n",
    "\n",
    "It's worth to note that, unlike other programming languages, we do not need to define the type of the elements to be store in a list or the length of the list.  \n",
    "\n",
    "Python also has similar array module like in C.  Here is a documentation if you are interested in it.\n",
    "\n",
    "Reference: https://docs.python.org/3/library/array.html"
   ]
  },
  {
   "cell_type": "code",
   "execution_count": null,
   "metadata": {},
   "outputs": [],
   "source": [
    "# Create a list with 3 elements and assign it to variable x\n",
    "x = [1, 2, 3]"
   ]
  },
  {
   "cell_type": "markdown",
   "metadata": {},
   "source": [
    "Python list is different to an array in other programming lauguages: it can store different type of data, in another word, list elements can be any Python objects.  Here is an example of storing different types of elements in a single list.\n",
    "\n",
    "``` Python\n",
    "# Create a list that includes integer, string, and another list of intergers.\n",
    "x = [2, 'two', [1, 2, 3]]\n",
    "```"
   ]
  },
  {
   "cell_type": "code",
   "execution_count": null,
   "metadata": {},
   "outputs": [],
   "source": [
    "# Create a list that includes integer, string, and another list of intergers.\n",
    "x = [2, 'two', [1, 2, 3]]"
   ]
  },
  {
   "cell_type": "markdown",
   "metadata": {},
   "source": [
    "#### Number of elements in a list?\n",
    "\n",
    "len() is one of the most common function used for a list, it generally returns the number of items in an object. When the object is a list, the len() function returns the number of elements in the list.\n",
    "\n",
    "e.g. Count the number of elements in list x\n",
    "\n",
    "``` Python\n",
    "x = [2, 'two', [1, 2, 3]]\n",
    "len(x)  # return 3 items in the list\n",
    "```\n",
    "\n",
    "Intuition: The first element in the list is an interger 2. The second element in a string \"two\".  And the third element is a list [1, 2, 3]\n",
    "\n",
    "Note: len() function only returns the number of elements in the first layer of the list.  In the previous example, the return value should be 3 because it won't count the elements in the second layer list."
   ]
  },
  {
   "cell_type": "code",
   "execution_count": null,
   "metadata": {},
   "outputs": [],
   "source": [
    "# Count the number of elements in list x\n",
    "x = [2, 'two', [1, 2, 3]]\n",
    "len(x)"
   ]
  },
  {
   "cell_type": "code",
   "execution_count": null,
   "metadata": {},
   "outputs": [],
   "source": [
    "# Try it yourself!\n",
    "\n",
    "# Use the len() function to find out the number of elements in each of the list.\n",
    "\n",
    "x = [0]\n",
    "\n",
    "\n",
    "y = []\n",
    "\n",
    "\n",
    "z = [[1, 3, [4, 5], 6], 7]\n",
    "\n"
   ]
  },
  {
   "cell_type": "markdown",
   "metadata": {},
   "source": [
    "## 2.2 - Index and Slice\n",
    "\n",
    "The method used to find or retrieve an element from a list is similar to C, which uses an **index** [n] for n position in the list. Python uses a zero-base indexing system, meaning that the first element in a sequence is located at position 0.\n",
    "\n",
    "Here is the example,\n",
    "\n",
    "``` Python\n",
    "# Create a list with 4 string elements\n",
    "x = [\"first\", \"second\", \"third\", \"fourth\"]\n",
    "\n",
    "# Find the first element \"first\" from the list\n",
    "x[0]  # return a string \"first\"\n",
    "\n",
    "# Find the third element \"third\" from the list\n",
    "x[2]  # return a string \"third\"\n",
    "```"
   ]
  },
  {
   "cell_type": "code",
   "execution_count": null,
   "metadata": {},
   "outputs": [],
   "source": [
    "# Create a list with 4 string elements\n",
    "x = [\"first\", \"second\", \"third\", \"fourth\"]"
   ]
  },
  {
   "cell_type": "code",
   "execution_count": null,
   "metadata": {},
   "outputs": [],
   "source": [
    "# Find the first element \"first\" from the list\n",
    "x[0]"
   ]
  },
  {
   "cell_type": "code",
   "execution_count": null,
   "metadata": {},
   "outputs": [],
   "source": [
    "# Find the third element \"third\" from the list\n",
    "x[2]"
   ]
  },
  {
   "cell_type": "markdown",
   "metadata": {},
   "source": [
    "If we are using a negative index, the count begins from the last element in the list, which -1 is pointing at the last element in the list, -2 will be the second to the last element, etc.  We can use the list in our previous example to demonstrate use of negative index.\n",
    "\n",
    "Here is the example,\n",
    "\n",
    "``` Python\n",
    "# Assigne the last element from list x to variable a\n",
    "a = x[-1]\n",
    "\n",
    "# The string \"fourth\" should be assigned to variable a\n",
    "a  # return a string 'fourth'\n",
    "\n",
    "# Assign the second to the last element from list x to variable b\n",
    "b = x[-2]\n",
    "\n",
    "# The string \"third\" should be assigned to variable b\n",
    "b  # return a string 'third'\n",
    "```"
   ]
  },
  {
   "cell_type": "code",
   "execution_count": null,
   "metadata": {},
   "outputs": [],
   "source": [
    "# Assigne the last element from list x to variable a\n",
    "a = x[-1]\n",
    "\n",
    "# The string \"fourth\" should be assigned to variable a\n",
    "a"
   ]
  },
  {
   "cell_type": "code",
   "execution_count": null,
   "metadata": {},
   "outputs": [],
   "source": [
    "# Assign the second to the last element from list x to variable b\n",
    "b = x[-2]\n",
    "\n",
    "# The string \"third\" should be assigned to variable b\n",
    "b"
   ]
  },
  {
   "cell_type": "code",
   "execution_count": null,
   "metadata": {},
   "outputs": [],
   "source": [
    "# Try it yourself!\n",
    "\n",
    "# Given a list of element, can you find the element of your interest by the index method?\n",
    "\n",
    "x = [\"Tom\", 235, 10.55, \"Black\", \"USA\", \"30\", 2*3, \"3 divided by 2\", \"Python\"]\n",
    "\n",
    "\n"
   ]
  },
  {
   "cell_type": "markdown",
   "metadata": {},
   "source": [
    "#### Slicing a List\n",
    "\n",
    "In the previous examples, we use the index method to retrieve a single element from a list.  Python also offers a slice object to specify how to slice a sequence or point to multiple elements in a list, it is sometime called **\"Slicing\"**. You can specify where to start the slicing and where to end by using a square bracket [ index1 : index2 ].  Note that the slicing index is not inclusive, which means the slicing will begin from index1, but do not include index2 at the end.  Let's demonstrate this in the following examples.\n",
    "\n",
    "Here is the examples:\n",
    "\n",
    "``` Python\n",
    "# Create a list with 4 string elements\n",
    "x = [\"first\", \"second\", \"third\", \"fourth\"]\n",
    "\n",
    "# Slice the list that contains the first to the third elements\n",
    "x[0:3]  # return a list ['first', 'second', 'third']\n",
    "\n",
    "# Slice the list that contains the second and third elements\n",
    "x[1:3]  # return a list ['second', 'third']\n",
    "\n",
    "# We can also apply the negative index,\n",
    "# For instance, we can slice the list that contains second and third elements\n",
    "x[-3:-1]  # return a list ['second', 'third']\n",
    "```\n",
    "\n",
    "Note that if the position of index2 is in front of the position of index1, it will return an empty list.\n",
    "\n",
    "``` Python\n",
    "x[-1:2]  # return an empty list [ ]\n",
    "```"
   ]
  },
  {
   "cell_type": "code",
   "execution_count": null,
   "metadata": {},
   "outputs": [],
   "source": [
    "# Create a list with 4 string elements\n",
    "x = [\"first\", \"second\", \"third\", \"fourth\"]"
   ]
  },
  {
   "cell_type": "code",
   "execution_count": null,
   "metadata": {},
   "outputs": [],
   "source": [
    "# Slice the list that contains the first to the third elements\n",
    "x[0:3]"
   ]
  },
  {
   "cell_type": "code",
   "execution_count": null,
   "metadata": {},
   "outputs": [],
   "source": [
    "# Slice the list that contains the second and third elements\n",
    "x[1:3]"
   ]
  },
  {
   "cell_type": "code",
   "execution_count": null,
   "metadata": {},
   "outputs": [],
   "source": [
    "# We can also apply the negative index,\n",
    "# For instance, we can slice the list that contains second and third elements\n",
    "x[-3:-1]"
   ]
  },
  {
   "cell_type": "code",
   "execution_count": null,
   "metadata": {},
   "outputs": [],
   "source": [
    "# If the position of the second index is in front of the position of the first index\n",
    "# the return object will be an empty list.\n",
    "x[-1:2]"
   ]
  },
  {
   "cell_type": "markdown",
   "metadata": {},
   "source": [
    "When slicing, index1 or index2 or both can be missed in the argument.  Without index1 means starts from the firt element in the list.  Without index2 means ends with the last element in the list.  When both are missing, it returns the original list (include all the elements from the beginning to the end).\n",
    "\n",
    "Lets demonstrate with some examples here,\n",
    "\n",
    "``` Python\n",
    "# Slicing the first three elements from list x\n",
    "x[:3]  # return a list ['first', 'second', 'third']\n",
    "\n",
    "# Slicing the last two elements from list x\n",
    "x[2:]  # return a list ['third', 'fourth']\n",
    "\n",
    "# Slicing all elements from list x\n",
    "x[:]  # ['first', 'second', 'third', 'fourth']\n",
    "```"
   ]
  },
  {
   "cell_type": "code",
   "execution_count": null,
   "metadata": {},
   "outputs": [],
   "source": [
    "# Slicing the first three elements from list x\n",
    "x[:3]"
   ]
  },
  {
   "cell_type": "code",
   "execution_count": null,
   "metadata": {},
   "outputs": [],
   "source": [
    "# Slicing the last two elements from list x\n",
    "x[2:]"
   ]
  },
  {
   "cell_type": "code",
   "execution_count": null,
   "metadata": {},
   "outputs": [],
   "source": [
    "# Slicing all elements from list x\n",
    "x[:]"
   ]
  },
  {
   "cell_type": "markdown",
   "metadata": {},
   "source": [
    "When we are assigning a list to a variable, we need to be careful how we assign it.  Below is a very good example to demonstrate the advantage for copying a list to a new list.\n",
    "\n",
    "``` Python\n",
    "# Assign all elements to variable y\n",
    "y = x[:]  # y is now a list with all the elements assigned to x\n",
    "\n",
    "# Suppose we modify the new list y\n",
    "y[0] = \"1 st\"\n",
    "\n",
    "# y is now changed\n",
    "y  # return with a list ['1 st', 'second', 'third', 'fourth']\n",
    "\n",
    "# The original x will not be effected by any change of y\n",
    "x  # return the original list ['first', 'second', 'third', 'fourth']\n",
    "\n",
    "# If we assign x to y\n",
    "y = x  # Now y is referencing x, which is referencing the list\n",
    "\n",
    "# Suppose we modify y\n",
    "y[0] = \"1 st\"\n",
    "\n",
    "# y is now changed\n",
    "y  # return with a list ['1 st', 'second', 'third', 'fourth']\n",
    "\n",
    "# x is also changed\n",
    "x  # return with a list ['1 st', 'second', 'third', 'fourth']\n",
    "```\n"
   ]
  },
  {
   "cell_type": "code",
   "execution_count": null,
   "metadata": {},
   "outputs": [],
   "source": [
    "# Assign all elements to variable y\n",
    "y = x[:]  # y is now a list with all the elements assigned to x\n",
    "\n",
    "# Suppose we modify the new list y\n",
    "y[0] = \"1 st\""
   ]
  },
  {
   "cell_type": "code",
   "execution_count": null,
   "metadata": {},
   "outputs": [],
   "source": [
    "# y is now changed\n",
    "y  # return with a list "
   ]
  },
  {
   "cell_type": "code",
   "execution_count": null,
   "metadata": {},
   "outputs": [],
   "source": [
    "# The original x will not be effected by any change of y\n",
    "x  # return the original list"
   ]
  },
  {
   "cell_type": "code",
   "execution_count": null,
   "metadata": {},
   "outputs": [],
   "source": [
    "# If we assign x to y\n",
    "y = x  # Now y is referencing x, which is referencing the list\n",
    "\n",
    "# Suppose we modify y\n",
    "y[0] = \"1 st\""
   ]
  },
  {
   "cell_type": "code",
   "execution_count": null,
   "metadata": {},
   "outputs": [],
   "source": [
    "# y is now changed\n",
    "y  # return with a list"
   ]
  },
  {
   "cell_type": "code",
   "execution_count": null,
   "metadata": {},
   "outputs": [],
   "source": [
    "# x is also changed\n",
    "x  # return with a list"
   ]
  },
  {
   "cell_type": "code",
   "execution_count": null,
   "metadata": {},
   "outputs": [],
   "source": [
    "# Try it yourself!\n",
    "\n",
    "# Try to use both len() and slicing to get the second half of the elements \n",
    "# from a list with unknown number of elements.  \n",
    "# Check to see if you solution work with an example.\n",
    "\n",
    "# Create a list\n",
    "\n",
    "\n",
    "# Code your solution here!\n",
    "\n"
   ]
  },
  {
   "cell_type": "markdown",
   "metadata": {},
   "source": [
    "#### Bonus:\n",
    "\n",
    "When we start to program, the Python slicing index method actaully helps improving the efficiency for programming.  Think about the following example,\n",
    "\n",
    "```Python\n",
    "x = [0, 1, 2, 3, 4, 5]\n",
    "start = 2\n",
    "length = 3\n",
    "x[start:start+length]  # return [2, 3, 4]\n",
    "```\n",
    "\n",
    "Since the slicing index method is not inclusive, [m:n] will have the length n-m.  If the slicing index mthod is inclusive, the slicing will be x[start:start+length-1], where the length of the slice will be n-m+1. This is one of the common bug in programming when we have to -1 for one process and +1 for the other."
   ]
  },
  {
   "cell_type": "markdown",
   "metadata": {},
   "source": [
    "#### Modify element(s) in a list\n",
    "\n",
    "Both index and slice can be used to modify the existing list. Here are some examples.\n",
    "\n",
    "``` Python\n",
    "# Suppose we want to modify the third element in a list\n",
    "x = [0, 1, 2, 3, 4]\n",
    "x[2] = \"two\"  # replace by index\n",
    "x\n",
    "\n",
    "# Suppose we want to modify the second and third elements in a list\n",
    "x = [0, 1, 2, 3, 4]\n",
    "x[1:3] = [\"one\", \"two\"]  # replace by slice\n",
    "x  # return [0, 1, 'two', 3, 4]\n",
    "\n",
    "# Suppose we want to modify the second and third elements in a list\n",
    "x = [0, 1, 2, 3, 4]\n",
    "x[1:3] = [\"one\", \"two\"]  # replace by slice\n",
    "x  # return [0, 'one', 'two', 3, 4]\n",
    "\n",
    "# When using slice to modify the elements in a list a[m:n] = b,\n",
    "# the length of b is not required equal to the length between n and m.\n",
    "x = [0, 1, 2, 3, 4]\n",
    "x[1:3] = ['one', 'two', 'three']\n",
    "x  # return [0, 'one', 'two', 'three', 3, 4]\n",
    "\n",
    "x[0:4] = ['a', 'b']\n",
    "x  # return ['a', 'b', 3, 4]\n",
    "\n",
    "# We can also using this method to add or insert element(s) to a list\n",
    "x = [0, 1, 2, 3, 4]\n",
    "\n",
    "# Adding 3 elements to the end of the existing list\n",
    "x[len(x):] = [5, 6, 7]\n",
    "x  # return [0, 1, 2, 3, 4, 5, 6, 7]\n",
    "\n",
    "# Adding 2 elements to the front of the existing list\n",
    "x[:0] = [-2, -1]\n",
    "x  # return [-2, -1, 0, 1, 2, 3, 4, 5, 6, 7]\n",
    "\n",
    "# Remove mutliple elements from the existing list\n",
    "x[1:-1] = []\n",
    "x  # return [-2, 7]\n",
    "```\n"
   ]
  },
  {
   "cell_type": "code",
   "execution_count": null,
   "metadata": {},
   "outputs": [],
   "source": [
    "# Suppose we want to modify the third element in a list\n",
    "x = [0, 1, 2, 3, 4]\n",
    "x[2] = \"two\"  # replace by index\n",
    "x"
   ]
  },
  {
   "cell_type": "code",
   "execution_count": null,
   "metadata": {},
   "outputs": [],
   "source": [
    "# Suppose we want to modify the second and third elements in a list\n",
    "x = [0, 1, 2, 3, 4]\n",
    "x[1:3] = [\"one\", \"two\"]  # replace by slice\n",
    "x"
   ]
  },
  {
   "cell_type": "code",
   "execution_count": null,
   "metadata": {},
   "outputs": [],
   "source": [
    "# When using slice to modify the elements in a list a[m:n] = b,\n",
    "# the length of b is not required equal to the length between n and m.\n",
    "x = [0, 1, 2, 3, 4]\n",
    "x[1:3] = ['one', 'two', 'three']\n",
    "x"
   ]
  },
  {
   "cell_type": "code",
   "execution_count": null,
   "metadata": {},
   "outputs": [],
   "source": [
    "x[0:4] = ['a', 'b']\n",
    "x"
   ]
  },
  {
   "cell_type": "code",
   "execution_count": null,
   "metadata": {},
   "outputs": [],
   "source": [
    "# We can also using this method to add or insert element(s) to a list\n",
    "x = [0, 1, 2, 3, 4]\n",
    "\n",
    "# Adding 3 elements to the end of the existing list\n",
    "x[len(x):] = [5, 6, 7]\n",
    "x"
   ]
  },
  {
   "cell_type": "code",
   "execution_count": null,
   "metadata": {},
   "outputs": [],
   "source": [
    "# Adding 2 elements to the front of the existing list\n",
    "x[:0] = [-2, -1]\n",
    "x"
   ]
  },
  {
   "cell_type": "code",
   "execution_count": null,
   "metadata": {},
   "outputs": [],
   "source": [
    "# Remove mutliple elements from the existing list\n",
    "x[1:-1] = []\n",
    "x"
   ]
  },
  {
   "cell_type": "markdown",
   "metadata": {},
   "source": [
    "## 2.3 - Common Methods of List Object\n",
    "\n",
    "In this section, we discuss the common **methods** of list **object**. To programming beginners, the concept of **method** could be very vague. If we image a Python **object** is actually a physical object, **method** is bacially the action of the **object**.  It's similar to when we are using a **verb** pair with a **noun** in a sentence.  Python is an object oriented program.  A method defines the behavior of the object and is an actiona that an object is able to perform.\n",
    "\n",
    "Reference: https://docs.python.org/3/tutorial/datastructures.html\n",
    "\n",
    "For instance,\n",
    "\n",
    "|  Writing  |  Python Program  |\n",
    "| :---:  |  :---:  |\n",
    "|  Mom  |  mom  |\n",
    "|  Mom sleeps  |  mom.sleep()  |\n",
    "\n",
    "Here is a list of common methods of list objects,\n",
    "\n",
    "|  List Methods  |  Description  |  Code Example  |\n",
    "|  :---:  |  :---:  |  :---:  |\n",
    "|  [ ]  |  Building an empty list  |  x = [ ]  |\n",
    "|  len()  |  Returning the length of a list  |  len(x)  |\n",
    "|  append()  |  Adding element at the end of a list  |  x.append('y')  |\n",
    "|  extend()  |  Adding a list of elements at the end of a list  |  x.extend(['a','b'])  |\n",
    "|  insert()  |  Inserting an element to an appointed position   |  x.insert(0, 'y')  |\n",
    "|  del  |  Deleting a list of element or a slice of element  |  del(x[0])  |\n",
    "|  remove()  |  Removing an element from a list  |  x.remove('y')  |\n",
    "|  reverse()  |  Reversing a list  |  x.reverse()  |\n",
    "|  sort()  |  Sorting the elements in a list  |  x.sort()  |\n",
    "|  sorted()  |  Returning a new list after sorting  |  sorted(x)  |\n",
    "|  +  |  Casting two lists into a new list  |  x1 + x2  |\n",
    "|  *  |  Copying a list  |  x = ['y']*3  |\n",
    "|  min()  |  Returning the minimum value element from a list  |  min(x)  |\n",
    "|  max()  |  Returning the maximum value element from a list  |  mas(x)  |\n",
    "|  index()  |  Returning the index of an element from a list  |  x.index('y')  |\n",
    "|  count()  |  Returning the frequency count of an element from a list  |  x.count('y')  |\n",
    "|  sum()  |  Returning the sum of the elements in a list  |  sum(x)  |\n",
    "|  in  |  Returning a Boolean True if an element exist in a list, False otherwise  |  'y'in x  |\n",
    "\n",
    "Let's explore how to use these methods of list objects!\n",
    "\n",
    "#### Adding new element to a list:  Append( ) and Extend( )\n",
    "\n",
    "Often we need to add new elements to a list object.  To add new element(s) to an existing list, we can use append( ) or extend( ) methods.  \n",
    "\n",
    "e.g. for instance, if we are trying to add an element to the end of a list, we can use append( ) method.\n",
    "\n",
    "``` Python\n",
    "x = [1,2,3]\n",
    "x.append(\"four\")\n",
    "x  # return a list [1, 2, 3, 'four']\n",
    "```\n",
    "\n",
    "If we are using append( ) method to add a list object to an existing list, it will become multi-layer list.\n",
    "\n",
    "``` Python\n",
    "x = [1,2,3,4]\n",
    "y = [5,6,7]\n",
    "x.append(y)\n",
    "x  # return a list [1, 2, 3, 4, [5, 6, 7]]\n",
    "```\n",
    "\n",
    "Note: the return list contains 5 elements and the last element is a list object.\n",
    "\n",
    "If we are trying to add the element from list y to the end of list x, we can use the extend( ) method.\n",
    "\n",
    "``` Python\n",
    "x = [1,2,3,4]\n",
    "y = [5,6,7]\n",
    "x.extend(y)\n",
    "x  # return a list [1, 2, 3, 4, 5, 6, 7]\n",
    "```"
   ]
  },
  {
   "cell_type": "code",
   "execution_count": null,
   "metadata": {},
   "outputs": [],
   "source": [
    "# Adding new element to the end of a list\n",
    "x = [1,2,3]\n",
    "x.append(\"four\")\n",
    "x  # return a list [1, 2, 3, 'four']"
   ]
  },
  {
   "cell_type": "code",
   "execution_count": null,
   "metadata": {},
   "outputs": [],
   "source": [
    "# Adding a list object to the end of a list\n",
    "x = [1,2,3,4]\n",
    "y = [5,6,7]\n",
    "x.append(y)\n",
    "x  # return a list [1, 2, 3, 4, [5, 6, 7]]"
   ]
  },
  {
   "cell_type": "code",
   "execution_count": null,
   "metadata": {},
   "outputs": [],
   "source": [
    "# Adding the elements from list y to the end of list x\n",
    "x = [1,2,3,4]\n",
    "y = [5,6,7]\n",
    "x.extend(y)\n",
    "x  # return a list [1, 2, 3, 4, 5, 6, 7]"
   ]
  },
  {
   "cell_type": "markdown",
   "metadata": {},
   "source": [
    "#### Inserting a new element to a list:  insert( )\n",
    "\n",
    "To add an element in between two elements or at the beginning of a list, we can use insert( ) method.  insert( ) method has two arguments, the first one is the index reference for the need element to be added and the second one is the element itself.  \n",
    "\n",
    "e.g. Suppose we would like to added two element to an existing list.  One between two elements in the list and the other one at the beginning of the list.\n",
    "\n",
    "``` Python\n",
    "x = [1,3,4]\n",
    "# Adding a string \"two\" between 1 and 3 in the list\n",
    "x.insert(1, \"two\")\n",
    "x  # return [1, 'two', 3, 4]\n",
    "# Adding a string \"zero\" at the beginning of the list\n",
    "x.insert(0, 'zero')\n",
    "x  # return ['zero', 1, 'two', 3, 4]\n",
    "```\n",
    "\n",
    "We should not be surprised that insert( ) method can also reference the negative index.\n",
    "\n",
    "e.g.\n",
    "\n",
    "``` Python\n",
    "# Using negative index with insert()\n",
    "x = [1,2,4]\n",
    "x.insert(-1, 'three')\n",
    "x  # return [1, 2, 'three', 4]\n",
    "```"
   ]
  },
  {
   "cell_type": "code",
   "execution_count": null,
   "metadata": {},
   "outputs": [],
   "source": [
    "x = [1,3,4]\n",
    "# Adding a string \"two\" between 1 and 3 in the list\n",
    "x.insert(1, \"two\")\n",
    "x  # return [1, 'two', 3, 4]"
   ]
  },
  {
   "cell_type": "code",
   "execution_count": null,
   "metadata": {},
   "outputs": [],
   "source": [
    "# Adding a string \"zero\" at the beginning of the list\n",
    "x.insert(0, 'zero')\n",
    "x  # return ['zero', 1, 'two', 3, 4]"
   ]
  },
  {
   "cell_type": "code",
   "execution_count": null,
   "metadata": {},
   "outputs": [],
   "source": [
    "# Using negative index with insert()\n",
    "x = [1,2,4]\n",
    "x.insert(-1, 'three')\n",
    "x  # return [1, 2, 'three', 4]"
   ]
  },
  {
   "cell_type": "markdown",
   "metadata": {},
   "source": [
    "#### Deleting element from a list: del\n",
    "\n",
    "Instead of slicing, we can also use \"del\" to delete a sequence of elements in a list.  \"del\" is not a method of list object, but a Python keyword, therefore, it is also applied to any Python object with name. Even though \"del\" is not as powerful as slicing, it usually provides a more readable coding format as compare to slicing.\n",
    "\n",
    "e.g. \n",
    "\n",
    "``` Python\n",
    "x = ['a', 2, 'c', 7, 9, 11]\n",
    "# delete the second element\n",
    "del x[1]\n",
    "x  # return ['a', 'c', 7, 9, 11]\n",
    "\n",
    "# delete the first two elements\n",
    "del x[:2]\n",
    "x  # return [7, 9, 11]\n",
    "```\n",
    "\n",
    "Generally speaking, del x[n] and x[n:n+1]=[ ] return the same list.  Also, del x[m:n] and x[m:n]=[ ] are the same.  However, just like using insert( ) method, \"del\" improves the readability of the programming code."
   ]
  },
  {
   "cell_type": "code",
   "execution_count": null,
   "metadata": {},
   "outputs": [],
   "source": [
    "x = ['a', 2, 'c', 7, 9, 11]\n",
    "# delete the second element\n",
    "del x[1]\n",
    "x  # return ['a', 'c', 7, 9, 11]"
   ]
  },
  {
   "cell_type": "code",
   "execution_count": null,
   "metadata": {},
   "outputs": [],
   "source": [
    "# delete the first two elements\n",
    "del x[:2]\n",
    "x  # return [7, 9, 11]"
   ]
  },
  {
   "cell_type": "markdown",
   "metadata": {},
   "source": [
    "#### Finding the specific value from the list and remove it from the list: remove( )\n",
    "\n",
    "remove( ) method finds the first given object from the list and removes it.\n",
    "\n",
    "e.g.\n",
    "\n",
    "``` Python\n",
    "x = [1, 2, 3, 4, 3, 5]\n",
    "# Remove the first integer 3 from the list\n",
    "x.remove(3)\n",
    "x  # [1, 2, 4, 3, 5]\n",
    "\n",
    "# Remove the first integer 3 from the modified list\n",
    "x.remove(3)\n",
    "x  # [1, 2, 4, 5]\n",
    "\n",
    "# Try to remove the first integer 3 from the modifed list \n",
    "x.remove(3)\n",
    "\n",
    "# An error will return if no such value exists in the list\n",
    "```\n",
    "\n",
    "To avoid error, we can also use 'in' Python keyword to confirm the existing of the value in the list before remove."
   ]
  },
  {
   "cell_type": "code",
   "execution_count": null,
   "metadata": {},
   "outputs": [],
   "source": [
    "x = [1, 2, 3, 4, 3, 5]\n",
    "# Remove the first integer 3 from the list\n",
    "x.remove(3)\n",
    "x  # [1, 2, 4, 3, 5]"
   ]
  },
  {
   "cell_type": "code",
   "execution_count": null,
   "metadata": {},
   "outputs": [],
   "source": [
    "# Remove the first integer 3 from the modified list\n",
    "x.remove(3)\n",
    "x  # [1, 2, 4, 5]"
   ]
  },
  {
   "cell_type": "code",
   "execution_count": null,
   "metadata": {},
   "outputs": [],
   "source": [
    "# Try to remove the first integer 3 from the modifed list \n",
    "x.remove(3)\n",
    "\n",
    "# An error will return if no such value exists in the list"
   ]
  },
  {
   "cell_type": "markdown",
   "metadata": {},
   "source": [
    "#### Reversing the order of the elements in a list: reverse()\n",
    "\n",
    "reverse( ) is a relatively special method of list object, which reverses the order of the given elements from the list efficiently and updates the list.\n",
    "\n",
    "e.g.\n",
    "\n",
    "``` Python\n",
    "x = [1,3,5,7,10]\n",
    "# Reverse the list \n",
    "x.reverse()\n",
    "x  # [10, 7, 5, 3, 1]\n",
    "```"
   ]
  },
  {
   "cell_type": "code",
   "execution_count": null,
   "metadata": {},
   "outputs": [],
   "source": [
    "# Try it yourself!\n",
    "\n",
    "# Suppose there is a list contains 10 elements.  \n",
    "# How to move the last three elements to the beginning of the list and keeping their order?\n",
    "\n",
    "# Try to code here!\n"
   ]
  },
  {
   "cell_type": "markdown",
   "metadata": {},
   "source": [
    "## 2.4 - List Sort\n",
    "\n",
    "##### Ordering a list: sort( ) and sorted( )\n",
    "\n",
    "sort( ) method cna be used to sorts the elements of a given list in a specific order - Ascending or Descending. sort( ) method is a built-in method that modifies the list in-place, which changes the list order.  There is a sorted( ) builti-in function that builds a new sorted list from an interable, which does not modify or change the orginal list order.\n",
    "\n",
    "e.g.\n",
    "\n",
    "``` Python\n",
    "x = [2,4,1,3]\n",
    "# Using sort() method\n",
    "x.sort()  # Note: sort() method does not return a list\n",
    "x\n",
    "\n",
    "x = [2,4,1,3]\n",
    "# Using sorted() function\n",
    "sorted(x)  # Note: sorted() function returns a list\n",
    "\n",
    "x = [2,4,1,3]\n",
    "# To sort the list without modifying the orginal list\n",
    "y = x[:]\n",
    "y.sort()\n",
    "y  # In this case, list x will not be affected\n",
    "```"
   ]
  },
  {
   "cell_type": "code",
   "execution_count": null,
   "metadata": {},
   "outputs": [],
   "source": [
    "x = [2,4,1,3]\n",
    "# Using sort() method\n",
    "x.sort()  # Note: sort() method does not return a list\n",
    "x"
   ]
  },
  {
   "cell_type": "code",
   "execution_count": null,
   "metadata": {},
   "outputs": [],
   "source": [
    "x = [2,4,1,3]\n",
    "# Using sorted() function\n",
    "sorted(x)  # Note: sorted() function returns a list"
   ]
  },
  {
   "cell_type": "code",
   "execution_count": null,
   "metadata": {},
   "outputs": [],
   "source": [
    "x = [2,4,1,3]\n",
    "# To sort the list without modifying the orginal list\n",
    "y = x[:]\n",
    "y.sort()\n",
    "y  # In this case, list x will not be affected"
   ]
  },
  {
   "cell_type": "markdown",
   "metadata": {},
   "source": [
    "For a list of strings, sort( ) method can also be use to sort the order of the strings alphabetically, where \n",
    "\n",
    "|  Ordering Rule  |  Example  |\n",
    "|  :---:  |  :---:  |\n",
    "|  Alphabetically  |  'a' < 'z'  |\n",
    "|  lower case greater than upper case  |  'A' < 'a'  |\n",
    "|  Evaluate the second letter if the first letter is the same  |'ab' < 'ac'  |\n",
    "\n",
    "e.g.\n",
    "\n",
    "``` Python\n",
    "x = ['a', 'e', 'w', 'k', 'q']\n",
    "x.sort()\n",
    "x  # return ['a', 'e', 'k', 'q', 'w']\n",
    "\n",
    "x = ['A', 'w', 'a', 'G', 'y', 'e', 'g']\n",
    "x.sort()\n",
    "x  # return ['A', 'G', 'a', 'e', 'g', 'w', 'y']\n",
    "\n",
    "x = [\"Life\", \"is\", \"Enchanting\"]\n",
    "x.sort()\n",
    "x  # return ['Enchanting', 'Life', 'is']\n",
    "```"
   ]
  },
  {
   "cell_type": "code",
   "execution_count": null,
   "metadata": {},
   "outputs": [],
   "source": [
    "x = ['a', 'e', 'w', 'k', 'q']\n",
    "x.sort()\n",
    "x"
   ]
  },
  {
   "cell_type": "code",
   "execution_count": null,
   "metadata": {},
   "outputs": [],
   "source": [
    "x = ['A', 'w', 'a', 'G', 'y', 'e', 'g']\n",
    "x.sort()\n",
    "x"
   ]
  },
  {
   "cell_type": "code",
   "execution_count": null,
   "metadata": {},
   "outputs": [],
   "source": [
    "x = [\"Life\", \"is\", \"Enchanting\"]\n",
    "x.sort()\n",
    "x"
   ]
  },
  {
   "cell_type": "markdown",
   "metadata": {},
   "source": [
    "##### Non-Comparable Elements:\n",
    "There is something we need to be careful when using the sort( ) method: the elements within a list must be comparable, which means the sort( ) method cannot be applied to a list with string mixed with numerical value.\n",
    "\n",
    "e.g.\n",
    "\n",
    "``` Python\n",
    "x = [1, 2, 'hello', 3]\n",
    "x.sort()  # this will result an error\n",
    "```"
   ]
  },
  {
   "cell_type": "code",
   "execution_count": null,
   "metadata": {},
   "outputs": [],
   "source": [
    "x = [1, 2, 'hello', 3]\n",
    "x.sort()"
   ]
  },
  {
   "cell_type": "markdown",
   "metadata": {},
   "source": [
    "##### Sorting a list of lists:\n",
    "If a list has an element, which is also a list, the sort( ) method can be applied.  The order will be determined by evaluating the first element in each list.  If they are the same value, the second element will be evaluated to determine the order.  \n",
    "\n",
    "e.g.\n",
    "\n",
    "``` Python\n",
    "x = [[3,5], [2,9], [2,3], [4,1], [3,2]]\n",
    "x.sort()\n",
    "x  # return [[2,3], [2,9], [3,2], [3,5], [4,1]]\n",
    "```"
   ]
  },
  {
   "cell_type": "code",
   "execution_count": null,
   "metadata": {},
   "outputs": [],
   "source": [
    "x = [[3,5], [2,9], [2,3], [4,1], [3,2]]\n",
    "x.sort()\n",
    "x"
   ]
  },
  {
   "cell_type": "markdown",
   "metadata": {},
   "source": [
    "##### Optional parameters:\n",
    "\n",
    "sort( ) method has two optional reverse parameters, reverse and key.  When reverse=True, the sorted list is reversded or sorted in a descending order.  Key serves as a key for the sort comparison\n",
    "\n",
    "e.g.\n",
    "\n",
    "``` Python\n",
    "x = [0,1,2]\n",
    "# Sorting in descending order\n",
    "x.sort(reverse=True)\n",
    "x  # return [2, 1, 0]\n",
    "\n",
    "x = ['eric', 'Ken', 'Thomas', 'john']\n",
    "# Sorting by the length of the string\n",
    "x.sort(key=len)\n",
    "x  # return ['Ken', 'eric', 'john', 'Thomas']\n",
    "```"
   ]
  },
  {
   "cell_type": "code",
   "execution_count": null,
   "metadata": {},
   "outputs": [],
   "source": [
    "x = [0,1,2]\n",
    "x.sort(reverse=True)\n",
    "x "
   ]
  },
  {
   "cell_type": "code",
   "execution_count": null,
   "metadata": {},
   "outputs": [],
   "source": [
    "x = ['eric', 'Ken', 'Thomas', 'john']\n",
    "x.sort(key=len)\n",
    "x "
   ]
  },
  {
   "cell_type": "code",
   "execution_count": null,
   "metadata": {},
   "outputs": [],
   "source": [
    "# Try it yourself!\n",
    "\n",
    "# Suppose there is a list and each element in the list is also a list,\n",
    "# [[1,2,3], [2,1,3], [4,0,1]]\n",
    "# If we need to sort the order by the second element in each list,\n",
    "# how should we use the key function to do it?\n",
    "\n",
    "x = [[1,2,3], [2,1,3], [4,0,1]]\n",
    "x.sort(key=lambda x:x[1])\n",
    "x"
   ]
  },
  {
   "cell_type": "markdown",
   "metadata": {},
   "source": [
    "## 2.5 - Other List Operations\n",
    "\n",
    "##### Uisng 'in' keyword to check of an element exisits in a list\n",
    "\n",
    "Using the Python keyword 'in' can easily check if an element exists in a list.\n",
    "\n",
    "e.g.\n",
    "\n",
    "``` Python\n",
    "3 in [1,3,4,5]  # return True\n",
    "\n",
    "3 not in [1,3,4,5]  # return False\n",
    "\n",
    "3 in ['one', 'two', 'three']  # return False\n",
    "\n",
    "3 not in ['one', 'two', 'three']  # return True\n",
    "```\n",
    "\n",
    "##### Using \"+\" to cast two lists\n",
    "\n",
    "To cast two lists and builidng a new one, we can use the mathematical operator \"+\", which will not change the original lists.\n",
    "\n",
    "e.g.\n",
    "\n",
    "``` Python\n",
    "z = [1,2,3] + [4,5,6]\n",
    "z  # return [1,2,3,4,5,6]\n",
    "```\n",
    "\n",
    "##### Using \" * \" to create a standardized list\n",
    "\n",
    "The multiplcation operator \"*\" can be used as the positional expansion opeartor.  We know that we can use append( ) method for adding new element(s) to a list object, but it would be more efficient to run an application by defining the length of the list (if we know the length needed in advance).\n",
    "\n",
    "e.g.\n",
    "\n",
    "``` Python\n",
    "z = [None] * 4\n",
    "z  # return [None, None, None, None]\n",
    "```\n",
    "\n",
    "As you can imagine, we can also create a new list by using the list multiplication operator by copying a list and casting into a new list.\n",
    "\n",
    "e.g.\n",
    "\n",
    "``` Python\n",
    "z = [4, 7, 9] * 2\n",
    "z  # return [4, 7. 9 4, 7, 9]\n",
    "```\n",
    "\n",
    "#####  Using min( ) and max( ) methods to find the minimum and maximum element\n",
    "\n",
    "Python built-in methods min( ) and max( ) methods can be used to find the minimum and the maximum element from a list.  Note that if the elements in the list are not comparable, for example, a list contains numbers and strings, it will return an error message.\n",
    "\n",
    "e.g.\n",
    "``` Python\n",
    "x = [3, 8, 0, -3, 11, -8]\n",
    "min(x)  # return -8\n",
    "max(x)  # return 11\n",
    "\n",
    "x.append('two')\n",
    "min(x)  # TypeError Message\n",
    "```\n",
    "\n",
    "##### Using index( ) method to find the index of an element from a list\n",
    "\n",
    "The index( ) method searches an element in the list and returns its index.  In simple terms, the index( ) method finds the given element in a list and returns its position.  Note that if the same element is present more than once, the method returns the index of the first occurrence of the element.\n",
    "\n",
    "e.g.\n",
    "``` Python\n",
    "x = [1, 3, 'five', 7, -2]\n",
    "x.index(7)  # return 3\n",
    "\n",
    "x.index(5)  # return ValueError Message\n",
    "```\n",
    "\n",
    "##### Using count( ) method to find the frequency count of a given object occur in a list\n",
    "\n",
    "Python built-in count( ) method returns count of how many times a given object occurs in a list or the number of occurances of an element in a list. count( ) method requires a signle argument, which is the element whose count is to be found in a list.\n",
    "\n",
    "e.g.\n",
    "``` Python\n",
    "x = [1,2,2,3,5,2,5]\n",
    "x.count(2)  # return 3\n",
    "x.count(5)  # return 2\n",
    "x.count(4)  # return 0\n",
    "```"
   ]
  },
  {
   "cell_type": "code",
   "execution_count": null,
   "metadata": {},
   "outputs": [],
   "source": [
    "# Try it yourself!\n",
    "\n",
    "# What would be the return value of len([[2,1]] * 3)?\n",
    "\n",
    "\n",
    "# What's the different between Python keyword \"in\" and index( ) method?\n",
    "\n",
    "\n",
    "# Which of the following will cause an error?\n",
    "\n",
    "min(['a', 'b', 'c'])\n",
    "\n",
    "max([1, 2, 'three'])\n",
    "\n",
    "[1, 2, 3].count('one')\n",
    "\n",
    "# Suppose there is a list, we are writing a program to remove a given element from the list safely,\n",
    "# which we need to check for the existence of the element before removing.\n",
    "\n",
    "\n",
    "# Change the above program and only remove element that only occur in the list\n",
    "# more than one time.\n",
    "\n"
   ]
  },
  {
   "cell_type": "markdown",
   "metadata": {},
   "source": [
    "## 2.6 - Multi-Layer List Object and Deepcopy\n",
    "\n",
    "In this section, we are getting into an intermediate topic: multi-layer list (or nested list).  For beginner, you can skip this part and come back in the later time.  Nested list is usually applied for matrix calculation.  We can imagine a two-dimensional 3 x 3 matrix expressed below,\n",
    "\n",
    "e.g. 3 x 3 matrix\n",
    "``` Python\n",
    "m = [[0, 1, 2], [10, 11, 12], [20, 21, 22]]\n",
    "m[0]  # return the first row of the matrix\n",
    "m[0][1]  # return the second element from the first row\n",
    "m[2]  # return the third row of the matrix\n",
    "m[2][2]  # return the third element from the third row\n",
    "```"
   ]
  },
  {
   "cell_type": "code",
   "execution_count": null,
   "metadata": {},
   "outputs": [],
   "source": [
    "m = [[0, 1, 2], [10, 11, 12], [20, 21, 22]]\n",
    "m[0]  # return the first row of the matrix\n"
   ]
  },
  {
   "cell_type": "code",
   "execution_count": null,
   "metadata": {},
   "outputs": [],
   "source": [
    "m[0][1]  # return the second element from the first row\n"
   ]
  },
  {
   "cell_type": "code",
   "execution_count": null,
   "metadata": {},
   "outputs": [],
   "source": [
    "m[2]  # return the third row of the matrix\n"
   ]
  },
  {
   "cell_type": "code",
   "execution_count": null,
   "metadata": {},
   "outputs": [],
   "source": [
    "m[2][2]  # return the third element from the third row\n"
   ]
  },
  {
   "cell_type": "markdown",
   "metadata": {},
   "source": [
    "In some cases, we may encounter a problem of changing the assignment to a nested list.  For example,\n",
    "\n",
    "``` Python\n",
    "nested = [0]\n",
    "original = [nexted, 1]\n",
    "original  # return [[0], 1]\n",
    "```\n",
    "\n",
    "In this example, the original list is referencing the nested list.  When we change the element in either one, the nested list will also be changed.\n",
    "\n",
    "``` Python\n",
    "nested[0] = 'zero'\n",
    "original  # return [['zero'], 1]\n",
    "original[0][0] = 0\n",
    "nested  # return [0]\n",
    "original  # return [[0], 1]\n",
    "```\n",
    "\n",
    "To break the connection between the nested list and original list by assigning a new list object to nested list.  Now, changing the value in the nested list will not have any impact to the original list.\n",
    "\n",
    "``` Python\n",
    "nested = [2]\n",
    "original  # return [[0], 1]\n",
    "```"
   ]
  },
  {
   "cell_type": "code",
   "execution_count": null,
   "metadata": {},
   "outputs": [],
   "source": [
    "# Creating a nested list\n",
    "nested = [0]\n",
    "original = [nexted, 1]\n",
    "original  # return [[0], 1]"
   ]
  },
  {
   "cell_type": "code",
   "execution_count": null,
   "metadata": {},
   "outputs": [],
   "source": [
    "# Changing the element in the nested list\n",
    "nested[0] = 'zero'\n",
    "# Since original list is referencing the nested list,\n",
    "# so the original list will be affected.\n",
    "original  # return [['zero'], 1]"
   ]
  },
  {
   "cell_type": "code",
   "execution_count": null,
   "metadata": {},
   "outputs": [],
   "source": [
    "# Changing the element in the original list\n",
    "# The nested list will also be affected.\n",
    "original[0][0] = 0\n",
    "nested  # return [0]\n",
    "original  # return [[0], 1]"
   ]
  },
  {
   "cell_type": "code",
   "execution_count": null,
   "metadata": {},
   "outputs": [],
   "source": [
    "# Assigning a new list object to nested\n",
    "# Now, nested is referencing a new list, but not the value 0.\n",
    "nested = [2]\n",
    "original  # return [[0], 1]"
   ]
  },
  {
   "cell_type": "markdown",
   "metadata": {},
   "source": [
    "#### deepcopy( )\n",
    "\n",
    "We have mentioned about using slice to copy a list or using '+' or '*' operators to copy a list.  The methods mentioned is called \"shallow copy', which should satisfy most of the application need.  However, if we are trying to copy a nested list, it is possible we may need to use a deep copy.  In those cases, we need to import the **copy** package and using the deepcopy( ) function.\n",
    "\n",
    "Reference: https://docs.python.org/3/library/copy.html\n",
    "\n",
    "e.g.\n",
    "``` Python\n",
    "original = [[0], 1]\n",
    "shallow = original[:]\n",
    "import copy\n",
    "deep = copy.depcopy(original)\n",
    "```\n",
    "\n",
    "Shallow copy constructs a new compound object and then (to the extent possible) inserts **reference** into it to the objects found in the original.  In this example, both original and shallow element is referencing the same second layer list [0].  Changing the second layer list in either one will affect the other.\n",
    "\n",
    "e.g.\n",
    "``` Python\n",
    "shallow[1] = 2\n",
    "shallow  # return [[0], 2]\n",
    "# The first layar is copied, so changing the element in the first layer \n",
    "# will not affect the original list.\n",
    "original  # return [[0], 1]\n",
    "\n",
    "shallow[0][0] = 'zero'\n",
    "shallow  # return [['zero'], 2]\n",
    "# The second layer of both original and shallow are referencing to a \n",
    "# list [0], not copied, so changing the element in the second layer \n",
    "# will affect the original list.\n",
    "original  # return [['zero'], 1]\n",
    "```\n",
    "\n",
    "On the other hand, a deep copy constructs a new compound object and then, recursively, inserts **copies** into it of the objects found in the original.  Changing the element in a deep copy will not affect the orignal list.\n",
    "\n",
    "e.g.\n",
    "``` Python\n",
    "deep[0][0] = 5\n",
    "deep  # [[5], 1]\n",
    "original  # [['zero'], 1]\n",
    "```"
   ]
  },
  {
   "cell_type": "code",
   "execution_count": null,
   "metadata": {},
   "outputs": [],
   "source": [
    "original = [[0], 1]\n",
    "shallow = original[:]\n",
    "import copy\n",
    "deep = copy.depcopy(original)"
   ]
  },
  {
   "cell_type": "code",
   "execution_count": null,
   "metadata": {},
   "outputs": [],
   "source": [
    "shallow[1] = 2\n",
    "shallow  # return [[0], 2]\n",
    "# The first layar is copied, so changing the element in the first layer \n",
    "# will not affect the original list.\n",
    "original  # return [[0], 1]"
   ]
  },
  {
   "cell_type": "code",
   "execution_count": null,
   "metadata": {},
   "outputs": [],
   "source": [
    "shallow[0][0] = 'zero'\n",
    "shallow  # return [['zero'], 2]\n",
    "# The second layer of both original and shallow are referencing to a \n",
    "# list [0], not copied, so changing the element in the second layer \n",
    "# will affect the original list.\n",
    "original  # return [['zero'], 1]"
   ]
  },
  {
   "cell_type": "code",
   "execution_count": null,
   "metadata": {},
   "outputs": [],
   "source": [
    "deep[0][0] = 5\n",
    "deep  # [[5], 1]\n",
    "original  # [['zero'], 1]"
   ]
  },
  {
   "cell_type": "code",
   "execution_count": null,
   "metadata": {},
   "outputs": [],
   "source": [
    "# Try it yourself!\n",
    "\n",
    "# Suppose there is a list:\n",
    "x = [[1,2,3], [4,5,6], [7,8,9]]\n",
    "\n",
    "# Write a program to copy the list and assign to variable y.\n",
    "# And changing any element in y will have no affect to the original list x.\n",
    "\n"
   ]
  },
  {
   "cell_type": "markdown",
   "metadata": {},
   "source": [
    "## 2.7 - Tuple\n",
    "\n",
    "**Tuple** is a similar Python data type to a **list**, however, a **tuple** can only be created and cannot be modified. Generally speaking, **list** is a mutable objects which means it can be modified after it has been created.  A **tuple** is immutable objects which cannot be modified after it has been created.  \n",
    "\n",
    "The question is that if we alreayd have a mutable **list**, why Python create the **tuple** collection?  The reason is that **tuple** has a very important role in data science and programming, which cannot be replaced by a list object.  For instance,\n",
    "\n",
    "1. Program execution is faster hwen manipulating a tuple that it is for the equivalent list. \n",
    "\n",
    "2. Sometimes we don't want data to be modified.  If the values in the collection are meant to remain constant for the life of the program, using a tuple instead of a list guards against accidental modification.\n",
    "\n",
    "3. There is another Python data type called a dictionary, which requires as one of its components a value that is of an immutable type.  A tuple can be used for this purpose, whereas list can't be.\n",
    "\n",
    "Reference: https://docs.python.org/3.4/c-api/tuple.html\n",
    "\n",
    "Create a **tuple** in Python, instead of using the square bracket [ ], it is defined by enclosing the elements in parentheses ( ).  \n",
    "\n",
    "e.g. Create a tuple with three elements\n",
    "\n",
    "``` Python\n",
    "x = ('a', 'b', 'c')\n",
    "```\n",
    "\n",
    "Once the tuple is created, the methods apply to a list also apply to a tuple since both are \"sequences\" type, which means each item in the sequence is accessible by index or slice.  \n",
    "\n",
    "Note: It is easy to confuse with the parentheses and the square brackets when indexing or slicing a tuple.  A tuple is created by using a parentheses, but it is accessed by the square brackets [ ].\n",
    "\n",
    "e.g. \n",
    "``` Python\n",
    "# Search an element by its index\n",
    "x[2]  # return 'c'\n",
    "\n",
    "# Search elements by slice method\n",
    "x[1:]  # return ('b', 'c')\n",
    "\n",
    "# Check the length of the tuple\n",
    "len(x)  # return 3\n",
    "\n",
    "# Find the minimum or maximum value in the tuple\n",
    "min(x)  # return 'a'\n",
    "max(x)  # return 'c'\n",
    "\n",
    "# Check if an element exist in the tuple\n",
    "5 in x  # return False\n",
    "5 not in x  # return True\n",
    "```\n"
   ]
  },
  {
   "cell_type": "code",
   "execution_count": null,
   "metadata": {},
   "outputs": [],
   "source": [
    "# Create a tuple with 3 elements\n",
    "x = ('a', 'b', 'c')"
   ]
  },
  {
   "cell_type": "code",
   "execution_count": null,
   "metadata": {},
   "outputs": [],
   "source": [
    "# Search an element by its index\n",
    "x[2] "
   ]
  },
  {
   "cell_type": "code",
   "execution_count": null,
   "metadata": {},
   "outputs": [],
   "source": [
    "# Search elements by slice method\n",
    "x[1:] "
   ]
  },
  {
   "cell_type": "code",
   "execution_count": null,
   "metadata": {},
   "outputs": [],
   "source": [
    "# Check the length of the tuple\n",
    "len(x) "
   ]
  },
  {
   "cell_type": "code",
   "execution_count": null,
   "metadata": {},
   "outputs": [],
   "source": [
    "# Find the minimum value in the tuple\n",
    "min(x) \n",
    "max(x)"
   ]
  },
  {
   "cell_type": "code",
   "execution_count": null,
   "metadata": {},
   "outputs": [],
   "source": [
    "# Check if an element exist in the tuple\n",
    "5 in x  \n",
    "5 not in x "
   ]
  },
  {
   "cell_type": "markdown",
   "metadata": {},
   "source": [
    "The major different between a **list** and a **tuple** is that **tuple** is immutable.  When trying to modify a **tuple**, an error message will return to indicate Python does not support assign action to a **tuple**.\n",
    "\n",
    "``` Python\n",
    "# Modify the last element in the tuple\n",
    "x[2] = 'd'  # TypeError Message\n",
    "```"
   ]
  },
  {
   "cell_type": "code",
   "execution_count": null,
   "metadata": {},
   "outputs": [],
   "source": [
    "# Modify the last element in the tuple\n",
    "x[2] = 'd'"
   ]
  },
  {
   "cell_type": "markdown",
   "metadata": {},
   "source": [
    "Similar to a list, we can also use the mathematical operators to stack two tuples or multiply a single tuple to create a new tuple.\n",
    "\n",
    "e.g.\n",
    "\n",
    "``` Python\n",
    "# Slice the first two elements from a tuple\n",
    "x[:2]  # return ('a', 'b'])\n",
    "\n",
    "# Stack the tuple onto another one\n",
    "x + x  # return ('a', 'b', 'c', 'a', 'b', 'c')\n",
    "\n",
    "# Repeat the tuple by two times\n",
    "x * 2  # return ('a', 'b', 'c', 'a', 'b', 'c')\n",
    "\n",
    "# Create a new tuple by adding two individual tuples\n",
    "x + (1, 2)  # return ('a', 'b', 'c', 1, 2)```\n"
   ]
  },
  {
   "cell_type": "code",
   "execution_count": null,
   "metadata": {},
   "outputs": [],
   "source": [
    "# Slice the first two elements from a tuple\n",
    "x[:2]"
   ]
  },
  {
   "cell_type": "code",
   "execution_count": null,
   "metadata": {},
   "outputs": [],
   "source": [
    "# Stack the tuple onto another one\n",
    "x + x "
   ]
  },
  {
   "cell_type": "code",
   "execution_count": null,
   "metadata": {},
   "outputs": [],
   "source": [
    "# Repeat the tuple by two times\n",
    "x * 2"
   ]
  },
  {
   "cell_type": "code",
   "execution_count": null,
   "metadata": {},
   "outputs": [],
   "source": [
    "# Create a new tuple by adding two individual tuples\n",
    "x + (1, 2)"
   ]
  },
  {
   "cell_type": "markdown",
   "metadata": {},
   "source": [
    "##### tuple with single element needs a comma\n",
    "\n",
    "There is a special syntax rule we need to be careful when using a tuple:  because a square bracket in Python has no specific application, it is obvious when we are creating a list, [ ] means an empty list, and [8] is a list with single element.  However, parentheses ( ) is widely used in mathematic operations, such that when writing a Python code, (x + y) means adding x and y before putting the combine object to a tuple or using it as a priority operator.\n",
    "\n",
    "To resolve the issue mentioned above, Python requires the trailing comma (or comma at the end) for a single element tuple.  Let's take a look of an example.\n",
    "\n",
    "e.g.\n",
    "\n",
    "``` Python\n",
    "x = 3\n",
    "y = 4\n",
    "\n",
    "# Adding two elements\n",
    "(x + y)  # return 7\n",
    "\n",
    "# Create a single element tuple with the sum of the two elements\n",
    "(x+y, )  # return (7, )\n",
    "\n",
    "# Create an empty element\n",
    "()  # return ( )\n",
    "```"
   ]
  },
  {
   "cell_type": "markdown",
   "metadata": {},
   "source": [
    "##### Packing and Unpacking of Tuples\n",
    "\n",
    "Python has tuple assignment feature which enables users to assign more than one variable at a time. Here is an example to assign multiple elements to multiple variables by their positions.\n",
    "\n",
    "e.g. Assigning 4 elements to 4 variables by tuple assignment\n",
    "\n",
    "``` Python\n",
    "(one, two, three, four) = (1, 2, 3, 4)\n",
    "one  # return 1\n",
    "three  # return 3\n",
    "\n",
    "# The assignment can be re-written as the following,\n",
    "one, two , three, four = 1, 2, 3, 4\n",
    "\n",
    "# One line of code now replacing four lines of code\n",
    "one = 1\n",
    "two = 2\n",
    "three = 3\n",
    "four = 4\n",
    "```\n",
    "\n",
    "In the previous example, Python automatically **packs** the data on the right-hand side of the equal sign into a tuple (**Packing**) and assign them to the variable on the left-hand side of the equal sign,then automatically **unpack** the data to each assignment (**Unpacking**).\n",
    "\n",
    "``` Python\n",
    "one, two, three, four = 1, 2, 3, 4  # packing 1, 2, 3, 4 into a tuple (1, 2, 3, 4)\n",
    "\n",
    "one, two, three, four = (1, 2, 3, 4)  # unpacking (1, 2, 3, 4) and assign to each variable on the left\n",
    "```\n",
    "\n",
    "This feature is especially important when apply to swapping two variables.  In Python, we do not need to write our code like following:\n",
    "\n",
    "``` Python\n",
    "temp = var1\n",
    "var1 = var2\n",
    "var2 = temp\n",
    "```\n",
    "\n",
    "Instead, we can write one line of code for the same purpose.\n",
    "\n",
    "``` Python\n",
    "var1, var2 = var2, var1\n",
    "```"
   ]
  },
  {
   "cell_type": "code",
   "execution_count": null,
   "metadata": {},
   "outputs": [],
   "source": [
    "# Packing and Unpacking also applies to differet squence data structures\n",
    "\n",
    "# Tuple \n",
    "v1, v2, v3 = 1, 2, 3\n",
    "\n",
    "# List\n",
    "v1, v2, v3 = [1, 2, 3]\n",
    "\n",
    "# String\n",
    "v1, v2, v3 = \"abc\""
   ]
  },
  {
   "cell_type": "markdown",
   "metadata": {},
   "source": [
    "Packing and Unpacking not only supports multiple assignment, it can also apply to the Python control flow tools. Here is an example to demostrate how a function return a user data by its id.\n",
    "\n",
    "``` Python\n",
    "def get_user_info(id):\n",
    "    # using the user ID to retrieve the user data\n",
    "    return name, age, e-mail\n",
    "\n",
    "# the get_user_info() function is going to return three elements\n",
    "name, age, e-mail = get_user_info(id)\n",
    "```\n",
    "\n",
    "In this example, Python is packing the three elements from the return of the function into a tuple object, so the actualy return object is only one.  We can also apply this function to a for loop to retrieve user infomation and assign them into three variables.\n",
    "\n",
    "In other programming languages, such as C and Java, function can only return a single object.  If we need multiple elements return from a function, we need to assign them into a matrix, list object, vector object, etc.  Python Packing and Unpacking logic offers a cleaner or more elegant solution."
   ]
  },
  {
   "cell_type": "markdown",
   "metadata": {},
   "source": [
    "##### Unmatch Assignment\n",
    "\n",
    "When assigning to multiple variables, make sure the number of elements matches with the variables.  If the number of element on the right-hand side does not match with the number of variables on the left-hand side, an error message will return.\n",
    "\n",
    "e.g.\n",
    "\n",
    "``` Python\n",
    "one, two, three = 1, 2, 3, 4  # error message return\n",
    "```\n",
    "\n",
    "To avoid such problem, Python allows to use \"*\" to absorb the extra elements.\n",
    "\n",
    "e.g.\n",
    "``` Python\n",
    "x = (1, 2, 3, 4)\n",
    "a, b, c* = x\n",
    "a, b, c  # return (1, 2, [3, 4])\n",
    "\n",
    "a, b*, c = x\n",
    "a, b, c  # return (1, [2, 3], 4)\n",
    "\n",
    "a*, b, c = x\n",
    "a, b, c  # return ([1, 2], 3, 4)\n",
    "\n",
    "a, b, c, d, e* = x\n",
    "a, b, c, d, e  # return (1, 2, 3, 4, [])\n",
    "```\n",
    "\n",
    "Note: Adding * to the variable allows the variable to absorb all the extra element and assign them to a list.  If no extra element to be absorbed, an empty list will return.\n",
    "\n",
    "For some Python programmer, if only numbers of specific elements are needed to be assigned, they will usually create a \"**place holder**\" for assigning the unused elements.  Here is an example.\n",
    "\n",
    "e.g. \n",
    "\n",
    "``` Python\n",
    "x = (1, 2, 3, 4, 5)\n",
    "\n",
    "# Only assign the first two elements from a tuple\n",
    "a, b, *_ = x\n",
    "```\n",
    "In this case, the underscore \"_\" is just like a place holder, so the last three elements will not be assigned to anything.\n",
    "\n",
    "You can also use tuple and list to pack or unpack data manually.  Here are some examples.\n",
    "\n",
    "e.g.\n",
    "\n",
    "``` Python\n",
    "[a, b] = [1, 2]\n",
    "[c, d] = 3, 4\n",
    "[e, f] = (5, 6)\n",
    "(g, h) = 7, 8\n",
    "i, j = [9, 10]\n",
    "k, l = (11, 12)\n",
    "\n",
    "a  # return 1\n",
    "\n",
    "[b, c, d]  # return [2, 3, 4]\n",
    "\n",
    "(e, f, g)  # return (5, 6, 7)\n",
    "\n",
    "h, i, j, k, l  # return (8, 9, 10, 11, 12)\n",
    "```"
   ]
  },
  {
   "cell_type": "code",
   "execution_count": null,
   "metadata": {},
   "outputs": [],
   "source": [
    "# an error message will return if the two sides are not match with number\n",
    "one, two, three = 1, 2, 3, 4"
   ]
  },
  {
   "cell_type": "code",
   "execution_count": null,
   "metadata": {},
   "outputs": [],
   "source": [
    "# To avoid such problem, Python allows to use \"*\" to absorb the extra elements\n",
    "x = (1, 2, 3, 4)\n",
    "a, b, c* = x\n",
    "a, b, c"
   ]
  },
  {
   "cell_type": "code",
   "execution_count": null,
   "metadata": {},
   "outputs": [],
   "source": [
    "a, b*, c = x\n",
    "a, b, c"
   ]
  },
  {
   "cell_type": "code",
   "execution_count": null,
   "metadata": {},
   "outputs": [],
   "source": [
    "a*, b, c = x\n",
    "a, b, c"
   ]
  },
  {
   "cell_type": "code",
   "execution_count": null,
   "metadata": {},
   "outputs": [],
   "source": [
    "a, b, c, d, e* = x\n",
    "a, b, c, d, e"
   ]
  },
  {
   "cell_type": "markdown",
   "metadata": {},
   "source": [
    "##### Switching  between tuple and list\n",
    "\n",
    "Using a list( ) function, we can switch a tuple into a list object.  The list( ) function also applies to any sequence data structure and create the same sequence list object.  On the other hand, the tuple( ) function can turn any seqence data structure (including list object) into a tuple.  Here are some examples.\n",
    "\n",
    "e.g.\n",
    "``` Python\n",
    "list((1, 2, 3, 4))  # return [1, 2, 3, 4]\n",
    "tuple([1, 2, 3, 4])  # return (1, 2, 3, 4)\n",
    "```\n",
    "\n",
    "An interesting application for using the list( ) or tuple( ) functions is that it can split a string efficiently.\n",
    "\n",
    "e.g.\n",
    "``` Python\n",
    "list(\"Hello\")  # return [\"H\", \"e\", \"l\", \"l\", \"o\"]\n",
    "tuple(\"Hello\")  # return (\"H\", \"e\", \"l\", \"l\", \"o\")"
   ]
  },
  {
   "cell_type": "code",
   "execution_count": null,
   "metadata": {},
   "outputs": [],
   "source": [
    "# Try it yourself!\n",
    "\n",
    "# Explain why the following operations do not apply to a tuple x = (1, 2, 3, 4)\n",
    "x.append(1)\n",
    "x[1] = \"hello\"\n",
    "del x[2]\n",
    "\n",
    "# Suppose we have a tuple x = (3, 1, 4, 2), how are we going to sort the order of this tuple?\n",
    "x = (3, 1, 4, 2)\n",
    "\n"
   ]
  },
  {
   "cell_type": "markdown",
   "metadata": {},
   "source": [
    "## 2.8 - Set\n",
    "\n",
    "A Set is an unordered collection data type that is iterable, mutable and has no duplicate elements.  Python set class represents the mathematical notion of a set.  A set can be created by placing a comma-separated list of elements within braces (or curly brackets).  We can use Since sets are unordered, we cannot access items using index or slice like we do in lists or tuples. Some of the operations we used on lists or tuples still apply to the sets.  Here are some operation examples.\n",
    "\n",
    "Reference: https://docs.python.org/3/library/stdtypes.html#set-type-set-frozenset\n",
    "\n",
    "e.g.\n",
    "``` Python\n",
    "# Create a set with braces or curly brackets\n",
    "x = {1, 2, 1, 2, 1, 2, 1, 2}\n",
    "x  # return {1, 2}\n",
    "\n",
    "# We can also create a set with set( ) function\n",
    "x = set([1, 2, 3, 1, 2, 3, 1, 2, 3])\n",
    "x  # return {1, 2, 3}\n",
    "\n",
    "# We can use add( ) function to add element to a set\n",
    "x.add(6)\n",
    "x  # return {1, 2, 3, 6}\n",
    "\n",
    "# We can use remove( ) function to remove element from a set\n",
    "x.remove(3)\n",
    "x  # return {1, 2, 6}\n",
    "\n",
    "# We can use Python keyword \"in\" to check if an element exists in a set\n",
    "4 in x  # return False\n",
    "1 in x  # return True\n",
    "\n",
    "# We can use \"|\" to return the collection of element from two sets (similar to OR logic operation)\n",
    "y = {1, 7, 9}\n",
    "x | y  # return {1, 2, 6, 7, 9}\n",
    "\n",
    "# Use \"&\" to return the intercept elements from two sets\n",
    "x & y  # return {1}\n",
    "\n",
    "# Use \"^\" to find the symmeric difference collection (similar to XOR)\n",
    "x ^ y  # return {2, 6, 7, 9}\n",
    "```\n",
    "\n",
    "#####  frozenset\n",
    "\n",
    "As mentioned above, elements in a set must be an immutable data type.  However, set itself is mutable, therefore, a set cannot be assigned to another set.  To resolve this issue, Python provide a data type called \"frozenset\", which is an immutable set and can be assigned to anothe set.  Here is an example.\n",
    "\n",
    "e.g.\n",
    "\n",
    "``` Python\n",
    "x = set([1, 2, 3, 1, 3, 5])\n",
    "z = frozenset(x)\n",
    "z  # return frozenset({1, 2, 3, 5})\n",
    "\n",
    "z.add(6)  # return an error message because it is immutable\n",
    "\n",
    "# Adding an immutable set z to a mutable set x\n",
    "x.add(z)\n",
    "x  # return {1, 2, 3, 5, fronzenset({1, 2, 3, 5})}\n",
    "```"
   ]
  },
  {
   "cell_type": "code",
   "execution_count": null,
   "metadata": {},
   "outputs": [],
   "source": [
    "# Try it yourself!!\n",
    "\n",
    "# If we are using below list to create a set, how many elements will be in the set?\n",
    "\n",
    "[1, 2, 5, 1, 0, 2, 3, 1, 1, (1, 2, 3)]\n"
   ]
  }
 ],
 "metadata": {
  "kernelspec": {
   "display_name": "Python 3",
   "language": "python",
   "name": "python3"
  },
  "language_info": {
   "codemirror_mode": {
    "name": "ipython",
    "version": 3
   },
   "file_extension": ".py",
   "mimetype": "text/x-python",
   "name": "python",
   "nbconvert_exporter": "python",
   "pygments_lexer": "ipython3",
   "version": "3.7.1"
  }
 },
 "nbformat": 4,
 "nbformat_minor": 2
}
