{
 "cells": [
  {
   "cell_type": "markdown",
   "metadata": {},
   "source": [
    "## Lesson 2 - Basic Data Structure\n",
    "\n",
    "* 2.1 - List\n",
    "* 2.2 - Index and Slice\n",
    "* 2.3 - Common Methods for List\n",
    "* 2.4 - List Sort\n",
    "* 2.5 - Other List Operations\n",
    "* 2.6 - Multiple Layers List and DeepCopy\n",
    "* 2.7 - Tuple\n",
    "* 2.8 - Set\n",
    "\n",
    "In this section, we focus on discussing the basic data structure in Python: **List**, **Tuple**, and **Set**.  We will discuss **Dictionary** in the later section.  First of all, many people refer the Python \"list\" as an array in other programming language, however, You should know that the Python \"list\" is a much flexible and powerful data structure compares to an array in different programming language.  A \"tuple', on the other hand, is basically an **immutable** list.  We are going to discuss some situation when we need an immutable list, tuple.  \n",
    "\n",
    "This section also discuss a relatively new Python data structure: **set**, which is an unordered collection data type that is iterable, mutable, and has no duplicate elements."
   ]
  },
  {
   "cell_type": "markdown",
   "metadata": {},
   "source": [
    "## 2.1 - List\n",
    "\n",
    "A Python **list** is similar to an **array** in C, Java, and other programming languages, which is an ordered mutable collection of objects. A list is created by placing all the items (elements) inside a square bracket [ ], separated by commas.  \n",
    "\n",
    "Reference: https://docs.python.org/3/tutorial/datastructures.html\n",
    "\n",
    "Here is an example of a list.\n",
    "\n",
    "``` Python\n",
    "# Create a list with 3 elements and assign it to variable x\n",
    "x = [1, 2, 3]\n",
    "```\n",
    "\n",
    "It's worth to note that, unlike other programming languages, we do not need to define the type of the elements to be store in a list or the length of the list.  \n",
    "\n",
    "Python also has similar array module like in C.  Here is a documentation if you are interested in it.\n",
    "\n",
    "Reference: https://docs.python.org/3/library/array.html"
   ]
  },
  {
   "cell_type": "code",
   "execution_count": 1,
   "metadata": {},
   "outputs": [],
   "source": [
    "# Create a list with 3 elements and assign it to variable x\n",
    "x = [1, 2, 3]"
   ]
  },
  {
   "cell_type": "markdown",
   "metadata": {},
   "source": [
    "Python list is different to an array in other programming lauguages: it can store different type of data, in another word, list elements can be any Python objects.  Here is an example of storing different types of elements in a single list.\n",
    "\n",
    "``` Python\n",
    "# Create a list that includes integer, string, and another list of intergers.\n",
    "x = [2, 'two', [1, 2, 3]]\n",
    "```"
   ]
  },
  {
   "cell_type": "code",
   "execution_count": 2,
   "metadata": {},
   "outputs": [],
   "source": [
    "# Create a list that includes integer, string, and another list of intergers.\n",
    "x = [2, 'two', [1, 2, 3]]"
   ]
  },
  {
   "cell_type": "markdown",
   "metadata": {},
   "source": [
    "#### Number of elements in a list?\n",
    "\n",
    "len() is one of the most common function used for a list, it generally returns the number of items in an object. When the object is a list, the len() function returns the number of elements in the list.\n",
    "\n",
    "e.g. Count the number of elements in list x\n",
    "\n",
    "``` Python\n",
    "x = [2, 'two', [1, 2, 3]]\n",
    "len(x)  # return 3 items in the list\n",
    "```\n",
    "\n",
    "Intuition: The first element in the list is an interger 2. The second element in a string \"two\".  And the third element is a list [1, 2, 3]\n",
    "\n",
    "Note: len() function only returns the number of elements in the first layer of the list.  In the previous example, the return value should be 3 because it won't count the elements in the second layer list."
   ]
  },
  {
   "cell_type": "code",
   "execution_count": 3,
   "metadata": {},
   "outputs": [
    {
     "data": {
      "text/plain": [
       "3"
      ]
     },
     "execution_count": 3,
     "metadata": {},
     "output_type": "execute_result"
    }
   ],
   "source": [
    "# Count the number of elements in list x\n",
    "x = [2, 'two', [1, 2, 3]]\n",
    "len(x)"
   ]
  },
  {
   "cell_type": "code",
   "execution_count": null,
   "metadata": {},
   "outputs": [],
   "source": [
    "# Try it yourself!\n",
    "\n",
    "# Use the len() function to find out the number of elements in each of the list.\n",
    "\n",
    "x = [0]\n",
    "\n",
    "\n",
    "y = []\n",
    "\n",
    "\n",
    "z = [[1, 3, [4, 5], 6], 7]\n",
    "\n"
   ]
  },
  {
   "cell_type": "markdown",
   "metadata": {},
   "source": [
    "## 2.2 - Index and Slice\n",
    "\n",
    "The method used to find or retrieve an element from a list is similar to C, which uses an **index** [n] for n position in the list. Python uses a zero-base indexing system, meaning that the first element in a sequence is located at position 0.\n",
    "\n",
    "Here is the example,\n",
    "\n",
    "``` Python\n",
    "# Create a list with 4 string elements\n",
    "x = [\"first\", \"second\", \"third\", \"fourth\"]\n",
    "\n",
    "# Find the first element \"first\" from the list\n",
    "x[0]  # return a string \"first\"\n",
    "\n",
    "# Find the third element \"third\" from the list\n",
    "x[2]  # return a string \"third\"\n",
    "```"
   ]
  },
  {
   "cell_type": "code",
   "execution_count": 5,
   "metadata": {},
   "outputs": [],
   "source": [
    "# Create a list with 4 string elements\n",
    "x = [\"first\", \"second\", \"third\", \"fourth\"]"
   ]
  },
  {
   "cell_type": "code",
   "execution_count": 6,
   "metadata": {},
   "outputs": [
    {
     "data": {
      "text/plain": [
       "'first'"
      ]
     },
     "execution_count": 6,
     "metadata": {},
     "output_type": "execute_result"
    }
   ],
   "source": [
    "# Find the first element \"first\" from the list\n",
    "x[0]"
   ]
  },
  {
   "cell_type": "code",
   "execution_count": 7,
   "metadata": {},
   "outputs": [
    {
     "data": {
      "text/plain": [
       "'third'"
      ]
     },
     "execution_count": 7,
     "metadata": {},
     "output_type": "execute_result"
    }
   ],
   "source": [
    "# Find the third element \"third\" from the list\n",
    "x[2]"
   ]
  },
  {
   "cell_type": "markdown",
   "metadata": {},
   "source": [
    "If we are using a negative index, the count begins from the last element in the list, which -1 is pointing at the last element in the list, -2 will be the second to the last element, etc.  We can use the list in our previous example to demonstrate use of negative index.\n",
    "\n",
    "Here is the example,\n",
    "\n",
    "``` Python\n"
   ]
  },
  {
   "cell_type": "code",
   "execution_count": 8,
   "metadata": {},
   "outputs": [
    {
     "data": {
      "text/plain": [
       "'fourth'"
      ]
     },
     "execution_count": 8,
     "metadata": {},
     "output_type": "execute_result"
    }
   ],
   "source": [
    "# Assigne the last element from list x to variable a\n",
    "a = x[-1]\n",
    "\n",
    "# The string \"fourth\" should be assigned to variable a\n",
    "a"
   ]
  },
  {
   "cell_type": "code",
   "execution_count": 9,
   "metadata": {},
   "outputs": [
    {
     "data": {
      "text/plain": [
       "'third'"
      ]
     },
     "execution_count": 9,
     "metadata": {},
     "output_type": "execute_result"
    }
   ],
   "source": [
    "# Assign the second to the last element from list x to variable b\n",
    "b = x[-2]\n",
    "\n",
    "# The string \"third\" should be assigned to variable b\n",
    "b"
   ]
  },
  {
   "cell_type": "code",
   "execution_count": null,
   "metadata": {},
   "outputs": [],
   "source": []
  },
  {
   "cell_type": "code",
   "execution_count": null,
   "metadata": {},
   "outputs": [],
   "source": []
  },
  {
   "cell_type": "code",
   "execution_count": null,
   "metadata": {},
   "outputs": [],
   "source": []
  }
 ],
 "metadata": {
  "kernelspec": {
   "display_name": "Python 3",
   "language": "python",
   "name": "python3"
  },
  "language_info": {
   "codemirror_mode": {
    "name": "ipython",
    "version": 3
   },
   "file_extension": ".py",
   "mimetype": "text/x-python",
   "name": "python",
   "nbconvert_exporter": "python",
   "pygments_lexer": "ipython3",
   "version": "3.7.1"
  }
 },
 "nbformat": 4,
 "nbformat_minor": 2
}
