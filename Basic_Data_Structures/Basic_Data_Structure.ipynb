{
 "cells": [
  {
   "cell_type": "markdown",
   "metadata": {},
   "source": [
    "## Lesson 2 - Basic Data Structure\n",
    "\n",
    "* 2.1 - List\n",
    "* 2.2 - Index and Slice\n",
    "* 2.3 - Common Methods of List Object\n",
    "* 2.4 - List Sort\n",
    "* 2.5 - Other List Operations\n",
    "* 2.6 - Multiple Layers List and DeepCopy\n",
    "* 2.7 - Tuple\n",
    "* 2.8 - Set\n",
    "\n",
    "In this section, we focus on discussing the basic data structure in Python: **List**, **Tuple**, and **Set**.  We will discuss **Dictionary** in the later section.  First of all, many people refer the Python \"list\" as an array in other programming language, however, You should know that the Python \"list\" is a much flexible and powerful data structure compares to an array in different programming language.  A \"tuple', on the other hand, is basically an **immutable** list.  We are going to discuss some situation when we need an immutable list, tuple.  \n",
    "\n",
    "This section also discuss a relatively new Python data structure: **set**, which is an unordered collection data type that is iterable, mutable, and has no duplicate elements."
   ]
  },
  {
   "cell_type": "markdown",
   "metadata": {},
   "source": [
    "## 2.1 - List\n",
    "\n",
    "A Python **list** is similar to an **array** in C, Java, and other programming languages, which is an ordered mutable collection of objects. A list is created by placing all the items (elements) inside a square bracket [ ], separated by commas.  \n",
    "\n",
    "Reference: https://docs.python.org/3/tutorial/datastructures.html\n",
    "\n",
    "Here is an example of a list.\n",
    "\n",
    "``` Python\n",
    "# Create a list with 3 elements and assign it to variable x\n",
    "x = [1, 2, 3]\n",
    "```\n",
    "\n",
    "It's worth to note that, unlike other programming languages, we do not need to define the type of the elements to be store in a list or the length of the list.  \n",
    "\n",
    "Python also has similar array module like in C.  Here is a documentation if you are interested in it.\n",
    "\n",
    "Reference: https://docs.python.org/3/library/array.html"
   ]
  },
  {
   "cell_type": "code",
   "execution_count": 1,
   "metadata": {},
   "outputs": [],
   "source": [
    "# Create a list with 3 elements and assign it to variable x\n",
    "x = [1, 2, 3]"
   ]
  },
  {
   "cell_type": "markdown",
   "metadata": {},
   "source": [
    "Python list is different to an array in other programming lauguages: it can store different type of data, in another word, list elements can be any Python objects.  Here is an example of storing different types of elements in a single list.\n",
    "\n",
    "``` Python\n",
    "# Create a list that includes integer, string, and another list of intergers.\n",
    "x = [2, 'two', [1, 2, 3]]\n",
    "```"
   ]
  },
  {
   "cell_type": "code",
   "execution_count": 2,
   "metadata": {},
   "outputs": [],
   "source": [
    "# Create a list that includes integer, string, and another list of intergers.\n",
    "x = [2, 'two', [1, 2, 3]]"
   ]
  },
  {
   "cell_type": "markdown",
   "metadata": {},
   "source": [
    "#### Number of elements in a list?\n",
    "\n",
    "len() is one of the most common function used for a list, it generally returns the number of items in an object. When the object is a list, the len() function returns the number of elements in the list.\n",
    "\n",
    "e.g. Count the number of elements in list x\n",
    "\n",
    "``` Python\n",
    "x = [2, 'two', [1, 2, 3]]\n",
    "len(x)  # return 3 items in the list\n",
    "```\n",
    "\n",
    "Intuition: The first element in the list is an interger 2. The second element in a string \"two\".  And the third element is a list [1, 2, 3]\n",
    "\n",
    "Note: len() function only returns the number of elements in the first layer of the list.  In the previous example, the return value should be 3 because it won't count the elements in the second layer list."
   ]
  },
  {
   "cell_type": "code",
   "execution_count": 3,
   "metadata": {},
   "outputs": [
    {
     "data": {
      "text/plain": [
       "3"
      ]
     },
     "execution_count": 3,
     "metadata": {},
     "output_type": "execute_result"
    }
   ],
   "source": [
    "# Count the number of elements in list x\n",
    "x = [2, 'two', [1, 2, 3]]\n",
    "len(x)"
   ]
  },
  {
   "cell_type": "code",
   "execution_count": null,
   "metadata": {},
   "outputs": [],
   "source": [
    "# Try it yourself!\n",
    "\n",
    "# Use the len() function to find out the number of elements in each of the list.\n",
    "\n",
    "x = [0]\n",
    "\n",
    "\n",
    "y = []\n",
    "\n",
    "\n",
    "z = [[1, 3, [4, 5], 6], 7]\n",
    "\n"
   ]
  },
  {
   "cell_type": "markdown",
   "metadata": {},
   "source": [
    "## 2.2 - Index and Slice\n",
    "\n",
    "The method used to find or retrieve an element from a list is similar to C, which uses an **index** [n] for n position in the list. Python uses a zero-base indexing system, meaning that the first element in a sequence is located at position 0.\n",
    "\n",
    "Here is the example,\n",
    "\n",
    "``` Python\n",
    "# Create a list with 4 string elements\n",
    "x = [\"first\", \"second\", \"third\", \"fourth\"]\n",
    "\n",
    "# Find the first element \"first\" from the list\n",
    "x[0]  # return a string \"first\"\n",
    "\n",
    "# Find the third element \"third\" from the list\n",
    "x[2]  # return a string \"third\"\n",
    "```"
   ]
  },
  {
   "cell_type": "code",
   "execution_count": 5,
   "metadata": {},
   "outputs": [],
   "source": [
    "# Create a list with 4 string elements\n",
    "x = [\"first\", \"second\", \"third\", \"fourth\"]"
   ]
  },
  {
   "cell_type": "code",
   "execution_count": 6,
   "metadata": {},
   "outputs": [
    {
     "data": {
      "text/plain": [
       "'first'"
      ]
     },
     "execution_count": 6,
     "metadata": {},
     "output_type": "execute_result"
    }
   ],
   "source": [
    "# Find the first element \"first\" from the list\n",
    "x[0]"
   ]
  },
  {
   "cell_type": "code",
   "execution_count": 7,
   "metadata": {},
   "outputs": [
    {
     "data": {
      "text/plain": [
       "'third'"
      ]
     },
     "execution_count": 7,
     "metadata": {},
     "output_type": "execute_result"
    }
   ],
   "source": [
    "# Find the third element \"third\" from the list\n",
    "x[2]"
   ]
  },
  {
   "cell_type": "markdown",
   "metadata": {},
   "source": [
    "If we are using a negative index, the count begins from the last element in the list, which -1 is pointing at the last element in the list, -2 will be the second to the last element, etc.  We can use the list in our previous example to demonstrate use of negative index.\n",
    "\n",
    "Here is the example,\n",
    "\n",
    "``` Python\n",
    "# Assigne the last element from list x to variable a\n",
    "a = x[-1]\n",
    "\n",
    "# The string \"fourth\" should be assigned to variable a\n",
    "a  # return a string 'fourth'\n",
    "\n",
    "# Assign the second to the last element from list x to variable b\n",
    "b = x[-2]\n",
    "\n",
    "# The string \"third\" should be assigned to variable b\n",
    "b  # return a string 'third'\n",
    "```"
   ]
  },
  {
   "cell_type": "code",
   "execution_count": 8,
   "metadata": {},
   "outputs": [
    {
     "data": {
      "text/plain": [
       "'fourth'"
      ]
     },
     "execution_count": 8,
     "metadata": {},
     "output_type": "execute_result"
    }
   ],
   "source": [
    "# Assigne the last element from list x to variable a\n",
    "a = x[-1]\n",
    "\n",
    "# The string \"fourth\" should be assigned to variable a\n",
    "a"
   ]
  },
  {
   "cell_type": "code",
   "execution_count": 9,
   "metadata": {},
   "outputs": [
    {
     "data": {
      "text/plain": [
       "'third'"
      ]
     },
     "execution_count": 9,
     "metadata": {},
     "output_type": "execute_result"
    }
   ],
   "source": [
    "# Assign the second to the last element from list x to variable b\n",
    "b = x[-2]\n",
    "\n",
    "# The string \"third\" should be assigned to variable b\n",
    "b"
   ]
  },
  {
   "cell_type": "code",
   "execution_count": null,
   "metadata": {},
   "outputs": [],
   "source": [
    "# Try it yourself!\n",
    "\n",
    "# Given a list of element, can you find the element of your interest by the index method?\n",
    "\n",
    "x = [\"Tom\", 235, 10.55, \"Black\", \"USA\", \"30\", 2*3, \"3 divided by 2\", \"Python\"]\n",
    "\n",
    "\n"
   ]
  },
  {
   "cell_type": "markdown",
   "metadata": {},
   "source": [
    "#### Slicing a List\n",
    "\n",
    "In the previous examples, we use the index method to retrieve a single element from a list.  Python also offers a slice object to specify how to slice a sequence or point to multiple elements in a list, it is sometime called **\"Slicing\"**. You can specify where to start the slicing and where to end by using a square bracket [ index1 : index2 ].  Note that the slicing index is not inclusive, which means the slicing will begin from index1, but do not include index2 at the end.  Let's demonstrate this in the following examples.\n",
    "\n",
    "Here is the examples:\n",
    "\n",
    "``` Python\n",
    "# Create a list with 4 string elements\n",
    "x = [\"first\", \"second\", \"third\", \"fourth\"]\n",
    "\n",
    "# Slice the list that contains the first to the third elements\n",
    "x[0:3]  # return a list ['first', 'second', 'third']\n",
    "\n",
    "# Slice the list that contains the second and third elements\n",
    "x[1:3]  # return a list ['second', 'third']\n",
    "\n",
    "# We can also apply the negative index,\n",
    "# For instance, we can slice the list that contains second and third elements\n",
    "x[-3:-1]  # return a list ['second', 'third']\n",
    "```\n",
    "\n",
    "Note that if the position of index2 is in front of the position of index1, it will return an empty list.\n",
    "\n",
    "``` Python\n",
    "x[-1:2]  # return an empty list [ ]\n",
    "```"
   ]
  },
  {
   "cell_type": "code",
   "execution_count": 10,
   "metadata": {},
   "outputs": [],
   "source": [
    "# Create a list with 4 string elements\n",
    "x = [\"first\", \"second\", \"third\", \"fourth\"]"
   ]
  },
  {
   "cell_type": "code",
   "execution_count": 11,
   "metadata": {},
   "outputs": [
    {
     "data": {
      "text/plain": [
       "['first', 'second', 'third']"
      ]
     },
     "execution_count": 11,
     "metadata": {},
     "output_type": "execute_result"
    }
   ],
   "source": [
    "# Slice the list that contains the first to the third elements\n",
    "x[0:3]"
   ]
  },
  {
   "cell_type": "code",
   "execution_count": 12,
   "metadata": {},
   "outputs": [
    {
     "data": {
      "text/plain": [
       "['second', 'third']"
      ]
     },
     "execution_count": 12,
     "metadata": {},
     "output_type": "execute_result"
    }
   ],
   "source": [
    "# Slice the list that contains the second and third elements\n",
    "x[1:3]"
   ]
  },
  {
   "cell_type": "code",
   "execution_count": 13,
   "metadata": {},
   "outputs": [
    {
     "data": {
      "text/plain": [
       "['second', 'third']"
      ]
     },
     "execution_count": 13,
     "metadata": {},
     "output_type": "execute_result"
    }
   ],
   "source": [
    "# We can also apply the negative index,\n",
    "# For instance, we can slice the list that contains second and third elements\n",
    "x[-3:-1]"
   ]
  },
  {
   "cell_type": "code",
   "execution_count": 14,
   "metadata": {},
   "outputs": [
    {
     "data": {
      "text/plain": [
       "[]"
      ]
     },
     "execution_count": 14,
     "metadata": {},
     "output_type": "execute_result"
    }
   ],
   "source": [
    "# If the position of the second index is in front of the position of the first index\n",
    "# the return object will be an empty list.\n",
    "x[-1:2]"
   ]
  },
  {
   "cell_type": "markdown",
   "metadata": {},
   "source": [
    "When slicing, index1 or index2 or both can be missed in the argument.  Without index1 means starts from the firt element in the list.  Without index2 means ends with the last element in the list.  When both are missing, it returns the original list (include all the elements from the beginning to the end).\n",
    "\n",
    "Lets demonstrate with some examples here,\n",
    "\n",
    "``` Python\n",
    "# Slicing the first three elements from list x\n",
    "x[:3]  # return a list ['first', 'second', 'third']\n",
    "\n",
    "# Slicing the last two elements from list x\n",
    "x[2:]  # return a list ['third', 'fourth']\n",
    "\n",
    "# Slicing all elements from list x\n",
    "x[:]  # ['first', 'second', 'third', 'fourth']\n",
    "```"
   ]
  },
  {
   "cell_type": "code",
   "execution_count": 15,
   "metadata": {},
   "outputs": [
    {
     "data": {
      "text/plain": [
       "['first', 'second', 'third']"
      ]
     },
     "execution_count": 15,
     "metadata": {},
     "output_type": "execute_result"
    }
   ],
   "source": [
    "# Slicing the first three elements from list x\n",
    "x[:3]"
   ]
  },
  {
   "cell_type": "code",
   "execution_count": 16,
   "metadata": {},
   "outputs": [
    {
     "data": {
      "text/plain": [
       "['third', 'fourth']"
      ]
     },
     "execution_count": 16,
     "metadata": {},
     "output_type": "execute_result"
    }
   ],
   "source": [
    "# Slicing the last two elements from list x\n",
    "x[2:]"
   ]
  },
  {
   "cell_type": "code",
   "execution_count": 17,
   "metadata": {},
   "outputs": [
    {
     "data": {
      "text/plain": [
       "['first', 'second', 'third', 'fourth']"
      ]
     },
     "execution_count": 17,
     "metadata": {},
     "output_type": "execute_result"
    }
   ],
   "source": [
    "# Slicing all elements from list x\n",
    "x[:]"
   ]
  },
  {
   "cell_type": "markdown",
   "metadata": {},
   "source": [
    "When we are assigning a list to a variable, we need to be careful how we assign it.  Below is a very good example to demonstrate the advantage for copying a list to a new list.\n",
    "\n",
    "``` Python\n",
    "# Assign all elements to variable y\n",
    "y = x[:]  # y is now a list with all the elements assigned to x\n",
    "\n",
    "# Suppose we modify the new list y\n",
    "y[0] = \"1 st\"\n",
    "\n",
    "# y is now changed\n",
    "y  # return with a list ['1 st', 'second', 'third', 'fourth']\n",
    "\n",
    "# The original x will not be effected by any change of y\n",
    "x  # return the original list ['first', 'second', 'third', 'fourth']\n",
    "\n",
    "# If we assign x to y\n",
    "y = x  # Now y is referencing x, which is referencing the list\n",
    "\n",
    "# Suppose we modify y\n",
    "y[0] = \"1 st\"\n",
    "\n",
    "# y is now changed\n",
    "y  # return with a list ['1 st', 'second', 'third', 'fourth']\n",
    "\n",
    "# x is also changed\n",
    "x  # return with a list ['1 st', 'second', 'third', 'fourth']\n",
    "```\n"
   ]
  },
  {
   "cell_type": "code",
   "execution_count": 18,
   "metadata": {},
   "outputs": [],
   "source": [
    "# Assign all elements to variable y\n",
    "y = x[:]  # y is now a list with all the elements assigned to x\n",
    "\n",
    "# Suppose we modify the new list y\n",
    "y[0] = \"1 st\""
   ]
  },
  {
   "cell_type": "code",
   "execution_count": 19,
   "metadata": {},
   "outputs": [
    {
     "data": {
      "text/plain": [
       "['1 st', 'second', 'third', 'fourth']"
      ]
     },
     "execution_count": 19,
     "metadata": {},
     "output_type": "execute_result"
    }
   ],
   "source": [
    "# y is now changed\n",
    "y  # return with a list "
   ]
  },
  {
   "cell_type": "code",
   "execution_count": 20,
   "metadata": {},
   "outputs": [
    {
     "data": {
      "text/plain": [
       "['first', 'second', 'third', 'fourth']"
      ]
     },
     "execution_count": 20,
     "metadata": {},
     "output_type": "execute_result"
    }
   ],
   "source": [
    "# The original x will not be effected by any change of y\n",
    "x  # return the original list"
   ]
  },
  {
   "cell_type": "code",
   "execution_count": 21,
   "metadata": {},
   "outputs": [],
   "source": [
    "# If we assign x to y\n",
    "y = x  # Now y is referencing x, which is referencing the list\n",
    "\n",
    "# Suppose we modify y\n",
    "y[0] = \"1 st\""
   ]
  },
  {
   "cell_type": "code",
   "execution_count": 22,
   "metadata": {},
   "outputs": [
    {
     "data": {
      "text/plain": [
       "['1 st', 'second', 'third', 'fourth']"
      ]
     },
     "execution_count": 22,
     "metadata": {},
     "output_type": "execute_result"
    }
   ],
   "source": [
    "# y is now changed\n",
    "y  # return with a list"
   ]
  },
  {
   "cell_type": "code",
   "execution_count": 23,
   "metadata": {},
   "outputs": [
    {
     "data": {
      "text/plain": [
       "['1 st', 'second', 'third', 'fourth']"
      ]
     },
     "execution_count": 23,
     "metadata": {},
     "output_type": "execute_result"
    }
   ],
   "source": [
    "# x is also changed\n",
    "x  # return with a list"
   ]
  },
  {
   "cell_type": "code",
   "execution_count": null,
   "metadata": {},
   "outputs": [],
   "source": [
    "# Try it yourself!\n",
    "\n",
    "# Try to use both len() and slicing to get the second half of the elements \n",
    "# from a list with unknown number of elements.  \n",
    "# Check to see if you solution work with an example.\n",
    "\n",
    "# Create a list\n",
    "\n",
    "\n",
    "# Code your solution here!\n",
    "\n"
   ]
  },
  {
   "cell_type": "markdown",
   "metadata": {},
   "source": [
    "#### Bonus:\n",
    "\n",
    "When we start to program, the Python slicing index method actaully helps improving the efficiency for programming.  Think about the following example,\n",
    "\n",
    "```Python\n",
    "x = [0, 1, 2, 3, 4, 5]\n",
    "start = 2\n",
    "length = 3\n",
    "x[start:start+length]  # return [2, 3, 4]\n",
    "```\n",
    "\n",
    "Since the slicing index method is not inclusive, [m:n] will have the length n-m.  If the slicing index mthod is inclusive, the slicing will be x[start:start+length-1], where the length of the slice will be n-m+1. This is one of the common bug in programming when we have to -1 for one process and +1 for the other."
   ]
  },
  {
   "cell_type": "markdown",
   "metadata": {},
   "source": [
    "#### Modify element(s) in a list\n",
    "\n",
    "Both index and slice can be used to modify the existing list. Here are some examples.\n",
    "\n",
    "``` Python\n",
    "# Suppose we want to modify the third element in a list\n",
    "x = [0, 1, 2, 3, 4]\n",
    "x[2] = \"two\"  # replace by index\n",
    "x\n",
    "\n",
    "# Suppose we want to modify the second and third elements in a list\n",
    "x = [0, 1, 2, 3, 4]\n",
    "x[1:3] = [\"one\", \"two\"]  # replace by slice\n",
    "x  # return [0, 1, 'two', 3, 4]\n",
    "\n",
    "# Suppose we want to modify the second and third elements in a list\n",
    "x = [0, 1, 2, 3, 4]\n",
    "x[1:3] = [\"one\", \"two\"]  # replace by slice\n",
    "x  # return [0, 'one', 'two', 3, 4]\n",
    "\n",
    "# When using slice to modify the elements in a list a[m:n] = b,\n",
    "# the length of b is not required equal to the length between n and m.\n",
    "x = [0, 1, 2, 3, 4]\n",
    "x[1:3] = ['one', 'two', 'three']\n",
    "x  # return [0, 'one', 'two', 'three', 3, 4]\n",
    "\n",
    "x[0:4] = ['a', 'b']\n",
    "x  # return ['a', 'b', 3, 4]\n",
    "\n",
    "# We can also using this method to add or insert element(s) to a list\n",
    "x = [0, 1, 2, 3, 4]\n",
    "\n",
    "# Adding 3 elements to the end of the existing list\n",
    "x[len(x):] = [5, 6, 7]\n",
    "x  # return [0, 1, 2, 3, 4, 5, 6, 7]\n",
    "\n",
    "# Adding 2 elements to the front of the existing list\n",
    "x[:0] = [-2, -1]\n",
    "x  # return [-2, -1, 0, 1, 2, 3, 4, 5, 6, 7]\n",
    "\n",
    "# Remove mutliple elements from the existing list\n",
    "x[1:-1] = []\n",
    "x  # return [-2, 7]\n",
    "```\n"
   ]
  },
  {
   "cell_type": "code",
   "execution_count": 24,
   "metadata": {},
   "outputs": [
    {
     "data": {
      "text/plain": [
       "[0, 1, 'two', 3, 4]"
      ]
     },
     "execution_count": 24,
     "metadata": {},
     "output_type": "execute_result"
    }
   ],
   "source": [
    "# Suppose we want to modify the third element in a list\n",
    "x = [0, 1, 2, 3, 4]\n",
    "x[2] = \"two\"  # replace by index\n",
    "x"
   ]
  },
  {
   "cell_type": "code",
   "execution_count": 25,
   "metadata": {},
   "outputs": [
    {
     "data": {
      "text/plain": [
       "[0, 'one', 'two', 3, 4]"
      ]
     },
     "execution_count": 25,
     "metadata": {},
     "output_type": "execute_result"
    }
   ],
   "source": [
    "# Suppose we want to modify the second and third elements in a list\n",
    "x = [0, 1, 2, 3, 4]\n",
    "x[1:3] = [\"one\", \"two\"]  # replace by slice\n",
    "x"
   ]
  },
  {
   "cell_type": "code",
   "execution_count": 26,
   "metadata": {},
   "outputs": [
    {
     "data": {
      "text/plain": [
       "[0, 'one', 'two', 'three', 3, 4]"
      ]
     },
     "execution_count": 26,
     "metadata": {},
     "output_type": "execute_result"
    }
   ],
   "source": [
    "# When using slice to modify the elements in a list a[m:n] = b,\n",
    "# the length of b is not required equal to the length between n and m.\n",
    "x = [0, 1, 2, 3, 4]\n",
    "x[1:3] = ['one', 'two', 'three']\n",
    "x"
   ]
  },
  {
   "cell_type": "code",
   "execution_count": 27,
   "metadata": {},
   "outputs": [
    {
     "data": {
      "text/plain": [
       "['a', 'b', 3, 4]"
      ]
     },
     "execution_count": 27,
     "metadata": {},
     "output_type": "execute_result"
    }
   ],
   "source": [
    "x[0:4] = ['a', 'b']\n",
    "x"
   ]
  },
  {
   "cell_type": "code",
   "execution_count": 28,
   "metadata": {},
   "outputs": [
    {
     "data": {
      "text/plain": [
       "[0, 1, 2, 3, 4, 5, 6, 7]"
      ]
     },
     "execution_count": 28,
     "metadata": {},
     "output_type": "execute_result"
    }
   ],
   "source": [
    "# We can also using this method to add or insert element(s) to a list\n",
    "x = [0, 1, 2, 3, 4]\n",
    "\n",
    "# Adding 3 elements to the end of the existing list\n",
    "x[len(x):] = [5, 6, 7]\n",
    "x"
   ]
  },
  {
   "cell_type": "code",
   "execution_count": 29,
   "metadata": {},
   "outputs": [
    {
     "data": {
      "text/plain": [
       "[-2, -1, 0, 1, 2, 3, 4, 5, 6, 7]"
      ]
     },
     "execution_count": 29,
     "metadata": {},
     "output_type": "execute_result"
    }
   ],
   "source": [
    "# Adding 2 elements to the front of the existing list\n",
    "x[:0] = [-2, -1]\n",
    "x"
   ]
  },
  {
   "cell_type": "code",
   "execution_count": 30,
   "metadata": {},
   "outputs": [
    {
     "data": {
      "text/plain": [
       "[-2, 7]"
      ]
     },
     "execution_count": 30,
     "metadata": {},
     "output_type": "execute_result"
    }
   ],
   "source": [
    "# Remove mutliple elements from the existing list\n",
    "x[1:-1] = []\n",
    "x"
   ]
  },
  {
   "cell_type": "markdown",
   "metadata": {},
   "source": [
    "## 2.3 - Common Methods of List Object\n",
    "\n",
    "In this section, we discuss the common **methods** of list **object**. To programming beginners, the concept of **method** could be very vague. If we image a Python **object** is actually a physical object, **method** is bacially the action of the **object**.  It's similar to when we are using a **verb** pair with a **noun** in a sentence.  Python is an object oriented program.  A method defines the behavior of the object and is an actiona that an object is able to perform.\n",
    "\n",
    "Reference: https://docs.python.org/3/tutorial/datastructures.html\n",
    "\n",
    "For instance,\n",
    "\n",
    "|  Writing  |  Python Program  |\n",
    "| :---:  |  :---:  |\n",
    "|  Mom  |  mom  |\n",
    "|  Mom sleeps  |  mom.sleep()  |\n",
    "\n",
    "Here is a list of common methods of list objects,\n",
    "\n",
    "|  List Methods  |  Description  |  Code Example  |\n",
    "|  :---:  |  :---:  |  :---:  |\n",
    "|  [ ]  |  Building an empty list  |  x = [ ]  |\n",
    "|  len()  |  Returning the length of a list  |  len(x)  |\n",
    "|  append()  |  Adding element at the end of a list  |  x.append('y')  |\n",
    "|  extend()  |  Adding a list of elements at the end of a list  |  x.extend(['a','b'])  |\n",
    "|  insert()  |  Inserting an element to an appointed position   |  x.insert(0, 'y')  |\n",
    "|  del  |  Deleting a list of element or a slice of element  |  del(x[0])  |\n",
    "|  remove()  |  Removing an element from a list  |  x.remove('y')  |\n",
    "|  reverse()  |  Reversing a list  |  x.reverse()  |\n",
    "|  sort()  |  Sorting the elements in a list  |  x.sort()  |\n",
    "|  sorted()  |  Returning a new list after sorting  |  sorted(x)  |\n",
    "|  +  |  Casting two lists into a new list  |  x1 + x2  |\n",
    "|  *  |  Copying a list  |  x = ['y']*3  |\n",
    "|  min()  |  Returning the minimum value element from a list  |  min(x)  |\n",
    "|  max()  |  Returning the maximum value element from a list  |  mas(x)  |\n",
    "|  index()  |  Returning the index of an element from a list  |  x.index('y')  |\n",
    "|  count()  |  Returning the frequency count of an element from a list  |  x.count('y')  |\n",
    "|  sum()  |  Returning the sum of the elements in a list  |  sum(x)  |\n",
    "|  in  |  Returning a Boolean True if an element exist in a list, False otherwise  |  'y'in x  |\n",
    "\n",
    "Let's explore how to use these methods of list objects!\n",
    "\n",
    "#### Adding new element to a list:  Append( ) and Extend( )\n",
    "\n",
    "Often we need to add new elements to a list object.  To add new element(s) to an existing list, we can use append( ) or extend( ) methods.  \n",
    "\n",
    "e.g. for instance, if we are trying to add an element to the end of a list, we can use append( ) method.\n",
    "\n",
    "``` Python\n",
    "x = [1,2,3]\n",
    "x.append(\"four\")\n",
    "x  # return a list [1, 2, 3, 'four']\n",
    "```\n",
    "\n",
    "If we are using append( ) method to add a list object to an existing list, it will become multi-layer list.\n",
    "\n",
    "``` Python\n",
    "x = [1,2,3,4]\n",
    "y = [5,6,7]\n",
    "x.append(y)\n",
    "x  # return a list [1, 2, 3, 4, [5, 6, 7]]\n",
    "```\n",
    "\n",
    "Note: the return list contains 5 elements and the last element is a list object.\n",
    "\n",
    "If we are trying to add the element from list y to the end of list x, we can use the extend( ) method.\n",
    "\n",
    "``` Python\n",
    "x = [1,2,3,4]\n",
    "y = [5,6,7]\n",
    "x.extend(y)\n",
    "x  # return a list [1, 2, 3, 4, 5, 6, 7]\n",
    "```"
   ]
  },
  {
   "cell_type": "code",
   "execution_count": 2,
   "metadata": {},
   "outputs": [
    {
     "data": {
      "text/plain": [
       "[1, 2, 3, 'four']"
      ]
     },
     "execution_count": 2,
     "metadata": {},
     "output_type": "execute_result"
    }
   ],
   "source": [
    "# Adding new element to the end of a list\n",
    "x = [1,2,3]\n",
    "x.append(\"four\")\n",
    "x  # return a list [1, 2, 3, 'four']"
   ]
  },
  {
   "cell_type": "code",
   "execution_count": 3,
   "metadata": {},
   "outputs": [
    {
     "data": {
      "text/plain": [
       "[1, 2, 3, 4, [5, 6, 7]]"
      ]
     },
     "execution_count": 3,
     "metadata": {},
     "output_type": "execute_result"
    }
   ],
   "source": [
    "# Adding a list object to the end of a list\n",
    "x = [1,2,3,4]\n",
    "y = [5,6,7]\n",
    "x.append(y)\n",
    "x  # return a list [1, 2, 3, 4, [5, 6, 7]]"
   ]
  },
  {
   "cell_type": "code",
   "execution_count": 4,
   "metadata": {},
   "outputs": [
    {
     "data": {
      "text/plain": [
       "[1, 2, 3, 4, 5, 6, 7]"
      ]
     },
     "execution_count": 4,
     "metadata": {},
     "output_type": "execute_result"
    }
   ],
   "source": [
    "# Adding the elements from list y to the end of list x\n",
    "x = [1,2,3,4]\n",
    "y = [5,6,7]\n",
    "x.extend(y)\n",
    "x  # return a list [1, 2, 3, 4, 5, 6, 7]"
   ]
  },
  {
   "cell_type": "markdown",
   "metadata": {},
   "source": [
    "#### Inserting a new element to a list:  insert( )\n",
    "\n",
    "To add an element in between two elements or at the beginning of a list, we can use insert( ) method.  insert( ) method has two arguments, the first one is the index reference for the need element to be added and the second one is the element itself.  \n",
    "\n",
    "e.g. Suppose we would like to added two element to an existing list.  One between two elements in the list and the other one at the beginning of the list.\n",
    "\n",
    "``` Python\n",
    "x = [1,3,4]\n",
    "# Adding a string \"two\" between 1 and 3 in the list\n",
    "x.insert(1, \"two\")\n",
    "x  # return [1, 'two', 3, 4]\n",
    "# Adding a string \"zero\" at the beginning of the list\n",
    "x.insert(0, 'zero')\n",
    "x  # return ['zero', 1, 'two', 3, 4]\n",
    "```\n",
    "\n",
    "We should not be surprised that insert( ) method can also reference the negative index.\n",
    "\n",
    "e.g.\n",
    "\n",
    "``` Python\n",
    "# Using negative index with insert()\n",
    "x = [1,2,4]\n",
    "x.insert(-1, 'three')\n",
    "x  # return [1, 2, 'three', 4]\n",
    "```"
   ]
  },
  {
   "cell_type": "code",
   "execution_count": 6,
   "metadata": {},
   "outputs": [
    {
     "data": {
      "text/plain": [
       "[1, 'two', 3, 4]"
      ]
     },
     "execution_count": 6,
     "metadata": {},
     "output_type": "execute_result"
    }
   ],
   "source": [
    "x = [1,3,4]\n",
    "# Adding a string \"two\" between 1 and 3 in the list\n",
    "x.insert(1, \"two\")\n",
    "x  # return [1, 'two', 3, 4]"
   ]
  },
  {
   "cell_type": "code",
   "execution_count": 7,
   "metadata": {},
   "outputs": [
    {
     "data": {
      "text/plain": [
       "['zero', 1, 'two', 3, 4]"
      ]
     },
     "execution_count": 7,
     "metadata": {},
     "output_type": "execute_result"
    }
   ],
   "source": [
    "# Adding a string \"zero\" at the beginning of the list\n",
    "x.insert(0, 'zero')\n",
    "x  # return ['zero', 1, 'two', 3, 4]"
   ]
  },
  {
   "cell_type": "code",
   "execution_count": 8,
   "metadata": {},
   "outputs": [
    {
     "data": {
      "text/plain": [
       "[1, 2, 'three', 4]"
      ]
     },
     "execution_count": 8,
     "metadata": {},
     "output_type": "execute_result"
    }
   ],
   "source": [
    "# Using negative index with insert()\n",
    "x = [1,2,4]\n",
    "x.insert(-1, 'three')\n",
    "x  # return [1, 2, 'three', 4]"
   ]
  },
  {
   "cell_type": "markdown",
   "metadata": {},
   "source": [
    "#### Deleting element from a list: del\n",
    "\n",
    "Instead of slicing, we can also use \"del\" to delete a sequence of elements in a list.  \"del\" is not a method of list object, but a Python keyword, therefore, it is also applied to any Python object with name. Even though \"del\" is not as powerful as slicing, it usually provides a more readable coding format as compare to slicing.\n",
    "\n",
    "e.g. \n",
    "\n",
    "``` Python\n",
    "x = ['a', 2, 'c', 7, 9, 11]\n",
    "# delete the second element\n",
    "del x[1]\n",
    "x  # return ['a', 'c', 7, 9, 11]\n",
    "\n",
    "# delete the first two elements\n",
    "del x[:2]\n",
    "x  # return [7, 9, 11]\n",
    "```\n",
    "\n",
    "Generally speaking, del x[n] and x[n:n+1]=[ ] return the same list.  Also, del x[m:n] and x[m:n]=[ ] are the same.  However, just like using insert( ) method, \"del\" improves the readability of the programming code."
   ]
  },
  {
   "cell_type": "code",
   "execution_count": 9,
   "metadata": {},
   "outputs": [
    {
     "data": {
      "text/plain": [
       "['a', 'c', 7, 9, 11]"
      ]
     },
     "execution_count": 9,
     "metadata": {},
     "output_type": "execute_result"
    }
   ],
   "source": [
    "x = ['a', 2, 'c', 7, 9, 11]\n",
    "# delete the second element\n",
    "del x[1]\n",
    "x  # return ['a', 'c', 7, 9, 11]"
   ]
  },
  {
   "cell_type": "code",
   "execution_count": 10,
   "metadata": {},
   "outputs": [
    {
     "data": {
      "text/plain": [
       "[7, 9, 11]"
      ]
     },
     "execution_count": 10,
     "metadata": {},
     "output_type": "execute_result"
    }
   ],
   "source": [
    "# delete the first two elements\n",
    "del x[:2]\n",
    "x  # return [7, 9, 11]"
   ]
  },
  {
   "cell_type": "markdown",
   "metadata": {},
   "source": [
    "#### Finding the specific value from the list and remove it from the list: remove( )\n",
    "\n",
    "remove( ) method finds the first given object from the list and removes it.\n",
    "\n",
    "e.g.\n",
    "\n",
    "``` Python\n",
    "x = [1, 2, 3, 4, 3, 5]\n",
    "# Remove the first integer 3 from the list\n",
    "x.remove(3)\n",
    "x  # [1, 2, 4, 3, 5]\n",
    "\n",
    "# Remove the first integer 3 from the modified list\n",
    "x.remove(3)\n",
    "x  # [1, 2, 4, 5]\n",
    "\n",
    "# Try to remove the first integer 3 from the modifed list \n",
    "x.remove(3)\n",
    "\n",
    "# An error will return if no such value exists in the list\n",
    "```\n",
    "\n",
    "To avoid error, we can also use 'in' Python keyword to confirm the existing of the value in the list before remove."
   ]
  },
  {
   "cell_type": "code",
   "execution_count": 11,
   "metadata": {},
   "outputs": [
    {
     "data": {
      "text/plain": [
       "[1, 2, 4, 3, 5]"
      ]
     },
     "execution_count": 11,
     "metadata": {},
     "output_type": "execute_result"
    }
   ],
   "source": [
    "x = [1, 2, 3, 4, 3, 5]\n",
    "# Remove the first integer 3 from the list\n",
    "x.remove(3)\n",
    "x  # [1, 2, 4, 3, 5]"
   ]
  },
  {
   "cell_type": "code",
   "execution_count": 12,
   "metadata": {},
   "outputs": [
    {
     "data": {
      "text/plain": [
       "[1, 2, 4, 5]"
      ]
     },
     "execution_count": 12,
     "metadata": {},
     "output_type": "execute_result"
    }
   ],
   "source": [
    "# Remove the first integer 3 from the modified list\n",
    "x.remove(3)\n",
    "x  # [1, 2, 4, 5]"
   ]
  },
  {
   "cell_type": "code",
   "execution_count": 13,
   "metadata": {},
   "outputs": [
    {
     "ename": "ValueError",
     "evalue": "list.remove(x): x not in list",
     "output_type": "error",
     "traceback": [
      "\u001b[1;31m---------------------------------------------------------------------------\u001b[0m",
      "\u001b[1;31mValueError\u001b[0m                                Traceback (most recent call last)",
      "\u001b[1;32m<ipython-input-13-a70f14be621f>\u001b[0m in \u001b[0;36m<module>\u001b[1;34m\u001b[0m\n\u001b[0;32m      1\u001b[0m \u001b[1;31m# Try to remove the first integer 3 from the modifed list\u001b[0m\u001b[1;33m\u001b[0m\u001b[1;33m\u001b[0m\u001b[1;33m\u001b[0m\u001b[0m\n\u001b[1;32m----> 2\u001b[1;33m \u001b[0mx\u001b[0m\u001b[1;33m.\u001b[0m\u001b[0mremove\u001b[0m\u001b[1;33m(\u001b[0m\u001b[1;36m3\u001b[0m\u001b[1;33m)\u001b[0m\u001b[1;33m\u001b[0m\u001b[1;33m\u001b[0m\u001b[0m\n\u001b[0m\u001b[0;32m      3\u001b[0m \u001b[1;33m\u001b[0m\u001b[0m\n\u001b[0;32m      4\u001b[0m \u001b[1;31m# An error will return if no such value exists in the list\u001b[0m\u001b[1;33m\u001b[0m\u001b[1;33m\u001b[0m\u001b[1;33m\u001b[0m\u001b[0m\n",
      "\u001b[1;31mValueError\u001b[0m: list.remove(x): x not in list"
     ]
    }
   ],
   "source": [
    "# Try to remove the first integer 3 from the modifed list \n",
    "x.remove(3)\n",
    "\n",
    "# An error will return if no such value exists in the list"
   ]
  },
  {
   "cell_type": "markdown",
   "metadata": {},
   "source": [
    "#### Reversing the order of the elements in a list: reverse()\n",
    "\n",
    "reverse( ) is a relatively special method of list object, which reverses the order of the given elements from the list efficiently and updates the list.\n",
    "\n",
    "e.g.\n",
    "\n",
    "``` Python\n",
    "x = [1,3,5,7,10]\n",
    "# Reverse the list \n",
    "x.reverse()\n",
    "x  # [10, 7, 5, 3, 1]\n",
    "```"
   ]
  },
  {
   "cell_type": "code",
   "execution_count": null,
   "metadata": {},
   "outputs": [],
   "source": [
    "# Try it yourself!\n",
    "\n",
    "# Suppose there is a list contains 10 elements.  \n",
    "# How to move the last three elements to the beginning of the list and keeping their order?\n",
    "\n",
    "# Try to code here!\n"
   ]
  },
  {
   "cell_type": "markdown",
   "metadata": {},
   "source": [
    "## 2.4 - List Sort\n",
    "\n",
    "##### Ordering a list: sort( ) and sorted( )\n",
    "\n",
    "sort( ) method cna be used to sorts the elements of a given list in a specific order - Ascending or Descending. sort( ) method is a built-in method that modifies the list in-place, which changes the list order.  There is a sorted( ) builti-in function that builds a new sorted list from an interable, which does not modify or change the orginal list order.\n",
    "\n",
    "e.g.\n",
    "\n",
    "``` Python\n",
    "x = [2,4,1,3]\n",
    "# Using sort() method\n",
    "x.sort()  # Note: sort() method does not return a list\n",
    "x\n",
    "\n",
    "x = [2,4,1,3]\n",
    "# Using sorted() function\n",
    "sorted(x)  # Note: sorted() function returns a list\n",
    "\n",
    "x = [2,4,1,3]\n",
    "# To sort the list without modifying the orginal list\n",
    "y = x[:]\n",
    "y.sort()\n",
    "y  # In this case, list x will not be affected\n",
    "```"
   ]
  },
  {
   "cell_type": "code",
   "execution_count": 18,
   "metadata": {},
   "outputs": [
    {
     "data": {
      "text/plain": [
       "[1, 2, 3, 4]"
      ]
     },
     "execution_count": 18,
     "metadata": {},
     "output_type": "execute_result"
    }
   ],
   "source": [
    "x = [2,4,1,3]\n",
    "# Using sort() method\n",
    "x.sort()  # Note: sort() method does not return a list\n",
    "x"
   ]
  },
  {
   "cell_type": "code",
   "execution_count": 20,
   "metadata": {},
   "outputs": [
    {
     "data": {
      "text/plain": [
       "[1, 2, 3, 4]"
      ]
     },
     "execution_count": 20,
     "metadata": {},
     "output_type": "execute_result"
    }
   ],
   "source": [
    "x = [2,4,1,3]\n",
    "# Using sorted() function\n",
    "sorted(x)  # Note: sorted() function returns a list"
   ]
  },
  {
   "cell_type": "code",
   "execution_count": 16,
   "metadata": {},
   "outputs": [
    {
     "data": {
      "text/plain": [
       "[1, 2, 3, 4]"
      ]
     },
     "execution_count": 16,
     "metadata": {},
     "output_type": "execute_result"
    }
   ],
   "source": [
    "x = [2,4,1,3]\n",
    "# To sort the list without modifying the orginal list\n",
    "y = x[:]\n",
    "y.sort()\n",
    "y  # In this case, list x will not be affected"
   ]
  },
  {
   "cell_type": "markdown",
   "metadata": {},
   "source": [
    "For a list of strings, sort( ) method can also be use to sort the order of the strings alphabetically, where \n",
    "\n",
    "|  Ordering Rule  |  Example  |\n",
    "|  :---:  |  :---:  |\n",
    "|  Alphabetically  |  'a' < 'z'  |\n",
    "|  lower case greater than upper case  |  'A' < 'a'  |\n",
    "|  Evaluate the second letter if the first letter is the same  |'ab' < 'ac'  |\n",
    "\n",
    "e.g.\n",
    "\n",
    "``` Python\n",
    "x = ['a', 'e', 'w', 'k', 'q']\n",
    "x.sort()\n",
    "x  # return ['a', 'e', 'k', 'q', 'w']\n",
    "\n",
    "x = ['A', 'w', 'a', 'G', 'y', 'e', 'g']\n",
    "x.sort()\n",
    "x  # return ['A', 'G', 'a', 'e', 'g', 'w', 'y']\n",
    "\n",
    "x = [\"Life\", \"is\", \"Enchanting\"]\n",
    "x.sort()\n",
    "x  # return ['Enchanting', 'Life', 'is']\n",
    "```"
   ]
  },
  {
   "cell_type": "code",
   "execution_count": 22,
   "metadata": {},
   "outputs": [
    {
     "data": {
      "text/plain": [
       "['a', 'e', 'k', 'q', 'w']"
      ]
     },
     "execution_count": 22,
     "metadata": {},
     "output_type": "execute_result"
    }
   ],
   "source": [
    "x = ['a', 'e', 'w', 'k', 'q']\n",
    "x.sort()\n",
    "x"
   ]
  },
  {
   "cell_type": "code",
   "execution_count": 23,
   "metadata": {},
   "outputs": [
    {
     "data": {
      "text/plain": [
       "['A', 'G', 'a', 'e', 'g', 'w', 'y']"
      ]
     },
     "execution_count": 23,
     "metadata": {},
     "output_type": "execute_result"
    }
   ],
   "source": [
    "x = ['A', 'w', 'a', 'G', 'y', 'e', 'g']\n",
    "x.sort()\n",
    "x"
   ]
  },
  {
   "cell_type": "code",
   "execution_count": 21,
   "metadata": {},
   "outputs": [
    {
     "data": {
      "text/plain": [
       "['Enchanting', 'Life', 'is']"
      ]
     },
     "execution_count": 21,
     "metadata": {},
     "output_type": "execute_result"
    }
   ],
   "source": [
    "x = [\"Life\", \"is\", \"Enchanting\"]\n",
    "x.sort()\n",
    "x"
   ]
  },
  {
   "cell_type": "markdown",
   "metadata": {},
   "source": [
    "##### Non-Comparable Elements:\n",
    "There is something we need to be careful when using the sort( ) method: the elements within a list must be comparable, which means the sort( ) method cannot be applied to a list with string mixed with numerical value.\n",
    "\n",
    "e.g.\n",
    "\n",
    "``` Python\n",
    "x = [1, 2, 'hello', 3]\n",
    "x.sort()  # this will result an error\n",
    "```"
   ]
  },
  {
   "cell_type": "code",
   "execution_count": 24,
   "metadata": {},
   "outputs": [
    {
     "ename": "TypeError",
     "evalue": "'<' not supported between instances of 'str' and 'int'",
     "output_type": "error",
     "traceback": [
      "\u001b[1;31m---------------------------------------------------------------------------\u001b[0m",
      "\u001b[1;31mTypeError\u001b[0m                                 Traceback (most recent call last)",
      "\u001b[1;32m<ipython-input-24-ff66ee7b4234>\u001b[0m in \u001b[0;36m<module>\u001b[1;34m\u001b[0m\n\u001b[0;32m      1\u001b[0m \u001b[0mx\u001b[0m \u001b[1;33m=\u001b[0m \u001b[1;33m[\u001b[0m\u001b[1;36m1\u001b[0m\u001b[1;33m,\u001b[0m \u001b[1;36m2\u001b[0m\u001b[1;33m,\u001b[0m \u001b[1;34m'hello'\u001b[0m\u001b[1;33m,\u001b[0m \u001b[1;36m3\u001b[0m\u001b[1;33m]\u001b[0m\u001b[1;33m\u001b[0m\u001b[1;33m\u001b[0m\u001b[0m\n\u001b[1;32m----> 2\u001b[1;33m \u001b[0mx\u001b[0m\u001b[1;33m.\u001b[0m\u001b[0msort\u001b[0m\u001b[1;33m(\u001b[0m\u001b[1;33m)\u001b[0m\u001b[1;33m\u001b[0m\u001b[1;33m\u001b[0m\u001b[0m\n\u001b[0m",
      "\u001b[1;31mTypeError\u001b[0m: '<' not supported between instances of 'str' and 'int'"
     ]
    }
   ],
   "source": [
    "x = [1, 2, 'hello', 3]\n",
    "x.sort()"
   ]
  },
  {
   "cell_type": "markdown",
   "metadata": {},
   "source": [
    "##### Sorting a list of lists:\n",
    "If a list has an element, which is also a list, the sort( ) method can be applied.  The order will be determined by evaluating the first element in each list.  If they are the same value, the second element will be evaluated to determine the order.  \n",
    "\n",
    "e.g.\n",
    "\n",
    "``` Python\n",
    "x = [[3,5], [2,9], [2,3], [4,1], [3,2]]\n",
    "x.sort()\n",
    "x  # return [[2,3], [2,9], [3,2], [3,5], [4,1]]\n",
    "```"
   ]
  },
  {
   "cell_type": "code",
   "execution_count": 25,
   "metadata": {},
   "outputs": [
    {
     "data": {
      "text/plain": [
       "[[2, 3], [2, 9], [3, 2], [3, 5], [4, 1]]"
      ]
     },
     "execution_count": 25,
     "metadata": {},
     "output_type": "execute_result"
    }
   ],
   "source": [
    "x = [[3,5], [2,9], [2,3], [4,1], [3,2]]\n",
    "x.sort()\n",
    "x"
   ]
  },
  {
   "cell_type": "markdown",
   "metadata": {},
   "source": [
    "##### Optional parameters:\n",
    "\n",
    "sort( ) method has two optional reverse parameters, reverse and key.  When reverse=True, the sorted list is reversded or sorted in a descending order.  Key serves as a key for the sort comparison\n",
    "\n",
    "e.g.\n",
    "\n",
    "``` Python\n",
    "x = [0,1,2]\n",
    "# Sorting in descending order\n",
    "x.sort(reverse=True)\n",
    "x  # return [2, 1, 0]\n",
    "\n",
    "x = ['eric', 'Ken', 'Thomas', 'john']\n",
    "# Sorting by the length of the string\n",
    "x.sort(key=len)\n",
    "x  # return ['Ken', 'eric', 'john', 'Thomas']\n",
    "```"
   ]
  },
  {
   "cell_type": "code",
   "execution_count": 26,
   "metadata": {},
   "outputs": [
    {
     "data": {
      "text/plain": [
       "[2, 1, 0]"
      ]
     },
     "execution_count": 26,
     "metadata": {},
     "output_type": "execute_result"
    }
   ],
   "source": [
    "x = [0,1,2]\n",
    "x.sort(reverse=True)\n",
    "x "
   ]
  },
  {
   "cell_type": "code",
   "execution_count": 33,
   "metadata": {},
   "outputs": [
    {
     "data": {
      "text/plain": [
       "['Ken', 'eric', 'john', 'Thomas']"
      ]
     },
     "execution_count": 33,
     "metadata": {},
     "output_type": "execute_result"
    }
   ],
   "source": [
    "x = ['eric', 'Ken', 'Thomas', 'john']\n",
    "x.sort(key=len)\n",
    "x "
   ]
  },
  {
   "cell_type": "code",
   "execution_count": 32,
   "metadata": {},
   "outputs": [
    {
     "data": {
      "text/plain": [
       "[[4, 0, 1], [2, 1, 3], [1, 2, 3]]"
      ]
     },
     "execution_count": 32,
     "metadata": {},
     "output_type": "execute_result"
    }
   ],
   "source": [
    "# Try it yourself!\n",
    "\n",
    "# Suppose there is a list and each element in the list is also a list,\n",
    "# [[1,2,3], [2,1,3], [4,0,1]]\n",
    "# If we need to sort the order by the second element in each list,\n",
    "# how should we use the key function to do it?\n",
    "\n",
    "x = [[1,2,3], [2,1,3], [4,0,1]]\n",
    "x.sort(key=lambda x:x[1])\n",
    "x"
   ]
  },
  {
   "cell_type": "markdown",
   "metadata": {},
   "source": [
    "## 2.5 - Other List Operations\n",
    "\n",
    "##### Uisng 'in' keyword to check of an element exisits in a list\n",
    "\n",
    "Using the Python keyword 'in' can easily check if an element exists in a list.\n",
    "\n",
    "e.g.\n",
    "\n",
    "``` Python\n",
    "3 in [1,3,4,5]  # return True\n",
    "\n",
    "3 not in [1,3,4,5]  # return False\n",
    "\n",
    "3 in ['one', 'two', 'three']  # return False\n",
    "\n",
    "3 not in ['one', 'two', 'three']  # return True\n",
    "```\n",
    "\n",
    "##### Using \"+\" to cast two lists\n",
    "\n",
    "To cast two lists and builidng a new one, we can use the mathematical operator \"+\", which will not change the original lists.\n",
    "\n",
    "e.g.\n",
    "\n",
    "``` Python\n",
    "z = [1,2,3] + [4,5,6]\n",
    "z  # return [1,2,3,4,5,6]\n",
    "```\n",
    "\n",
    "##### Using \" * \" to create a standardized list\n",
    "\n",
    "The multiplcation operator \"*\" can be used as the positional expansion opeartor.  We know that we can use append( ) method for adding new element(s) to a list object, but it would be more efficient to run an application by defining the length of the list (if we know the length needed in advance).\n",
    "\n",
    "e.g.\n",
    "\n",
    "``` Python\n",
    "z = [None] * 4\n",
    "z  # return [None, None, None, None]\n",
    "```\n",
    "\n",
    "As you can imagine, we can also create a new list by using the list multiplication operator by copying a list and casting into a new list.\n",
    "\n",
    "e.g.\n",
    "\n",
    "``` Python\n",
    "z = [4, 7, 9] * 2\n",
    "z  # return [4, 7. 9 4, 7, 9]\n",
    "```\n",
    "\n",
    "#####  Using min( ) and max( ) methods to find the minimum and maximum element\n",
    "\n",
    "Python built-in methods min( ) and max( ) methods can be used to find the minimum and the maximum element from a list.  Note that if the elements in the list are not comparable, for example, a list contains numbers and strings, it will return an error message.\n",
    "\n",
    "e.g.\n",
    "``` Python\n",
    "x = [3, 8, 0, -3, 11, -8]\n",
    "min(x)  # return -8\n",
    "max(x)  # return 11\n",
    "\n",
    "x.append('two')\n",
    "min(x)  # TypeError Message\n",
    "```\n",
    "\n",
    "##### Using index( ) method to find the index of an element from a list\n",
    "\n",
    "The index( ) method searches an element in the list and returns its index.  In simple terms, the index( ) method finds the given element in a list and returns its position.  Note that if the same element is present more than once, the method returns the index of the first occurrence of the element.\n",
    "\n",
    "e.g.\n",
    "``` Python\n",
    "x = [1, 3, 'five', 7, -2]\n",
    "x.index(7)  # return 3\n",
    "\n",
    "x.index(5)  # return ValueError Message\n",
    "```\n",
    "\n",
    "##### Using count( ) method to find the frequency count of a given object occur in a list\n",
    "\n",
    "Python built-in count( ) method returns count of how many times a given object occurs in a list or the number of occurances of an element in a list. count( ) method requires a signle argument, which is the element whose count is to be found in a list.\n",
    "\n",
    "e.g.\n",
    "``` Python\n",
    "x = [1,2,2,3,5,2,5]\n",
    "x.count(2)  # return 3\n",
    "x.count(5)  # return 2\n",
    "x.count(4)  # return 0\n",
    "```"
   ]
  },
  {
   "cell_type": "code",
   "execution_count": null,
   "metadata": {},
   "outputs": [],
   "source": [
    "# Try it yourself!\n",
    "\n",
    "# What would be the return value of len([[2,1]] * 3)?\n",
    "\n",
    "\n",
    "# What's the different between Python keyword \"in\" and index( ) method?\n",
    "\n",
    "\n",
    "# Which of the following will cause an error?\n",
    "\n",
    "min(['a', 'b', 'c'])\n",
    "\n",
    "max([1, 2, 'three'])\n",
    "\n",
    "[1, 2, 3].count('one')\n",
    "\n",
    "# Suppose there is a list, we are writing a program to remove a given element from the list safely,\n",
    "# which we need to check for the existence of the element before removing.\n",
    "\n",
    "\n",
    "# Change the above program and only remove element that only occur in the list\n",
    "# more than one time.\n",
    "\n"
   ]
  },
  {
   "cell_type": "markdown",
   "metadata": {},
   "source": [
    "## 2.6 - Multi-Layer List Object and Deepcopy\n",
    "\n",
    "In this section, we are getting into an intermediate topic: multi-layer list (or nested list).  For beginner, you can skip this part and come back in the later time.  Nested list is usually applied for matrix calculation.  We can imagine a two-dimensional 3 x 3 matrix expressed below,\n",
    "\n",
    "e.g. 3 x 3 matrix\n",
    "``` Python\n",
    "m = [[0, 1, 2], [10, 11, 12], [20, 21, 22]]\n",
    "m[0]  # return the first row of the matrix\n",
    "m[0][1]  # return the second element from the first row\n",
    "m[2]  # return the third row of the matrix\n",
    "m[2][2]  # return the third element from the third row\n",
    "```"
   ]
  },
  {
   "cell_type": "code",
   "execution_count": 1,
   "metadata": {},
   "outputs": [
    {
     "data": {
      "text/plain": [
       "[0, 1, 2]"
      ]
     },
     "execution_count": 1,
     "metadata": {},
     "output_type": "execute_result"
    }
   ],
   "source": [
    "m = [[0, 1, 2], [10, 11, 12], [20, 21, 22]]\n",
    "m[0]  # return the first row of the matrix\n"
   ]
  },
  {
   "cell_type": "code",
   "execution_count": 2,
   "metadata": {},
   "outputs": [
    {
     "data": {
      "text/plain": [
       "1"
      ]
     },
     "execution_count": 2,
     "metadata": {},
     "output_type": "execute_result"
    }
   ],
   "source": [
    "m[0][1]  # return the second element from the first row\n"
   ]
  },
  {
   "cell_type": "code",
   "execution_count": 3,
   "metadata": {},
   "outputs": [
    {
     "data": {
      "text/plain": [
       "[20, 21, 22]"
      ]
     },
     "execution_count": 3,
     "metadata": {},
     "output_type": "execute_result"
    }
   ],
   "source": [
    "m[2]  # return the third row of the matrix\n"
   ]
  },
  {
   "cell_type": "code",
   "execution_count": 4,
   "metadata": {},
   "outputs": [
    {
     "data": {
      "text/plain": [
       "22"
      ]
     },
     "execution_count": 4,
     "metadata": {},
     "output_type": "execute_result"
    }
   ],
   "source": [
    "m[2][2]  # return the third element from the third row\n"
   ]
  },
  {
   "cell_type": "markdown",
   "metadata": {},
   "source": [
    "In some cases, we may encounter a problem of changing the assignment to a nested list.  For example,\n",
    "\n",
    "``` Python\n",
    "nested = [0]\n",
    "original = [nexted, 1]\n",
    "original  # return [[0], 1]\n",
    "```\n",
    "\n",
    "In this example, the original list is referencing the nested list.  When we change the element in either one, the nested list will also be changed.\n",
    "\n",
    "``` Python\n",
    "nested[0] = 'zero'\n",
    "original  # return [['zero'], 1]\n",
    "original[0][0] = 0\n",
    "nested  # return [0]\n",
    "original  # return [[0], 1]\n",
    "```\n",
    "\n",
    "To break the connection between the nested list and original list by assigning a new list object to nested list.  Now, changing the value in the nested list will not have any impact to the original list.\n",
    "\n",
    "``` Python\n",
    "nested = [2]\n",
    "original  # return [[0], 1]\n",
    "```"
   ]
  },
  {
   "cell_type": "code",
   "execution_count": null,
   "metadata": {},
   "outputs": [],
   "source": [
    "# Creating a nested list\n",
    "nested = [0]\n",
    "original = [nexted, 1]\n",
    "original  # return [[0], 1]"
   ]
  },
  {
   "cell_type": "code",
   "execution_count": null,
   "metadata": {},
   "outputs": [],
   "source": [
    "# Changing the element in the nested list\n",
    "nested[0] = 'zero'\n",
    "# Since original list is referencing the nested list,\n",
    "# so the original list will be affected.\n",
    "original  # return [['zero'], 1]"
   ]
  },
  {
   "cell_type": "code",
   "execution_count": null,
   "metadata": {},
   "outputs": [],
   "source": [
    "# Changing the element in the original list\n",
    "# The nested list will also be affected.\n",
    "original[0][0] = 0\n",
    "nested  # return [0]\n",
    "original  # return [[0], 1]"
   ]
  },
  {
   "cell_type": "code",
   "execution_count": null,
   "metadata": {},
   "outputs": [],
   "source": [
    "# Assigning a new list object to nested\n",
    "# Now, nested is referencing a new list, but not the value 0.\n",
    "nested = [2]\n",
    "original  # return [[0], 1]"
   ]
  },
  {
   "cell_type": "markdown",
   "metadata": {},
   "source": [
    "#### deepcopy( )\n",
    "\n",
    "We have mentioned about using slice to copy a list or using '+' or '*' operators to copy a list.  The methods mentioned is called \"shallow copy', which should satisfy most of the application need.  However, if we are trying to copy a nested list, it is possible we may need to use a deep copy.  In those cases, we need to import the **copy** package and using the deepcopy( ) function.\n",
    "\n",
    "Reference: https://docs.python.org/3/library/copy.html\n",
    "\n",
    "e.g.\n",
    "``` Python\n",
    "original = [[0], 1]\n",
    "shallow = original[:]\n",
    "import copy\n",
    "deep = copy.depcopy(original)\n",
    "```\n",
    "\n",
    "Shallow copy constructs a new compound object and then (to the extent possible) inserts **reference** into it to the objects found in the original.  In this example, both original and shallow element is referencing the same second layer list [0].  Changing the second layer list in either one will affect the other.\n",
    "\n",
    "e.g.\n",
    "``` Python\n",
    "shallow[1] = 2\n",
    "shallow  # return [[0], 2]\n",
    "# The first layar is copied, so changing the element in the first layer \n",
    "# will not affect the original list.\n",
    "original  # return [[0], 1]\n",
    "\n",
    "shallow[0][0] = 'zero'\n",
    "shallow  # return [['zero'], 2]\n",
    "# The second layer of both original and shallow are referencing to a \n",
    "# list [0], not copied, so changing the element in the second layer \n",
    "# will affect the original list.\n",
    "original  # return [['zero'], 1]\n",
    "```\n",
    "\n",
    "On the other hand, a deep copy constructs a new compound object and then, recursively, inserts **copies** into it of the objects found in the original.  Changing the element in a deep copy will not affect the orignal list.\n",
    "\n",
    "e.g.\n",
    "``` Python\n",
    "deep[0][0] = 5\n",
    "deep  # [[5], 1]\n",
    "original  # [['zero'], 1]\n",
    "```"
   ]
  },
  {
   "cell_type": "code",
   "execution_count": null,
   "metadata": {},
   "outputs": [],
   "source": [
    "original = [[0], 1]\n",
    "shallow = original[:]\n",
    "import copy\n",
    "deep = copy.depcopy(original)"
   ]
  },
  {
   "cell_type": "code",
   "execution_count": null,
   "metadata": {},
   "outputs": [],
   "source": [
    "shallow[1] = 2\n",
    "shallow  # return [[0], 2]\n",
    "# The first layar is copied, so changing the element in the first layer \n",
    "# will not affect the original list.\n",
    "original  # return [[0], 1]"
   ]
  },
  {
   "cell_type": "code",
   "execution_count": null,
   "metadata": {},
   "outputs": [],
   "source": [
    "shallow[0][0] = 'zero'\n",
    "shallow  # return [['zero'], 2]\n",
    "# The second layer of both original and shallow are referencing to a \n",
    "# list [0], not copied, so changing the element in the second layer \n",
    "# will affect the original list.\n",
    "original  # return [['zero'], 1]"
   ]
  },
  {
   "cell_type": "code",
   "execution_count": null,
   "metadata": {},
   "outputs": [],
   "source": [
    "deep[0][0] = 5\n",
    "deep  # [[5], 1]\n",
    "original  # [['zero'], 1]"
   ]
  },
  {
   "cell_type": "code",
   "execution_count": null,
   "metadata": {},
   "outputs": [],
   "source": [
    "# Try it yourself!\n",
    "\n",
    "# Suppose there is a list:\n",
    "x = [[1,2,3], [4,5,6], [7,8,9]]\n",
    "\n",
    "# Write a program to copy the list and assign to variable y.\n",
    "# And changing any element in y will have no affect to the original list x.\n",
    "\n"
   ]
  },
  {
   "cell_type": "markdown",
   "metadata": {},
   "source": [
    "## 2.7 - Tuple\n",
    "\n",
    "**Tuple** is a similar Python data type to a **list**, however, a **tuple** can only be created and cannot be modified. Generally speaking, **list** is a mutable objects which means it can be modified after it has been created.  A **tuple** is immutable objects which cannot be modified after it has been created.  \n",
    "\n",
    "The question is that if we alreayd have a mutable **list**, why Python create the **tuple** collection?  The reason is that **tuple** has a very important role in data science and programming, which cannot be replaced by a list object.  For instance,\n",
    "\n",
    "1. Program execution is faster hwen manipulating a tuple that it is for the equivalent list. \n",
    "\n",
    "2. Sometimes we don't want data to be modified.  If the values in the collection are meant to remain constant for the life of the program, using a tuple instead of a list guards against accidental modification.\n",
    "\n",
    "3. There is another Python data type called a dictionary, which requires as one of its components a value that is of an immutable type.  A tuple can be used for this purpose, whereas list can't be.\n",
    "\n",
    "Reference: https://docs.python.org/3.4/c-api/tuple.html\n",
    "\n",
    "Create a **tuple** in Python, instead of using the square bracket [ ], it is defined by enclosing the elements in parentheses ( ).  \n",
    "\n",
    "e.g. Create a tuple with three elements\n",
    "\n",
    "``` Python\n",
    "x = ('a', 'b', 'c')\n",
    "```\n",
    "\n",
    "Once the tuple is created, the methods apply to a list also apply to a tuple.  \n",
    "\n",
    "e.g. \n",
    "``` Python\n",
    "# Search an element by its index\n",
    "x[2]  # return 'c'\n",
    "\n",
    "# Search elements by slice method\n",
    "x[1:]  # return ('b', 'c')\n",
    "\n",
    "# Check the length of the tuple\n",
    "len(x)  # return 3\n",
    "\n",
    "# Find the minimum or maximum value in the tuple\n",
    "min(x)  # return 'a'\n",
    "max(x)  # return 'c'\n",
    "\n",
    "# Check if an element exist in the tuple\n",
    "5 in x  # return False\n",
    "5 not in x  # return True\n",
    "```\n"
   ]
  },
  {
   "cell_type": "code",
   "execution_count": 1,
   "metadata": {},
   "outputs": [],
   "source": [
    "# Create a tuple with 3 elements\n",
    "x = ('a', 'b', 'c')"
   ]
  },
  {
   "cell_type": "code",
   "execution_count": 2,
   "metadata": {},
   "outputs": [
    {
     "data": {
      "text/plain": [
       "'c'"
      ]
     },
     "execution_count": 2,
     "metadata": {},
     "output_type": "execute_result"
    }
   ],
   "source": [
    "# Search an element by its index\n",
    "x[2] "
   ]
  },
  {
   "cell_type": "code",
   "execution_count": 3,
   "metadata": {},
   "outputs": [
    {
     "data": {
      "text/plain": [
       "('b', 'c')"
      ]
     },
     "execution_count": 3,
     "metadata": {},
     "output_type": "execute_result"
    }
   ],
   "source": [
    "# Search elements by slice method\n",
    "x[1:] "
   ]
  },
  {
   "cell_type": "code",
   "execution_count": 4,
   "metadata": {},
   "outputs": [
    {
     "data": {
      "text/plain": [
       "3"
      ]
     },
     "execution_count": 4,
     "metadata": {},
     "output_type": "execute_result"
    }
   ],
   "source": [
    "# Check the length of the tuple\n",
    "len(x) "
   ]
  },
  {
   "cell_type": "code",
   "execution_count": 6,
   "metadata": {},
   "outputs": [
    {
     "data": {
      "text/plain": [
       "'c'"
      ]
     },
     "execution_count": 6,
     "metadata": {},
     "output_type": "execute_result"
    }
   ],
   "source": [
    "# Find the minimum value in the tuple\n",
    "min(x) \n",
    "max(x)"
   ]
  },
  {
   "cell_type": "code",
   "execution_count": 7,
   "metadata": {},
   "outputs": [
    {
     "data": {
      "text/plain": [
       "True"
      ]
     },
     "execution_count": 7,
     "metadata": {},
     "output_type": "execute_result"
    }
   ],
   "source": [
    "# Check if an element exist in the tuple\n",
    "5 in x  \n",
    "5 not in x "
   ]
  },
  {
   "cell_type": "code",
   "execution_count": null,
   "metadata": {},
   "outputs": [],
   "source": []
  },
  {
   "cell_type": "code",
   "execution_count": null,
   "metadata": {},
   "outputs": [],
   "source": []
  },
  {
   "cell_type": "code",
   "execution_count": null,
   "metadata": {},
   "outputs": [],
   "source": []
  },
  {
   "cell_type": "code",
   "execution_count": null,
   "metadata": {},
   "outputs": [],
   "source": []
  },
  {
   "cell_type": "code",
   "execution_count": null,
   "metadata": {},
   "outputs": [],
   "source": []
  },
  {
   "cell_type": "code",
   "execution_count": null,
   "metadata": {},
   "outputs": [],
   "source": []
  },
  {
   "cell_type": "code",
   "execution_count": null,
   "metadata": {},
   "outputs": [],
   "source": []
  },
  {
   "cell_type": "markdown",
   "metadata": {},
   "source": [
    "## 2.8 - Set"
   ]
  },
  {
   "cell_type": "code",
   "execution_count": null,
   "metadata": {},
   "outputs": [],
   "source": []
  }
 ],
 "metadata": {
  "kernelspec": {
   "display_name": "Python 3",
   "language": "python",
   "name": "python3"
  },
  "language_info": {
   "codemirror_mode": {
    "name": "ipython",
    "version": 3
   },
   "file_extension": ".py",
   "mimetype": "text/x-python",
   "name": "python",
   "nbconvert_exporter": "python",
   "pygments_lexer": "ipython3",
   "version": "3.7.1"
  }
 },
 "nbformat": 4,
 "nbformat_minor": 2
}
