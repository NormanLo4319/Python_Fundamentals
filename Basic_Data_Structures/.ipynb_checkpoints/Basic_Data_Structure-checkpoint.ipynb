{
 "cells": [
  {
   "cell_type": "markdown",
   "metadata": {},
   "source": [
    "## Lesson 2 - Basic Data Structure\n",
    "\n",
    "* 2.1 - List\n",
    "* 2.2 - Index and Slice\n",
    "* 2.3 - Common Methods of List Object\n",
    "* 2.4 - List Sort\n",
    "* 2.5 - Other List Operations\n",
    "* 2.6 - Multiple Layers List and DeepCopy\n",
    "* 2.7 - Tuple\n",
    "* 2.8 - Set\n",
    "\n",
    "In this section, we focus on discussing the basic data structure in Python: **List**, **Tuple**, and **Set**.  We will discuss **Dictionary** in the later section.  First of all, many people refer the Python \"list\" as an array in other programming language, however, You should know that the Python \"list\" is a much flexible and powerful data structure compares to an array in different programming language.  A \"tuple', on the other hand, is basically an **immutable** list.  We are going to discuss some situation when we need an immutable list, tuple.  \n",
    "\n",
    "This section also discuss a relatively new Python data structure: **set**, which is an unordered collection data type that is iterable, mutable, and has no duplicate elements."
   ]
  },
  {
   "cell_type": "markdown",
   "metadata": {},
   "source": [
    "## 2.1 - List\n",
    "\n",
    "A Python **list** is similar to an **array** in C, Java, and other programming languages, which is an ordered mutable collection of objects. A list is created by placing all the items (elements) inside a square bracket [ ], separated by commas.  \n",
    "\n",
    "Reference: https://docs.python.org/3/tutorial/datastructures.html\n",
    "\n",
    "Here is an example of a list.\n",
    "\n",
    "``` Python\n",
    "# Create a list with 3 elements and assign it to variable x\n",
    "x = [1, 2, 3]\n",
    "```\n",
    "\n",
    "It's worth to note that, unlike other programming languages, we do not need to define the type of the elements to be store in a list or the length of the list.  \n",
    "\n",
    "Python also has similar array module like in C.  Here is a documentation if you are interested in it.\n",
    "\n",
    "Reference: https://docs.python.org/3/library/array.html"
   ]
  },
  {
   "cell_type": "code",
   "execution_count": 1,
   "metadata": {},
   "outputs": [],
   "source": [
    "# Create a list with 3 elements and assign it to variable x\n",
    "x = [1, 2, 3]"
   ]
  },
  {
   "cell_type": "markdown",
   "metadata": {},
   "source": [
    "Python list is different to an array in other programming lauguages: it can store different type of data, in another word, list elements can be any Python objects.  Here is an example of storing different types of elements in a single list.\n",
    "\n",
    "``` Python\n",
    "# Create a list that includes integer, string, and another list of intergers.\n",
    "x = [2, 'two', [1, 2, 3]]\n",
    "```"
   ]
  },
  {
   "cell_type": "code",
   "execution_count": 2,
   "metadata": {},
   "outputs": [],
   "source": [
    "# Create a list that includes integer, string, and another list of intergers.\n",
    "x = [2, 'two', [1, 2, 3]]"
   ]
  },
  {
   "cell_type": "markdown",
   "metadata": {},
   "source": [
    "#### Number of elements in a list?\n",
    "\n",
    "len() is one of the most common function used for a list, it generally returns the number of items in an object. When the object is a list, the len() function returns the number of elements in the list.\n",
    "\n",
    "e.g. Count the number of elements in list x\n",
    "\n",
    "``` Python\n",
    "x = [2, 'two', [1, 2, 3]]\n",
    "len(x)  # return 3 items in the list\n",
    "```\n",
    "\n",
    "Intuition: The first element in the list is an interger 2. The second element in a string \"two\".  And the third element is a list [1, 2, 3]\n",
    "\n",
    "Note: len() function only returns the number of elements in the first layer of the list.  In the previous example, the return value should be 3 because it won't count the elements in the second layer list."
   ]
  },
  {
   "cell_type": "code",
   "execution_count": 3,
   "metadata": {},
   "outputs": [
    {
     "data": {
      "text/plain": [
       "3"
      ]
     },
     "execution_count": 3,
     "metadata": {},
     "output_type": "execute_result"
    }
   ],
   "source": [
    "# Count the number of elements in list x\n",
    "x = [2, 'two', [1, 2, 3]]\n",
    "len(x)"
   ]
  },
  {
   "cell_type": "code",
   "execution_count": null,
   "metadata": {},
   "outputs": [],
   "source": [
    "# Try it yourself!\n",
    "\n",
    "# Use the len() function to find out the number of elements in each of the list.\n",
    "\n",
    "x = [0]\n",
    "\n",
    "\n",
    "y = []\n",
    "\n",
    "\n",
    "z = [[1, 3, [4, 5], 6], 7]\n",
    "\n"
   ]
  },
  {
   "cell_type": "markdown",
   "metadata": {},
   "source": [
    "## 2.2 - Index and Slice\n",
    "\n",
    "The method used to find or retrieve an element from a list is similar to C, which uses an **index** [n] for n position in the list. Python uses a zero-base indexing system, meaning that the first element in a sequence is located at position 0.\n",
    "\n",
    "Here is the example,\n",
    "\n",
    "``` Python\n",
    "# Create a list with 4 string elements\n",
    "x = [\"first\", \"second\", \"third\", \"fourth\"]\n",
    "\n",
    "# Find the first element \"first\" from the list\n",
    "x[0]  # return a string \"first\"\n",
    "\n",
    "# Find the third element \"third\" from the list\n",
    "x[2]  # return a string \"third\"\n",
    "```"
   ]
  },
  {
   "cell_type": "code",
   "execution_count": 5,
   "metadata": {},
   "outputs": [],
   "source": [
    "# Create a list with 4 string elements\n",
    "x = [\"first\", \"second\", \"third\", \"fourth\"]"
   ]
  },
  {
   "cell_type": "code",
   "execution_count": 6,
   "metadata": {},
   "outputs": [
    {
     "data": {
      "text/plain": [
       "'first'"
      ]
     },
     "execution_count": 6,
     "metadata": {},
     "output_type": "execute_result"
    }
   ],
   "source": [
    "# Find the first element \"first\" from the list\n",
    "x[0]"
   ]
  },
  {
   "cell_type": "code",
   "execution_count": 7,
   "metadata": {},
   "outputs": [
    {
     "data": {
      "text/plain": [
       "'third'"
      ]
     },
     "execution_count": 7,
     "metadata": {},
     "output_type": "execute_result"
    }
   ],
   "source": [
    "# Find the third element \"third\" from the list\n",
    "x[2]"
   ]
  },
  {
   "cell_type": "markdown",
   "metadata": {},
   "source": [
    "If we are using a negative index, the count begins from the last element in the list, which -1 is pointing at the last element in the list, -2 will be the second to the last element, etc.  We can use the list in our previous example to demonstrate use of negative index.\n",
    "\n",
    "Here is the example,\n",
    "\n",
    "``` Python\n",
    "# Assigne the last element from list x to variable a\n",
    "a = x[-1]\n",
    "\n",
    "# The string \"fourth\" should be assigned to variable a\n",
    "a  # return a string 'fourth'\n",
    "\n",
    "# Assign the second to the last element from list x to variable b\n",
    "b = x[-2]\n",
    "\n",
    "# The string \"third\" should be assigned to variable b\n",
    "b  # return a string 'third'\n",
    "```"
   ]
  },
  {
   "cell_type": "code",
   "execution_count": 8,
   "metadata": {},
   "outputs": [
    {
     "data": {
      "text/plain": [
       "'fourth'"
      ]
     },
     "execution_count": 8,
     "metadata": {},
     "output_type": "execute_result"
    }
   ],
   "source": [
    "# Assigne the last element from list x to variable a\n",
    "a = x[-1]\n",
    "\n",
    "# The string \"fourth\" should be assigned to variable a\n",
    "a"
   ]
  },
  {
   "cell_type": "code",
   "execution_count": 9,
   "metadata": {},
   "outputs": [
    {
     "data": {
      "text/plain": [
       "'third'"
      ]
     },
     "execution_count": 9,
     "metadata": {},
     "output_type": "execute_result"
    }
   ],
   "source": [
    "# Assign the second to the last element from list x to variable b\n",
    "b = x[-2]\n",
    "\n",
    "# The string \"third\" should be assigned to variable b\n",
    "b"
   ]
  },
  {
   "cell_type": "code",
   "execution_count": null,
   "metadata": {},
   "outputs": [],
   "source": [
    "# Try it yourself!\n",
    "\n",
    "# Given a list of element, can you find the element of your interest by the index method?\n",
    "\n",
    "x = [\"Tom\", 235, 10.55, \"Black\", \"USA\", \"30\", 2*3, \"3 divided by 2\", \"Python\"]\n",
    "\n",
    "\n"
   ]
  },
  {
   "cell_type": "markdown",
   "metadata": {},
   "source": [
    "#### Slicing a List\n",
    "\n",
    "In the previous examples, we use the index method to retrieve a single element from a list.  Python also offers a slice object to specify how to slice a sequence or point to multiple elements in a list, it is sometime called **\"Slicing\"**. You can specify where to start the slicing and where to end by using a square bracket [ index1 : index2 ].  Note that the slicing index is not inclusive, which means the slicing will begin from index1, but do not include index2 at the end.  Let's demonstrate this in the following examples.\n",
    "\n",
    "Here is the examples:\n",
    "\n",
    "``` Python\n",
    "# Create a list with 4 string elements\n",
    "x = [\"first\", \"second\", \"third\", \"fourth\"]\n",
    "\n",
    "# Slice the list that contains the first to the third elements\n",
    "x[0:3]  # return a list ['first', 'second', 'third']\n",
    "\n",
    "# Slice the list that contains the second and third elements\n",
    "x[1:3]  # return a list ['second', 'third']\n",
    "\n",
    "# We can also apply the negative index,\n",
    "# For instance, we can slice the list that contains second and third elements\n",
    "x[-3:-1]  # return a list ['second', 'third']\n",
    "```\n",
    "\n",
    "Note that if the position of index2 is in front of the position of index1, it will return an empty list.\n",
    "\n",
    "``` Python\n",
    "x[-1:2]  # return an empty list [ ]\n",
    "```"
   ]
  },
  {
   "cell_type": "code",
   "execution_count": 10,
   "metadata": {},
   "outputs": [],
   "source": [
    "# Create a list with 4 string elements\n",
    "x = [\"first\", \"second\", \"third\", \"fourth\"]"
   ]
  },
  {
   "cell_type": "code",
   "execution_count": 11,
   "metadata": {},
   "outputs": [
    {
     "data": {
      "text/plain": [
       "['first', 'second', 'third']"
      ]
     },
     "execution_count": 11,
     "metadata": {},
     "output_type": "execute_result"
    }
   ],
   "source": [
    "# Slice the list that contains the first to the third elements\n",
    "x[0:3]"
   ]
  },
  {
   "cell_type": "code",
   "execution_count": 12,
   "metadata": {},
   "outputs": [
    {
     "data": {
      "text/plain": [
       "['second', 'third']"
      ]
     },
     "execution_count": 12,
     "metadata": {},
     "output_type": "execute_result"
    }
   ],
   "source": [
    "# Slice the list that contains the second and third elements\n",
    "x[1:3]"
   ]
  },
  {
   "cell_type": "code",
   "execution_count": 13,
   "metadata": {},
   "outputs": [
    {
     "data": {
      "text/plain": [
       "['second', 'third']"
      ]
     },
     "execution_count": 13,
     "metadata": {},
     "output_type": "execute_result"
    }
   ],
   "source": [
    "# We can also apply the negative index,\n",
    "# For instance, we can slice the list that contains second and third elements\n",
    "x[-3:-1]"
   ]
  },
  {
   "cell_type": "code",
   "execution_count": 14,
   "metadata": {},
   "outputs": [
    {
     "data": {
      "text/plain": [
       "[]"
      ]
     },
     "execution_count": 14,
     "metadata": {},
     "output_type": "execute_result"
    }
   ],
   "source": [
    "# If the position of the second index is in front of the position of the first index\n",
    "# the return object will be an empty list.\n",
    "x[-1:2]"
   ]
  },
  {
   "cell_type": "markdown",
   "metadata": {},
   "source": [
    "When slicing, index1 or index2 or both can be missed in the argument.  Without index1 means starts from the firt element in the list.  Without index2 means ends with the last element in the list.  When both are missing, it returns the original list (include all the elements from the beginning to the end).\n",
    "\n",
    "Lets demonstrate with some examples here,\n",
    "\n",
    "``` Python\n",
    "# Slicing the first three elements from list x\n",
    "x[:3]  # return a list ['first', 'second', 'third']\n",
    "\n",
    "# Slicing the last two elements from list x\n",
    "x[2:]  # return a list ['third', 'fourth']\n",
    "\n",
    "# Slicing all elements from list x\n",
    "x[:]  # ['first', 'second', 'third', 'fourth']\n",
    "```"
   ]
  },
  {
   "cell_type": "code",
   "execution_count": 15,
   "metadata": {},
   "outputs": [
    {
     "data": {
      "text/plain": [
       "['first', 'second', 'third']"
      ]
     },
     "execution_count": 15,
     "metadata": {},
     "output_type": "execute_result"
    }
   ],
   "source": [
    "# Slicing the first three elements from list x\n",
    "x[:3]"
   ]
  },
  {
   "cell_type": "code",
   "execution_count": 16,
   "metadata": {},
   "outputs": [
    {
     "data": {
      "text/plain": [
       "['third', 'fourth']"
      ]
     },
     "execution_count": 16,
     "metadata": {},
     "output_type": "execute_result"
    }
   ],
   "source": [
    "# Slicing the last two elements from list x\n",
    "x[2:]"
   ]
  },
  {
   "cell_type": "code",
   "execution_count": 17,
   "metadata": {},
   "outputs": [
    {
     "data": {
      "text/plain": [
       "['first', 'second', 'third', 'fourth']"
      ]
     },
     "execution_count": 17,
     "metadata": {},
     "output_type": "execute_result"
    }
   ],
   "source": [
    "# Slicing all elements from list x\n",
    "x[:]"
   ]
  },
  {
   "cell_type": "markdown",
   "metadata": {},
   "source": [
    "When we are assigning a list to a variable, we need to be careful how we assign it.  Below is a very good example to demonstrate the advantage for copying a list to a new list.\n",
    "\n",
    "``` Python\n",
    "# Assign all elements to variable y\n",
    "y = x[:]  # y is now a list with all the elements assigned to x\n",
    "\n",
    "# Suppose we modify the new list y\n",
    "y[0] = \"1 st\"\n",
    "\n",
    "# y is now changed\n",
    "y  # return with a list ['1 st', 'second', 'third', 'fourth']\n",
    "\n",
    "# The original x will not be effected by any change of y\n",
    "x  # return the original list ['first', 'second', 'third', 'fourth']\n",
    "\n",
    "# If we assign x to y\n",
    "y = x  # Now y is referencing x, which is referencing the list\n",
    "\n",
    "# Suppose we modify y\n",
    "y[0] = \"1 st\"\n",
    "\n",
    "# y is now changed\n",
    "y  # return with a list ['1 st', 'second', 'third', 'fourth']\n",
    "\n",
    "# x is also changed\n",
    "x  # return with a list ['1 st', 'second', 'third', 'fourth']\n",
    "```\n"
   ]
  },
  {
   "cell_type": "code",
   "execution_count": 18,
   "metadata": {},
   "outputs": [],
   "source": [
    "# Assign all elements to variable y\n",
    "y = x[:]  # y is now a list with all the elements assigned to x\n",
    "\n",
    "# Suppose we modify the new list y\n",
    "y[0] = \"1 st\""
   ]
  },
  {
   "cell_type": "code",
   "execution_count": 19,
   "metadata": {},
   "outputs": [
    {
     "data": {
      "text/plain": [
       "['1 st', 'second', 'third', 'fourth']"
      ]
     },
     "execution_count": 19,
     "metadata": {},
     "output_type": "execute_result"
    }
   ],
   "source": [
    "# y is now changed\n",
    "y  # return with a list "
   ]
  },
  {
   "cell_type": "code",
   "execution_count": 20,
   "metadata": {},
   "outputs": [
    {
     "data": {
      "text/plain": [
       "['first', 'second', 'third', 'fourth']"
      ]
     },
     "execution_count": 20,
     "metadata": {},
     "output_type": "execute_result"
    }
   ],
   "source": [
    "# The original x will not be effected by any change of y\n",
    "x  # return the original list"
   ]
  },
  {
   "cell_type": "code",
   "execution_count": 21,
   "metadata": {},
   "outputs": [],
   "source": [
    "# If we assign x to y\n",
    "y = x  # Now y is referencing x, which is referencing the list\n",
    "\n",
    "# Suppose we modify y\n",
    "y[0] = \"1 st\""
   ]
  },
  {
   "cell_type": "code",
   "execution_count": 22,
   "metadata": {},
   "outputs": [
    {
     "data": {
      "text/plain": [
       "['1 st', 'second', 'third', 'fourth']"
      ]
     },
     "execution_count": 22,
     "metadata": {},
     "output_type": "execute_result"
    }
   ],
   "source": [
    "# y is now changed\n",
    "y  # return with a list"
   ]
  },
  {
   "cell_type": "code",
   "execution_count": 23,
   "metadata": {},
   "outputs": [
    {
     "data": {
      "text/plain": [
       "['1 st', 'second', 'third', 'fourth']"
      ]
     },
     "execution_count": 23,
     "metadata": {},
     "output_type": "execute_result"
    }
   ],
   "source": [
    "# x is also changed\n",
    "x  # return with a list"
   ]
  },
  {
   "cell_type": "code",
   "execution_count": null,
   "metadata": {},
   "outputs": [],
   "source": [
    "# Try it yourself!\n",
    "\n",
    "# Try to use both len() and slicing to get the second half of the elements \n",
    "# from a list with unknown number of elements.  \n",
    "# Check to see if you solution work with an example.\n",
    "\n",
    "# Create a list\n",
    "\n",
    "\n",
    "# Code your solution here!\n",
    "\n"
   ]
  },
  {
   "cell_type": "markdown",
   "metadata": {},
   "source": [
    "#### Bonus:\n",
    "\n",
    "When we start to program, the Python slicing index method actaully helps improving the efficiency for programming.  Think about the following example,\n",
    "\n",
    "```Python\n",
    "x = [0, 1, 2, 3, 4, 5]\n",
    "start = 2\n",
    "length = 3\n",
    "x[start:start+length]  # return [2, 3, 4]\n",
    "```\n",
    "\n",
    "Since the slicing index method is not inclusive, [m:n] will have the length n-m.  If the slicing index mthod is inclusive, the slicing will be x[start:start+length-1], where the length of the slice will be n-m+1. This is one of the common bug in programming when we have to -1 for one process and +1 for the other."
   ]
  },
  {
   "cell_type": "markdown",
   "metadata": {},
   "source": [
    "#### Modify element(s) in a list\n",
    "\n",
    "Both index and slice can be used to modify the existing list. Here are some examples.\n",
    "\n",
    "``` Python\n",
    "# Suppose we want to modify the third element in a list\n",
    "x = [0, 1, 2, 3, 4]\n",
    "x[2] = \"two\"  # replace by index\n",
    "x\n",
    "\n",
    "# Suppose we want to modify the second and third elements in a list\n",
    "x = [0, 1, 2, 3, 4]\n",
    "x[1:3] = [\"one\", \"two\"]  # replace by slice\n",
    "x  # return [0, 1, 'two', 3, 4]\n",
    "\n",
    "# Suppose we want to modify the second and third elements in a list\n",
    "x = [0, 1, 2, 3, 4]\n",
    "x[1:3] = [\"one\", \"two\"]  # replace by slice\n",
    "x  # return [0, 'one', 'two', 3, 4]\n",
    "\n",
    "# When using slice to modify the elements in a list a[m:n] = b,\n",
    "# the length of b is not required equal to the length between n and m.\n",
    "x = [0, 1, 2, 3, 4]\n",
    "x[1:3] = ['one', 'two', 'three']\n",
    "x  # return [0, 'one', 'two', 'three', 3, 4]\n",
    "\n",
    "x[0:4] = ['a', 'b']\n",
    "x  # return ['a', 'b', 3, 4]\n",
    "\n",
    "# We can also using this method to add or insert element(s) to a list\n",
    "x = [0, 1, 2, 3, 4]\n",
    "\n",
    "# Adding 3 elements to the end of the existing list\n",
    "x[len(x):] = [5, 6, 7]\n",
    "x  # return [0, 1, 2, 3, 4, 5, 6, 7]\n",
    "\n",
    "# Adding 2 elements to the front of the existing list\n",
    "x[:0] = [-2, -1]\n",
    "x  # return [-2, -1, 0, 1, 2, 3, 4, 5, 6, 7]\n",
    "\n",
    "# Remove mutliple elements from the existing list\n",
    "x[1:-1] = []\n",
    "x  # return [-2, 7]\n",
    "```\n"
   ]
  },
  {
   "cell_type": "code",
   "execution_count": 24,
   "metadata": {},
   "outputs": [
    {
     "data": {
      "text/plain": [
       "[0, 1, 'two', 3, 4]"
      ]
     },
     "execution_count": 24,
     "metadata": {},
     "output_type": "execute_result"
    }
   ],
   "source": [
    "# Suppose we want to modify the third element in a list\n",
    "x = [0, 1, 2, 3, 4]\n",
    "x[2] = \"two\"  # replace by index\n",
    "x"
   ]
  },
  {
   "cell_type": "code",
   "execution_count": 25,
   "metadata": {},
   "outputs": [
    {
     "data": {
      "text/plain": [
       "[0, 'one', 'two', 3, 4]"
      ]
     },
     "execution_count": 25,
     "metadata": {},
     "output_type": "execute_result"
    }
   ],
   "source": [
    "# Suppose we want to modify the second and third elements in a list\n",
    "x = [0, 1, 2, 3, 4]\n",
    "x[1:3] = [\"one\", \"two\"]  # replace by slice\n",
    "x"
   ]
  },
  {
   "cell_type": "code",
   "execution_count": 26,
   "metadata": {},
   "outputs": [
    {
     "data": {
      "text/plain": [
       "[0, 'one', 'two', 'three', 3, 4]"
      ]
     },
     "execution_count": 26,
     "metadata": {},
     "output_type": "execute_result"
    }
   ],
   "source": [
    "# When using slice to modify the elements in a list a[m:n] = b,\n",
    "# the length of b is not required equal to the length between n and m.\n",
    "x = [0, 1, 2, 3, 4]\n",
    "x[1:3] = ['one', 'two', 'three']\n",
    "x"
   ]
  },
  {
   "cell_type": "code",
   "execution_count": 27,
   "metadata": {},
   "outputs": [
    {
     "data": {
      "text/plain": [
       "['a', 'b', 3, 4]"
      ]
     },
     "execution_count": 27,
     "metadata": {},
     "output_type": "execute_result"
    }
   ],
   "source": [
    "x[0:4] = ['a', 'b']\n",
    "x"
   ]
  },
  {
   "cell_type": "code",
   "execution_count": 28,
   "metadata": {},
   "outputs": [
    {
     "data": {
      "text/plain": [
       "[0, 1, 2, 3, 4, 5, 6, 7]"
      ]
     },
     "execution_count": 28,
     "metadata": {},
     "output_type": "execute_result"
    }
   ],
   "source": [
    "# We can also using this method to add or insert element(s) to a list\n",
    "x = [0, 1, 2, 3, 4]\n",
    "\n",
    "# Adding 3 elements to the end of the existing list\n",
    "x[len(x):] = [5, 6, 7]\n",
    "x"
   ]
  },
  {
   "cell_type": "code",
   "execution_count": 29,
   "metadata": {},
   "outputs": [
    {
     "data": {
      "text/plain": [
       "[-2, -1, 0, 1, 2, 3, 4, 5, 6, 7]"
      ]
     },
     "execution_count": 29,
     "metadata": {},
     "output_type": "execute_result"
    }
   ],
   "source": [
    "# Adding 2 elements to the front of the existing list\n",
    "x[:0] = [-2, -1]\n",
    "x"
   ]
  },
  {
   "cell_type": "code",
   "execution_count": 30,
   "metadata": {},
   "outputs": [
    {
     "data": {
      "text/plain": [
       "[-2, 7]"
      ]
     },
     "execution_count": 30,
     "metadata": {},
     "output_type": "execute_result"
    }
   ],
   "source": [
    "# Remove mutliple elements from the existing list\n",
    "x[1:-1] = []\n",
    "x"
   ]
  },
  {
   "cell_type": "markdown",
   "metadata": {},
   "source": [
    "## 2.3 - Common Methods of List Object\n",
    "\n",
    "In this section, we discuss the common **methods** of list **object**. To programming beginners, the concept of **method** could be very vague. If we image a Python **object** is actually a physical object, **method** is bacially the action of the **object**.  It's similar to when we are using a **verb** pair with a **noun** in a sentence.  Python is an object oriented program.  A method defines the behavior of the object and is an actiona that an object is able to perform.\n",
    "\n",
    "For instance,\n",
    "\n",
    "|  Writing  |  Python Program  |\n",
    "| :---:  |  :---:  |\n",
    "|  Mom  |  mom  |\n",
    "|  Mom sleeps  |  mom.sleep()  |\n",
    "\n",
    "Here is a list of common methods of list objects,\n",
    "\n",
    "|  List Methods  |  Description  |  Code Example  |\n",
    "|  :---:  |  :---:  |  :---:  |\n",
    "|  [ ]  |  Building an empty list  |  x = [ ]  |\n",
    "|  len()  |  Return the length of the list  |  len(x)  |\n"
   ]
  },
  {
   "cell_type": "code",
   "execution_count": null,
   "metadata": {},
   "outputs": [],
   "source": []
  },
  {
   "cell_type": "code",
   "execution_count": null,
   "metadata": {},
   "outputs": [],
   "source": []
  },
  {
   "cell_type": "code",
   "execution_count": null,
   "metadata": {},
   "outputs": [],
   "source": []
  },
  {
   "cell_type": "code",
   "execution_count": null,
   "metadata": {},
   "outputs": [],
   "source": []
  },
  {
   "cell_type": "code",
   "execution_count": null,
   "metadata": {},
   "outputs": [],
   "source": []
  },
  {
   "cell_type": "code",
   "execution_count": null,
   "metadata": {},
   "outputs": [],
   "source": []
  },
  {
   "cell_type": "code",
   "execution_count": null,
   "metadata": {},
   "outputs": [],
   "source": []
  },
  {
   "cell_type": "code",
   "execution_count": null,
   "metadata": {},
   "outputs": [],
   "source": []
  },
  {
   "cell_type": "code",
   "execution_count": null,
   "metadata": {},
   "outputs": [],
   "source": []
  },
  {
   "cell_type": "code",
   "execution_count": null,
   "metadata": {},
   "outputs": [],
   "source": []
  },
  {
   "cell_type": "code",
   "execution_count": null,
   "metadata": {},
   "outputs": [],
   "source": []
  },
  {
   "cell_type": "code",
   "execution_count": null,
   "metadata": {},
   "outputs": [],
   "source": []
  },
  {
   "cell_type": "code",
   "execution_count": null,
   "metadata": {},
   "outputs": [],
   "source": []
  },
  {
   "cell_type": "code",
   "execution_count": null,
   "metadata": {},
   "outputs": [],
   "source": []
  },
  {
   "cell_type": "code",
   "execution_count": null,
   "metadata": {},
   "outputs": [],
   "source": []
  },
  {
   "cell_type": "code",
   "execution_count": null,
   "metadata": {},
   "outputs": [],
   "source": []
  },
  {
   "cell_type": "code",
   "execution_count": null,
   "metadata": {},
   "outputs": [],
   "source": []
  },
  {
   "cell_type": "code",
   "execution_count": null,
   "metadata": {},
   "outputs": [],
   "source": []
  }
 ],
 "metadata": {
  "kernelspec": {
   "display_name": "Python 3",
   "language": "python",
   "name": "python3"
  },
  "language_info": {
   "codemirror_mode": {
    "name": "ipython",
    "version": 3
   },
   "file_extension": ".py",
   "mimetype": "text/x-python",
   "name": "python",
   "nbconvert_exporter": "python",
   "pygments_lexer": "ipython3",
   "version": "3.7.1"
  }
 },
 "nbformat": 4,
 "nbformat_minor": 2
}
