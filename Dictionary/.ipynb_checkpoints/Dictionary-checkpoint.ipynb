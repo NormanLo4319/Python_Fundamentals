{
 "cells": [
  {
   "cell_type": "markdown",
   "metadata": {},
   "source": [
    "# Dictionary\n",
    "\n",
    "Python **dictionary** is an unordered collection of items.  A **dictionary** is a set of **key** **value** pairs, with the requirement that the keys are unique (within one dictionary).  Dictionaries are optimized to retrieve values when the key is known.\n",
    "\n",
    "- 4.1 - What is a dictionary?\n",
    "- 4.2 - Methods of Dictionary Object\n",
    "- 4.3 - Word Count\n",
    "- 4.4 - What object can be a \"key\"?\n",
    "- 4.5 - Sparse Matrix\n",
    "- 4.6 - Using Dictionary as Cache\n",
    "- 4.7 - Dictionary Efficiency\n",
    "\n",
    "Reference: https://docs.python.org/3/tutorial/datastructures.html#dictionaries\n",
    "\n",
    "## 4.1 - What is a \"dictionary\"?\n",
    "\n",
    "Python dictionary (dict) is similar to an English dictionary to find the defnition of a word by the search of the **key**.  We can inquire a **value** from a dictionary by using the **key**, therefore, **key** is essential in dictionary data structure. A pair of braces (curly brackets) reates an empty dictionary: { }.  Placing a comma-separated list of key:value pairs within the braces adds initial key:value pairs to the dictionary; this is also the way dictionary are written on output.  Here are some examples:\n",
    "\n",
    "e.g. {key1: value1, Key2: value2, ...}\n",
    "``` Python\n",
    "# Create a dictionary called \"ages\"\n",
    "ages = {\"Mary\":13, \"John\":14, \"Tony\":13}\n",
    "\n",
    "# Retrieve the value from a dictionary\n",
    "ages[\"Mary\"]  # return 13\n",
    "ages[\"John\"]  # return 14\n",
    "ages  # return {\"Mary\":13, \"John\":14, \"Tony\":13}\n",
    "```"
   ]
  },
  {
   "cell_type": "code",
   "execution_count": null,
   "metadata": {},
   "outputs": [],
   "source": [
    "# Create a dictionary called \"ages\"\n",
    "ages = {\"Mary\":13, \"John\":14, \"Tony\":13}"
   ]
  },
  {
   "cell_type": "code",
   "execution_count": null,
   "metadata": {},
   "outputs": [],
   "source": [
    "# Retrieve the value from a dictionary\n",
    "ages[\"Mary\"]  # return 13\n",
    "ages[\"John\"]  # return 14\n",
    "ages  # return {\"Mary\":13, \"John\":14, \"Tony\":13}"
   ]
  },
  {
   "cell_type": "markdown",
   "metadata": {},
   "source": [
    "Comparing dictionary and list:\n",
    "If you have not encountered a dictionary data structure before, it would be a good idea to compare it with a list object to get a better understand of it.\n",
    "\n",
    "- Both dictionary and list can store any type of object\n",
    "- List index is a ordered sequence of numbers, which reflects the order of the elements and the position of an element in a list.  \n",
    "- Dictionary is indexed by keys, which can be any immutable type; strings and numbers can always be keys.  \n",
    "\n",
    "We have the following examples to demonstrate the different between dictionary and list.\n",
    "\n",
    "e.g.\n",
    "``` Python\n",
    "# Create an empty list x and empty dictionary y\n",
    "x = []\n",
    "y = {}\n",
    "\n",
    "# Assign key and value into a dictionary\n",
    "y[0] = \"Hello\"\n",
    "y[1] = \"Goodbye\"\n",
    "y  # return {0:\"Hello\", 1:\"Goodbye\"}\n",
    "```\n",
    "\n",
    "Note, the above example is not to assigne the strings into position 0 and 1 in a dictionary.  What it does is to create a key 0 and assign a string value \"Hello\" to the key 0 and same of the key 1.  Note that if we are trying to assign value to an empty list without any defined index space, it will return an error message.\n",
    "\n",
    "``` Python\n",
    "x[0] = \"Hello\"  # return error message\n",
    "```\n",
    "\n",
    "Once keys and values are assigned to a dictionary, we can retrieve and use it.\n",
    "\n",
    "``` Python\n",
    "print(y[0])  # return \"Hello\"\n",
    "y[1] + \", Friend.\"  # return \"Goodbye, Friend.\"\n",
    "```"
   ]
  },
  {
   "cell_type": "code",
   "execution_count": null,
   "metadata": {},
   "outputs": [],
   "source": [
    "# Create an empty list x and empty dictionary y\n",
    "x = []\n",
    "y = {}"
   ]
  },
  {
   "cell_type": "code",
   "execution_count": null,
   "metadata": {},
   "outputs": [],
   "source": [
    "# Assigning keys and values to a dictionary\n",
    "y[0] = \"Hello\"\n",
    "y[1] = \"Goodbye\"\n",
    "y  "
   ]
  },
  {
   "cell_type": "code",
   "execution_count": null,
   "metadata": {},
   "outputs": [],
   "source": [
    "# Cannot assign value to an empty list\n",
    "x[0] = \"Hello\""
   ]
  },
  {
   "cell_type": "code",
   "execution_count": null,
   "metadata": {},
   "outputs": [],
   "source": [
    "# Using the value assgined to a dictionary\n",
    "print(y[0])\n",
    "y[1] + \", Friend.\" "
   ]
  },
  {
   "cell_type": "markdown",
   "metadata": {},
   "source": [
    "It seems like the use of dictionary and list is pretty similar until now.  Let's try using non-number key and understand how dictionary is different to list.\n",
    "\n",
    "e.g.\n",
    "``` Python\n",
    "# Assigning a new value to an existing value with the same key\n",
    "y[\"two\"] = \"two\"\n",
    "y[\"two\"] = 2   # 2 will replace the original string \"two\"\n",
    "\n",
    "# Multiple two values from the same dictionary\n",
    "y[\"pi\"] = 3.14\n",
    "y[\"two\"] * y[\"pi\"]  # return 6.28\n",
    "```\n",
    "\n",
    "As you can see, the above operations cannot be done with a list.  List index has to be number and dictionary provides us more flexibility with possible key in number, string, or other Python objects.  This makes dictionary a more useful data type to use over list in most cases, for instance, using dictionary storing phone list is more reasonable than using a list because we can retrieve the phone number by the name of the person.\n",
    "\n",
    "You can also think of a dictionary is a data structure that connect different objects, which is similar to a dictionary or encyclopedia in our life.  We can demonstrate with the following example:\n",
    "\n",
    "e.g. English to French Dictionary\n",
    "``` Python\n",
    "english_to_french = {}\n",
    "english_to_french['red'] = 'rouge'\n",
    "english_to_french['blue'] = 'bleu'\n",
    "english_to_french['green'] = 'vert'\n",
    "print(\"red is\", english_to_french['red'])  # return \"red is rouge\"\n",
    "```"
   ]
  },
  {
   "cell_type": "code",
   "execution_count": null,
   "metadata": {},
   "outputs": [],
   "source": [
    "# Assigning a new value to an existing value with the same key\n",
    "y[\"two\"] = \"two\"\n",
    "y[\"two\"] = 2 "
   ]
  },
  {
   "cell_type": "code",
   "execution_count": null,
   "metadata": {},
   "outputs": [],
   "source": [
    "# Multiple two values from the same dictionary\n",
    "y[\"pi\"] = 3.14\n",
    "y[\"two\"] * y[\"pi\"]"
   ]
  },
  {
   "cell_type": "code",
   "execution_count": null,
   "metadata": {},
   "outputs": [],
   "source": [
    "# Creating an English to French dictionary\n",
    "english_to_french = {}\n",
    "english_to_french['red'] = 'rouge'\n",
    "english_to_french['blue'] = 'bleu'\n",
    "english_to_french['green'] = 'vert'\n",
    "print(\"red is\", english_to_french['red'])"
   ]
  },
  {
   "cell_type": "code",
   "execution_count": null,
   "metadata": {},
   "outputs": [],
   "source": [
    "# Try it yourself\n",
    "\n",
    "# Write a program that require user to enter 3 names and 3 ages, \n",
    "# which allow user to search the age with a given name.\n",
    "\n"
   ]
  },
  {
   "cell_type": "markdown",
   "metadata": {},
   "source": [
    "## 4.2 - Methods of Dictionary Object\n",
    "\n",
    "Except the basic assignment and extraction operations, dictionary also supports many operations.  Here are some examples:\n",
    "\n",
    "e.g. Using len( ) function to check the numbers of key:value pairs\n",
    "``` Python\n",
    "# Create a dictionary with 3 key:value pairs\n",
    "english_to_french = {\"red\":\"rouge\", \"blue\":\"bleu\", \"green\":\"vert\"}\n",
    "\n",
    "# Use len( ) to find out the numbers of key:value pairs in a dictionary\n",
    "len(english_to_french)  # return 3\n",
    "```\n",
    "\n",
    "##### keys( ), values( ), and item( ) methods\n",
    "We can use the keys( ) method to extract all the keys in a dictionary.\n",
    "\n",
    "e.g. \n",
    "``` Python\n",
    "list(english_to_french.keys()) # return ['green', 'blue', 'red']\n",
    "```\n",
    "\n",
    "We can also use the values( ) method to extract all the values in a dictionary, but it is not as intuitive and commonly used as keys( ).\n",
    "\n",
    "e.g.\n",
    "``` Python\n",
    "list(english_to_french.values()) # return ['vert', 'bleu', 'rough']\n",
    "```\n",
    "\n",
    "item( ) will return the key:value pairs in a tuple:\n",
    "\n",
    "e.g.\n",
    "``` Python\n",
    "list(english_to_french.items())  # return[('green', 'vert'), ('blue', 'bleu', ('red', 'rouge')]\n",
    "```\n",
    "\n",
    "The above mentioned methods are usually applied in a for loop to extract the contents stored in a dictionary. "
   ]
  },
  {
   "cell_type": "code",
   "execution_count": 1,
   "metadata": {},
   "outputs": [
    {
     "data": {
      "text/plain": [
       "3"
      ]
     },
     "execution_count": 1,
     "metadata": {},
     "output_type": "execute_result"
    }
   ],
   "source": [
    "# Create a dictionary with 3 key:value pairs\n",
    "english_to_french = {\"red\":\"rouge\", \"blue\":\"bleu\", \"green\":\"vert\"}\n",
    "\n",
    "# Use len( ) to find out the numbers of key:value pairs in a dictionary\n",
    "len(english_to_french)"
   ]
  },
  {
   "cell_type": "code",
   "execution_count": null,
   "metadata": {},
   "outputs": [],
   "source": [
    "# Extract all the keys in a dictionary\n",
    "list(english_to_french.keys()) "
   ]
  },
  {
   "cell_type": "code",
   "execution_count": null,
   "metadata": {},
   "outputs": [],
   "source": [
    "# Extract all the values in a dictionary\n",
    "list(english_to_french.values())"
   ]
  },
  {
   "cell_type": "code",
   "execution_count": null,
   "metadata": {},
   "outputs": [],
   "source": [
    "# extract all the key:value pairs in a dictionary\n",
    "list(english_to_french.items()) "
   ]
  },
  {
   "cell_type": "markdown",
   "metadata": {},
   "source": [
    "##### get( ) and setdefault( ) methods\n",
    "\n",
    "The **del** keyword can be used to remove/delete pair object in a dictionary:\n",
    "\n",
    "e.g.\n",
    "``` Python\n",
    "# Delete a pair object in a dictionary\n",
    "list(english_to_french.items())  # return[('green', 'vert'), ('blue', 'bleu', ('red', 'rouge')]\n",
    "del english_to_french['green']\n",
    "list(english_to_french.items())  # return[('blue', 'bleu', ('red', 'rouge')]\n",
    "```\n",
    "\n",
    "When using a dictionary, we want to avoid calling an non-existing key, which cause an error in our code.  One way to have a quick check is to use the **in** keyword.  \n",
    "\n",
    "e.g. \n",
    "``` Python\n",
    "# Check if a key exist in a dictionary\n",
    "'red' in english_to_french  # return True\n",
    "'orange' in english_to_french  # return False\n",
    "```\n",
    "\n",
    "An alternative is using the get( ) method.  If the key exists in a dictionary, it returns the key related value, otherwise, it returns a pre-assigned value in the argument.\n",
    "\n",
    "e.g. Using get( ) method\n",
    "``` Python\n",
    "print(english_to_french.get('blue', 'No translation'))  # return 'bleu'\n",
    "print(english_to_french.get('pink', 'No translation'))  # return 'No translation'\n",
    "```\n",
    "\n",
    "Note: The second argument is not mandatory to put in, but when it is not defined and the key does not exist in the dictionary, it returns \"None\".\n",
    "\n",
    "setdefault( ) and get( ) are similar method, when the key is not found in the dictionary, it returns the pre-assigned value in the argument:\n",
    "\n",
    "e.g. Using setdefault( ) method\n",
    "``` Python\n",
    "print(english_to_french.setdefault('blue', 'No translation'))  # return 'bleu'\n",
    "print(english_to_french.setdefault('pink', 'No translation'))  # return 'No translation'\n",
    "```\n",
    "\n",
    "The different between setdefault( ) and get( ) is that when setdefault( ) method fails to find the key in the dictionary, it automatically created a new key and assign the pre-assigned value to the new key.  In the previous example, 'pink' is created in the dictionary as the new key and \"No translation\" is assigned to the key as value.  get( ) does not create the new key:value pair in contrast.  "
   ]
  },
  {
   "cell_type": "code",
   "execution_count": null,
   "metadata": {},
   "outputs": [],
   "source": [
    "# Delete a pair object in a dictionary\n",
    "list(english_to_french.items())  \n",
    "del english_to_french['green']"
   ]
  },
  {
   "cell_type": "code",
   "execution_count": null,
   "metadata": {},
   "outputs": [],
   "source": [
    "list(english_to_french.items())"
   ]
  },
  {
   "cell_type": "code",
   "execution_count": null,
   "metadata": {},
   "outputs": [],
   "source": [
    "# Check if a key exist in a dictionary\n",
    "'red' in english_to_french  \n",
    "'orange' in english_to_french "
   ]
  },
  {
   "cell_type": "code",
   "execution_count": null,
   "metadata": {},
   "outputs": [],
   "source": [
    "# Using the get( ) method to extract a vlaue\n",
    "print(english_to_french.get('blue', 'No translation')) "
   ]
  },
  {
   "cell_type": "code",
   "execution_count": null,
   "metadata": {},
   "outputs": [],
   "source": [
    "print(english_to_french.get('pink', 'No translation'))"
   ]
  },
  {
   "cell_type": "code",
   "execution_count": null,
   "metadata": {},
   "outputs": [],
   "source": [
    "# Using the setdefault( ) method\n",
    "print(english_to_french.setdefault('blue', 'No translation')) "
   ]
  },
  {
   "cell_type": "code",
   "execution_count": null,
   "metadata": {},
   "outputs": [],
   "source": [
    "print(english_to_french.setdefault('pink', 'No translation')) "
   ]
  },
  {
   "cell_type": "markdown",
   "metadata": {},
   "source": [
    "##### copy( ) and update( ) methods\n",
    "\n",
    "copy( ) method returns a shallow copy of a dictionary:\n",
    "\n",
    "e.g. copy( ) method\n",
    "``` Python\n",
    "# Copy a dictionary\n",
    "x = {0:\"zero\", 1:\"one\"}\n",
    "y = x.copy()\n",
    "y  # return {0:\"zero\", 1:\"one\"}\n",
    "```\n",
    "\n",
    "update( ) method updates the dictionary with the elements from another dictionary object or from an iterable of key/value pairs.  If the key is in the dictionary, it updates the key with the new value.  If the key is not in the dictionary, element(s) will be added to the dictionary. In general, we can think of update( ) as joining two dictionaries.\n",
    "\n",
    "e.g. update( ) method\n",
    "``` Python\n",
    "# Update dictionary x with elements in dictionary z\n",
    "z = {1:'one', 2:'two'}\n",
    "x = {0:'zero', 1:'first'}\n",
    "x.update(z)\n",
    "x  # return {0:'zero', 1:'one', 2, 'two'}\n",
    "```"
   ]
  },
  {
   "cell_type": "code",
   "execution_count": null,
   "metadata": {},
   "outputs": [],
   "source": [
    "# Copy a dictionary\n",
    "x = {0:\"zero\", 1:\"one\"}\n",
    "y = x.copy()\n",
    "y "
   ]
  },
  {
   "cell_type": "code",
   "execution_count": null,
   "metadata": {},
   "outputs": [],
   "source": [
    "# Update dictionary x with elements in dictionary z\n",
    "z = {1:'one', 2:'two'}\n",
    "x = {0:'zero', 1:'first'}\n",
    "x.update(z)\n",
    "x "
   ]
  },
  {
   "cell_type": "markdown",
   "metadata": {},
   "source": [
    "##### Summary of dictionary methods\n",
    "\n",
    "Here is a table summarizes the methods we covered in the previous section for dictionary object.  \n",
    "\n",
    "Reference: https://docs.python.org/3/library/stdtypes.html#dict\n",
    "\n",
    "|  Operation  |  Description  |  Example  |\n",
    "| :---:  |  :---:  |  :---:  |\n",
    "|  {}  |  Create an empty dictionary  |  x = {}  |\n",
    "|  len()  |  Return the length of a dictionary  |  len(x)  |\n",
    "|  keys()  |  Return all the keys in a dictionary  |  x.keys()  |\n",
    "|  values()  |  Return all the values in a dictionary  |  x.values()  |\n",
    "|  items()  |  Return all the key:value pairs in a dictionary  |  x.items()  |\n",
    "|  del  |  Remove an item from a dictionary  |  del x[key]  |\n",
    "|  in  |  Check if a key exists in a dictionary  |  'obj' in x  |\n",
    "|  get()  |  Return the corresponding value of a key, if a key does not exist, return the pre-assigned value  |  x.get('obj', None)  |\n",
    "|  setdefault()  |  Return the corresponding value of a key, if a key does not exist, add a new key:value pair based on the key search and pre-assigned value and return the pre-assigned value  |  x.setdefault('key', None)  |\n",
    "|  copy()  |  Shallow copy a dictionary  |  y = x.copy() |\n",
    "|  update()  |  Update a dictionary with elements from another dictionary  |  x.update(z)  |"
   ]
  },
  {
   "cell_type": "code",
   "execution_count": null,
   "metadata": {},
   "outputs": [],
   "source": [
    "# Try it yourself!\n",
    "\n",
    "# Suppose you are given two dictionaries:\n",
    "\n",
    "x = {'a':1, 'b':2, 'c':3, 'd':4}\n",
    "y = {'a':6, 'e':5, 'f':6}\n",
    "\n",
    "# What would be the return value from the following code?\n",
    "\n",
    "del x['d']\n",
    "\n",
    "z = x.setdefault('g', 7)\n",
    "\n",
    "x.update(z)\n"
   ]
  },
  {
   "cell_type": "markdown",
   "metadata": {},
   "source": [
    "## 4.3 - Word Count\n",
    "\n",
    "Suppose you are given a work document contains a single word in each row and you are tyring count the frequency of a specific word in this document.  Using dictionary is going to help you complete this task easily:\n",
    "\n",
    "e.g.\n",
    "``` Python\n",
    "# Count the frequency of a word\n",
    "sample_string = \"To be or not to be\"\n",
    "occurrences = {}\n",
    "for word in sample_string.split():\n",
    "    occurrences[word] = occurrences.get(word, 0) + 1\n",
    "    \n",
    "for word in occurrences:\n",
    "    print(\"The word\", word, \"occurs\", occurences[word], \\\n",
    "          \"times in the string\")\n",
    "```\n",
    "\n",
    "In this example, \"occurrences\" dictionary is used to store the frequency of each word.  This is a great example to demonstrate the advantage of dictionary in programming.  "
   ]
  },
  {
   "cell_type": "code",
   "execution_count": null,
   "metadata": {},
   "outputs": [],
   "source": [
    "# Count the frequency of a word\n",
    "sample_string = \"To be or not to be\"\n",
    "occurrences = {}\n",
    "for word in sample_string.split():\n",
    "    occurrences[word] = occurrences.get(word, 0) + 1\n",
    "    \n",
    "for word in occurrences:\n",
    "    print(\"The word\", word, \"occurs\", occurences[word], \\\n",
    "          \"times in the string\")"
   ]
  },
  {
   "cell_type": "markdown",
   "metadata": {},
   "source": [
    "## 4.4 - What object can be a \"key\"?\n",
    "\n",
    "We have been using integer and string as \"key\" of a dictionary.  In fact, Python also allows other **immutable** object as \"key\" of a dictionary. In many cases, we wish to use a list as \"key\" of a dictionary because it's convenience to have a list of elements as keys, such as human resource data using last name and first name as key or using latitude and longitude as key to find location on a map.  Unfortunately, list is a **mutable** Python object, which means it cannot be used as \"key\".  \n",
    "\n",
    "A solution to this is to use an **immutable** list object, **tuple**. Once a tuple is created, it cannot be changed or updated.  Therefore, it is a suitable object to be a key of a dictionary.  However, there is one more condition to be qualified as key. A dictionary key has to be hashable.  Any hashable object or element can be interpreted by the __hash__() method.  \n",
    "\n",
    "Even though tuple itself is immutable, but mutable objects can be assigned to a tuple, such as a list.  When an element changes in a tuple, the hash value will also changed. Therefore, this kind of tuple cannot be the key of a dictionary.  The conclusion is that when we are using a tuple as key of a dictionary, we need to make sure all the elements in the tuple are all immutable.\n",
    "\n",
    "Here is a list of Python data types:\n",
    "\n",
    "|  Python Data Type  |  Immutable  |  Hashable  |  Can be key?  |\n",
    "| :---:  |  :---:  |  :---:  |  :---:  |\n",
    "|  int  |  Yes  |  Yes  |  Yes  |\n",
    "|  float  |  Yes  |  Yes  |  Yes  |\n",
    "|  boolean  |  Yes  |  Yes  |  Yes  |\n",
    "|  complex  |  Yes  |  Yes  |  Yes  |\n",
    "|  str  |  Yes  |  Yes  |  Yes  |\n",
    "|  bytes  |  Yes  |  Yes  |  Yes  |\n",
    "|  bytearray  |  Yes  |  No  |  No  |\n",
    "|  list  |  No  |  No  |  NO  |\n",
    "|  tuple  |  Yes  |  Sometime  |  Sometime  |\n",
    "|  set  |  No  |  No  |  No  |\n",
    "|  frozenset  |  Yes  |  Yes  |  Yes  |\n",
    "|  dictionary  |  No  |  No  |  No  |\n"
   ]
  },
  {
   "cell_type": "code",
   "execution_count": null,
   "metadata": {},
   "outputs": [],
   "source": [
    "# Try it yourself!\n",
    "\n",
    "# Determine which of the following can be key of a dictionary.\n",
    "\n",
    "1\n",
    "\n",
    "'bob'\n",
    "\n",
    "('tom', [1,2,3])\n",
    "\n",
    "[\"filename\"]\n",
    "\n",
    "\"filename\"\n",
    "\n",
    "(\"filename\", \"extension\")\n"
   ]
  },
  {
   "cell_type": "markdown",
   "metadata": {},
   "source": [
    "## 4.5 - Sparse Matrix\n",
    "\n",
    "In mathematical world, matrix is defined as two-dimenional array.  In Python, the standard method to represent a matrix is to use two pairs of square brackets. Here is an example:\n",
    "\n",
    "e.g.\n",
    "``` Python\n",
    "# Create a matrix using two pairs of square brackets\n",
    "matrix = [[3, 0, -2, 11], [0, 9, 0, 0], [0, 7, 0, 0], [0, 0, 0 ,-5]]\n",
    "```\n",
    "\n",
    "The elements of a 2D array are arranged in rows and columns, and we can extract the element(s) using the following syntex:\n",
    "\n",
    "e.g.\n",
    "``` Python\n",
    "# Extract element(s) from a matrix\n",
    "# matrix[rownum][colnum]\n",
    "element = matrix[1][3]\n",
    "element  # return -2\n",
    "```\n",
    "\n",
    "In some applications, a matrix could have thousands of rows and columns, which multiply up to millions of elements.  In such matrix, there could be many elements with value of zero.  For saving the memory, this type of matrix will usually be stored without the zero value and they are called \"sparse matrices\".\n",
    "\n",
    "Dictionary with tuple index could easily create a sparse matrix.  \n",
    "\n",
    "e.g.\n",
    "``` Python\n",
    "# Create a sparse matrix\n",
    "matrix = {(0,0):3, (0,2):-2, (0,3):11, \n",
    "          (1,1):9, (2,1):7, (3,3):-5}\n",
    "\n",
    "# Now we can extract the element from the sparse matrix\n",
    "if (rownum, column) in matrix:\n",
    "    element = matrix[(rownum, colnum)]\n",
    "else:\n",
    "    element = 0\n",
    "```\n",
    "\n",
    "An alternative is to use get( ) method.  If a key is not found in a dictionary, returns 0.\n",
    "\n",
    "e.g.\n",
    "``` Python\n",
    "# USing get( ) method\n",
    "element = matrix.get((rownum, colnum), 0)\n",
    "```\n",
    "\n",
    "Dictionary can be a convenience option to create a sparse matrix and extracting elements from it.  When dealing with matrix with massive computation involves, it is suggested to use other computation package such as NumPy (www.numpy.org)."
   ]
  },
  {
   "cell_type": "code",
   "execution_count": null,
   "metadata": {},
   "outputs": [],
   "source": [
    "# Create a matrix using two pairs of square brackets\n",
    "matrix = [[3, 0, -2, 11], [0, 9, 0, 0], [0, 7, 0, 0], [0, 0, 0 ,-5]]"
   ]
  },
  {
   "cell_type": "code",
   "execution_count": null,
   "metadata": {},
   "outputs": [],
   "source": [
    "# Extract element(s) from a matrix\n",
    "# matrix[rownum][colnum]\n",
    "element = matrix[1][3]\n",
    "element "
   ]
  },
  {
   "cell_type": "code",
   "execution_count": null,
   "metadata": {},
   "outputs": [],
   "source": [
    "# Create a sparse matrix\n",
    "matrix = {(0,0):3, (0,2):-2, (0,3):11, \n",
    "          (1,1):9, (2,1):7, (3,3):-5}\n",
    "\n",
    "# Now we can extract the element from the sparse matrix\n",
    "if (rownum, column) in matrix:\n",
    "    element = matrix[(rownum, colnum)]\n",
    "else:\n",
    "    element = 0"
   ]
  },
  {
   "cell_type": "code",
   "execution_count": null,
   "metadata": {},
   "outputs": [],
   "source": [
    "# USing get( ) method\n",
    "element = matrix.get((rownum, colnum), 0)"
   ]
  },
  {
   "cell_type": "markdown",
   "metadata": {},
   "source": [
    "## 4.6 - Using dictionary as cache\n",
    "\n",
    "In this section, we would like to introduce how to use a dictionary as **cache**.  A cache is a data structure, which stores the results of an operation for later use, so it avoids the same calculations repeat multiple times.  Memorization allows to optimize a Python function by caching its output based on the parameters supply to it.  Suppose we need a function called \"sole\", which needs three arguments to return the result:\n",
    "\n",
    "e.g.  sole function\n",
    "``` Python\n",
    "def sole(m, n, t):\n",
    "    # some calculations with the parameters\n",
    "    retunr(result)\n",
    "```\n",
    "\n",
    "This sole function is time consuming especially when it needs to be called thousands times, the operation is extremely inefficient.  \n",
    "\n",
    "Assume that the sole() function has some predicted combination of parameters and each combination will be called for multiple times, for instance, sole(12, 20, 6) is one of the combinations, but this combination needs to be callled hundreds times.  To speed up the processing, we can use a tuple (12, 20, 6) as the key and stores the result values into a dictionary, so the calculation needs to be store once and it can be extracted from the dictionary for later use.  The code will look like this:\n",
    "\n",
    "e.g.\n",
    "``` Python\n",
    "sole_cache = {}\n",
    "def sole(m, n, t):\n",
    "    if (m, n, t) in sole_cache:\n",
    "        return sole_cache[(m, n, t)]\n",
    "    else:\n",
    "        # some calculations with the parameters\n",
    "        sole_cache[(m, n, t)] = result\n",
    "        return result\n",
    "```\n"
   ]
  },
  {
   "cell_type": "code",
   "execution_count": null,
   "metadata": {},
   "outputs": [],
   "source": [
    "# Try it yourself!\n",
    "\n",
    "# Suppose you are writing a program for a table, \n",
    "# how would you use dictionary to store the data in this table?\n",
    "# Write some code to store the values to and extract the value from the dictionary.\n",
    "# What are the disadvantages for using the dictionary?\n",
    "\n",
    "\n"
   ]
  },
  {
   "cell_type": "markdown",
   "metadata": {},
   "source": [
    "## 4.7 - Dictionary Efficiency\n",
    "\n",
    "If you are concerned about the efficiency use of a dictionary and hesitate to use it, you should not. It is true that the traditional data structures such as \"list\" is more efficient than dictionary, but the difference is marginal because it has been optimized in many ways in the recent years. In fact, many of the Python built-in functions are based on the dictionary data structure.  It would be wise to utilize this data structure whenever it's applicable in your code because of it's flexibility and features.  Only choose an alternative when a dictionary is significantly slowing down the processing speed in your program. "
   ]
  }
 ],
 "metadata": {
  "kernelspec": {
   "display_name": "Python 3",
   "language": "python",
   "name": "python3"
  },
  "language_info": {
   "codemirror_mode": {
    "name": "ipython",
    "version": 3
   },
   "file_extension": ".py",
   "mimetype": "text/x-python",
   "name": "python",
   "nbconvert_exporter": "python",
   "pygments_lexer": "ipython3",
   "version": "3.7.1"
  }
 },
 "nbformat": 4,
 "nbformat_minor": 2
}
