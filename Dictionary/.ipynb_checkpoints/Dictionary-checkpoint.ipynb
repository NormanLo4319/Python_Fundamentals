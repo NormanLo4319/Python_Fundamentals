{
 "cells": [
  {
   "cell_type": "markdown",
   "metadata": {},
   "source": [
    "# Dictionary\n",
    "\n",
    "Python **dictionary** is an unordered collection of items.  A **dictionary** is a set of **key** **value** pairs, with the requirement that the keys are unique (within one dictionary).  Dictionaries are optimized to retrieve values when the key is known.\n",
    "\n",
    "- 4.1 - What is a dictionary?\n",
    "- 4.2 - Methods of Dictionary Object\n",
    "- 4.3 - Word Count\n",
    "- 4.4 - What object can be a \"key\"?\n",
    "- 4.5 - Sparse Matrix\n",
    "- 4.6 - Using Dictionary as Cache\n",
    "- 4.7 - Dictionary Efficiency\n",
    "\n",
    "Reference: https://docs.python.org/3/tutorial/datastructures.html#dictionaries\n",
    "\n",
    "## What is a \"dictionary\"?\n",
    "\n",
    "Python dictionary (dict) is similar to an English dictionary to find the defnition of a word by the search of the **key**.  We can inquire a **value** from a dictionary by using the **key**, therefore, **key** is essential in dictionary data structure. A pair of braces (curly brackets) reates an empty dictionary: { }.  Placing a comma-separated list of key:value pairs within the braces adds initial key:value pairs to the dictionary; this is also the way dictionary are written on output.  Here are some examples:\n",
    "\n",
    "e.g. {key1: value1, Key2: value2, ...}\n",
    "``` Python\n",
    "# Create a dictionary called \"ages\"\n",
    "ages = {\"Mary\":13, \"John\":14, \"Tony\":13}\n",
    "\n",
    "# Retrieve the value from a dictionary\n",
    "ages[\"Mary\"]  # return 13\n",
    "ages[\"John\"]  # return 14\n",
    "ages  # return {\"Mary\":13, \"John\":14, \"Tony\":13}\n",
    "```"
   ]
  },
  {
   "cell_type": "code",
   "execution_count": null,
   "metadata": {},
   "outputs": [],
   "source": [
    "# Create a dictionary called \"ages\"\n",
    "ages = {\"Mary\":13, \"John\":14, \"Tony\":13}"
   ]
  },
  {
   "cell_type": "code",
   "execution_count": null,
   "metadata": {},
   "outputs": [],
   "source": [
    "# Retrieve the value from a dictionary\n",
    "ages[\"Mary\"]  # return 13\n",
    "ages[\"John\"]  # return 14\n",
    "ages  # return {\"Mary\":13, \"John\":14, \"Tony\":13}"
   ]
  },
  {
   "cell_type": "markdown",
   "metadata": {},
   "source": [
    "Comparing dictionary and list:\n",
    "If you have not encountered a dictionary data structure before, it would be a good idea to compare it with a list object to get a better understand of it.\n",
    "\n",
    "- Both dictionary and list can store any type of object\n",
    "- List index is a ordered sequence of numbers, which reflects the order of the elements and the position of an element in a list.  \n",
    "- Dictionary is indexed by keys, which can be any immutable type; strings and numbers can always be keys.  \n",
    "\n",
    "We have the following examples to demonstrate the different between dictionary and list.\n",
    "\n",
    "e.g.\n",
    "``` Python\n",
    "# Create an empty list x and empty dictionary y\n",
    "x = []\n",
    "y = {}\n",
    "\n",
    "# Assign key and value into a dictionary\n",
    "y[0] = \"Hello\"\n",
    "y[1] = \"Goodbye\"\n",
    "y  # return {0:\"Hello\", 1:\"Goodbye\"}\n",
    "```\n",
    "\n",
    "Note, the above example is not to assigne the strings into position 0 and 1 in a dictionary.  What it does is to create a key 0 and assign a string value \"Hello\" to the key 0 and same of the key 1.  Note that if we are trying to assign value to an empty list without any defined index space, it will return an error message.\n",
    "\n",
    "``` Python\n",
    "x[0] = \"Hello\"  # return error message\n",
    "```\n",
    "\n",
    "Once keys and values are assigned to a dictionary, we can retrieve and use it.\n",
    "\n",
    "``` Python\n",
    "print(y[0])  # return \"Hello\"\n",
    "y[1] + \", Friend.\"  # return \"Goodbye, Friend.\"\n",
    "```"
   ]
  },
  {
   "cell_type": "code",
   "execution_count": null,
   "metadata": {},
   "outputs": [],
   "source": [
    "# Create an empty list x and empty dictionary y\n",
    "x = []\n",
    "y = {}"
   ]
  },
  {
   "cell_type": "code",
   "execution_count": null,
   "metadata": {},
   "outputs": [],
   "source": [
    "# Assigning keys and values to a dictionary\n",
    "y[0] = \"Hello\"\n",
    "y[1] = \"Goodbye\"\n",
    "y  "
   ]
  },
  {
   "cell_type": "code",
   "execution_count": null,
   "metadata": {},
   "outputs": [],
   "source": [
    "# Cannot assign value to an empty list\n",
    "x[0] = \"Hello\""
   ]
  },
  {
   "cell_type": "code",
   "execution_count": null,
   "metadata": {},
   "outputs": [],
   "source": [
    "# Using the value assgined to a dictionary\n",
    "print(y[0])\n",
    "y[1] + \", Friend.\" "
   ]
  },
  {
   "cell_type": "markdown",
   "metadata": {},
   "source": [
    "It seems like the use of dictionary and list is pretty similar until now.  Let's try using non-number key and understand how dictionary is different to list.\n",
    "\n",
    "e.g.\n",
    "``` Python\n",
    "# Assigning a new value to an existing value with the same key\n",
    "y[\"two\"] = \"two\"\n",
    "y[\"two\"] = 2   # 2 will replace the original string \"two\"\n",
    "\n",
    "# Multiple two values from the same dictionary\n",
    "y[\"pi\"] = 3.14\n",
    "y[\"two\"] * y[\"pi\"]  # return 6.28\n",
    "```\n",
    "\n",
    "As you can see, the above operations cannot be done with a list.  List index has to be number and dictionary provides us more flexibility with possible key in number, string, or other Python objects.  This makes dictionary a more useful data type to use over list in most cases, for instance, using dictionary storing phone list is more reasonable than using a list because we can retrieve the phone number by the name of the person.\n",
    "\n",
    "You can also think of a dictionary is a data structure that connect different objects, which is similar to a dictionary or encyclopedia in our life.  We can demonstrate with the following example:\n",
    "\n",
    "e.g. English to French Dictionary\n",
    "``` Python\n",
    "english_to_french = {}\n",
    "english_to_french['red'] = 'rouge'\n",
    "english_to_french['blue'] = 'bleu'\n",
    "english_to_french['green'] = 'vert'\n",
    "print(\"red is\", english_to_french['red'])  # return \"red is rouge\"\n",
    "```"
   ]
  },
  {
   "cell_type": "code",
   "execution_count": null,
   "metadata": {},
   "outputs": [],
   "source": [
    "# Assigning a new value to an existing value with the same key\n",
    "y[\"two\"] = \"two\"\n",
    "y[\"two\"] = 2 "
   ]
  },
  {
   "cell_type": "code",
   "execution_count": null,
   "metadata": {},
   "outputs": [],
   "source": [
    "# Multiple two values from the same dictionary\n",
    "y[\"pi\"] = 3.14\n",
    "y[\"two\"] * y[\"pi\"]"
   ]
  },
  {
   "cell_type": "code",
   "execution_count": null,
   "metadata": {},
   "outputs": [],
   "source": [
    "# Creating an English to French dictionary\n",
    "english_to_french = {}\n",
    "english_to_french['red'] = 'rouge'\n",
    "english_to_french['blue'] = 'bleu'\n",
    "english_to_french['green'] = 'vert'\n",
    "print(\"red is\", english_to_french['red'])"
   ]
  },
  {
   "cell_type": "code",
   "execution_count": null,
   "metadata": {},
   "outputs": [],
   "source": []
  },
  {
   "cell_type": "code",
   "execution_count": null,
   "metadata": {},
   "outputs": [],
   "source": []
  },
  {
   "cell_type": "code",
   "execution_count": null,
   "metadata": {},
   "outputs": [],
   "source": []
  },
  {
   "cell_type": "code",
   "execution_count": null,
   "metadata": {},
   "outputs": [],
   "source": []
  },
  {
   "cell_type": "code",
   "execution_count": null,
   "metadata": {},
   "outputs": [],
   "source": []
  },
  {
   "cell_type": "code",
   "execution_count": null,
   "metadata": {},
   "outputs": [],
   "source": []
  },
  {
   "cell_type": "code",
   "execution_count": null,
   "metadata": {},
   "outputs": [],
   "source": []
  },
  {
   "cell_type": "code",
   "execution_count": null,
   "metadata": {},
   "outputs": [],
   "source": []
  },
  {
   "cell_type": "code",
   "execution_count": null,
   "metadata": {},
   "outputs": [],
   "source": []
  },
  {
   "cell_type": "code",
   "execution_count": null,
   "metadata": {},
   "outputs": [],
   "source": []
  },
  {
   "cell_type": "code",
   "execution_count": null,
   "metadata": {},
   "outputs": [],
   "source": []
  },
  {
   "cell_type": "code",
   "execution_count": null,
   "metadata": {},
   "outputs": [],
   "source": []
  }
 ],
 "metadata": {
  "kernelspec": {
   "display_name": "Python 3",
   "language": "python",
   "name": "python3"
  },
  "language_info": {
   "codemirror_mode": {
    "name": "ipython",
    "version": 3
   },
   "file_extension": ".py",
   "mimetype": "text/x-python",
   "name": "python",
   "nbconvert_exporter": "python",
   "pygments_lexer": "ipython3",
   "version": "3.7.1"
  }
 },
 "nbformat": 4,
 "nbformat_minor": 2
}
