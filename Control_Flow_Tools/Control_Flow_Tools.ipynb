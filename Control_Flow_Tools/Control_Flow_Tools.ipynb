{
 "cells": [
  {
   "cell_type": "markdown",
   "metadata": {},
   "source": [
    "# Control Flow Tools\n",
    "\n",
    "A program’s control flow is the order in which the program’s code executes. The control flow of a Python program is regulated by conditional statements, loops, and function calls. This section covers the if statement and for and while loops.\n",
    "\n",
    "- 5.1 - while loop\n",
    "- 5.2 - if-elif-else conditional statments\n",
    "- 5.3 - for loop\n",
    "- 5.4 - Comprehension & Generator\n",
    "- 5.5 - Boolean Evaluation\n",
    "- 5.6 - Simple Program for Textual Analysis\n",
    "\n",
    "## 5.1 - while loop\n",
    "\n",
    "In the previous lessons, we have seen a few examples of basic while loop. Here is a formal expression of a while loop:\n",
    "\n",
    "``` Python\n",
    "while Conditional statement:\n",
    "    main statement\n",
    "else:\n",
    "    backup statement\n",
    "```\n",
    "\n",
    "The **conditional statement** in the while loop is a boolean evaluation which returns either True or False value.  As long as the condition is True, the execution of the main statement(s) will continue to repeat. Once the condition hits False, while loop will execute the backup statement(s) under **else** condition and exit the while loop. If the condition fails to be True in the first evaluation, it automatically execute the backup statement and exit the while loop. \n",
    "\n",
    "The main statement and backup statement can be one or multiple statements.  Each line of statement should be indented by the same whitespaces under the condition statement. We have seem the format in the previous lesson:\n",
    "\n",
    "``` Python\n",
    "# while loop example\n",
    "n = 9\n",
    "r = 1\n",
    "while n > 0:\n",
    "    r = r * n\n",
    "    n = n -1\n",
    "```\n",
    "\n",
    "##### break & continue\n",
    "\n",
    "**break** and **continue** statements can alter the flow of a normal loop and are commonly used for control of the program flows.  The **break** statement terminates the loop and force an exist from the main body of the loop and the alternative statement (such as else statement). The continue statement is used to skip the rest of the code inside a loop for the current iteration only. Loop does not terminate but continues on with the next iteration.\n",
    "\n",
    "Let's take a quick look of a simple example:\n",
    "\n",
    "``` Python\n",
    "# Using the break statement in a while loop\n",
    "data = get_data() # reading the data\n",
    "while data != \"\":\n",
    "    if \"Good\" in data:\n",
    "        print(\"Found the word: Good\")\n",
    "        break\n",
    "    data = get_data() # Continue reading the data\n",
    "else:\n",
    "    print(\"Cannot find the word: Good\")\n",
    "\n",
    "# We can also have the same result without the else statement\n",
    "found = False\n",
    "data = get_data()\n",
    "while data != \"\":\n",
    "    if \"Good\" in data:\n",
    "        print(\"Found the word: Good\")\n",
    "        found = True\n",
    "        break\n",
    "    data = get_data()\n",
    "\n",
    "if not found:\n",
    "    print(\"Cannot find the word: Good\")\n",
    "```"
   ]
  },
  {
   "cell_type": "code",
   "execution_count": null,
   "metadata": {},
   "outputs": [],
   "source": [
    "# Try it yourself!\n",
    "\n",
    "# Try to write a while loop to include a continue statement\n",
    "\n"
   ]
  },
  {
   "cell_type": "markdown",
   "metadata": {},
   "source": [
    "## 5.2 - if-elif-else statements\n",
    "\n",
    "The **if**, **elif**, and **else** statement is used in Python to execute a code when a certain condition is satisfied. \n",
    "\n",
    "Here is the condition statement syntax:\n",
    "``` Python\n",
    "if Condition 1:\n",
    "    Body of statement(s) 1\n",
    "elif Condition 2:\n",
    "    Body of statement(s) 2\n",
    "elif Condition 3:\n",
    "    Body of statement(s) 3\n",
    "...\n",
    "elif Condition n-1:\n",
    "    Body of statements(s) n-1\n",
    "else:\n",
    "    Body of statement(s) n\n",
    "```\n",
    "\n",
    "The **elif** is short for **else if**.  It allows us to check for multiple expressions.  If the first condition is met, the body of statement under condition 1 is executed.  If condition 1 is failed to be True, it checks the condition of the next elif condition and so on.  If all the condition are False, the body of statement under else is executed. The structure of the code is the similar to while loop, where the body of statement(s) under each condition is indented.  \n",
    "\n",
    "Let's check out some simple examples here:\n",
    "``` Python\n",
    "# Check if n is above 100\n",
    "if n > 100:\n",
    "    result = \"success\"\n",
    "else:\n",
    "    result = \"failed\"\n",
    "    \n",
    "# We can also use one line of code to complete the above task in Python\n",
    "result = \"success\" if n > 100 else \"failed\"\n",
    "```\n",
    "\n",
    "Many programming languages have the similar syntax sturcture to our last example.  For instance, in C language the syntax will look like this:\n",
    "\n",
    "``` C\n",
    "result = n>100?\"success\":\"failed\"\n",
    "```\n",
    "\n",
    "For advance user, it is often case that they would sacrifice the readability of the code for cleanliness (shorter code).  However, it's recommended to the beginners to focus on traditional syntax before adopting to the simplified syntax.\n",
    "\n",
    "The body statement after the if condition is mandatory, but we can use a Python keyword \"**pass**\" to skip the body statement and not taking any action under the condition. **pass** can be used in any loop operation, which nothing will be executed and automatically jump to the next line.\n",
    "\n",
    "e.g.\n",
    "``` Python\n",
    "x = 10\n",
    "\n",
    "# Use a if statement to check if x is greater than or equal to 5\n",
    "if x < 5:\n",
    "    pass\n",
    "else:\n",
    "    print(\"x is greater or equal to 5\")\n",
    "```\n",
    "\n",
    "Note that Python does not have **switch-case** statement.  In most cases, if/elif/else conditional statement is good enough to handle the day-to-day operations in Python. There are only a few exceptional cases, which can be resolved using function and dictionary to replace a **switch-case** statement.  \n",
    "\n",
    "Here is an example:\n",
    "``` Python\n",
    "# Using functions and dictionary to replace switch-case statement\n",
    "def do_a_stuff():\n",
    "    # process a condition\n",
    "\n",
    "def do_b_stuff():\n",
    "    # process b condition\n",
    "    \n",
    "def do_c_stuff():\n",
    "    # process c condition\n",
    "    \n",
    "func_dict = {'a': do_a_stuff,\n",
    "             'b': do_b_stuff,\n",
    "             'c': do_c_stuff}\n",
    "\n",
    "x = 'a'\n",
    "func_dict[x]()\n",
    "```"
   ]
  },
  {
   "cell_type": "code",
   "execution_count": null,
   "metadata": {},
   "outputs": [],
   "source": [
    "# Try it yourself!\n",
    "\n",
    "# Try to write an if/elif/else statement to count how many numbers are below 5, 10, and 20 from a list\n",
    "\n"
   ]
  },
  {
   "cell_type": "markdown",
   "metadata": {},
   "source": [
    "## 5.3 - for loop\n",
    "\n",
    "Python **for loop** is used to iterate over a sequence or other iterable objects.  Iterating over a sequance is called traversal.  Python **for loo** is different to the ones from the traditional programming languages. For instance, the variable needs to be incremented manually, where Python **for loop** is used for sequential traversal. \n",
    "\n",
    "Example in C:\n",
    "``` C\n",
    "int a[] = {84, 92, 76};\n",
    "int size = sieof(a) / sizeof(a[0]);  /*Calculate the length of the list*/\n",
    "for (int i = 0; i < size; ++i)  /*evaluate the length after each loop*/\n",
    "    \n",
    "    printf(\"%d\", a[i]);  /*using i to extract the values from the list*/\n",
    "```\n",
    "\n",
    "In Python, **for loop** does not need index to extract values from an object, but directly iterate the values of an object. The iterable objects includes list, tuple, set, string, generator, enumerate(), etc. \n",
    "\n",
    "Example in Python:\n",
    "``` Python\n",
    "# Using a for loop to iterate each value in a list object\n",
    "a = [84, 92, 76]\n",
    "for i in a:\n",
    "    print(i)\n",
    "    \n",
    "# Using a for loop to iterate each value in a list object and print 1 divided by the value\n",
    "b = [10, 5, 2]\n",
    "for i in b:\n",
    "    print(1/i)\n",
    "```\n",
    "\n",
    "Loop continues until we reach the last item in the sequence. The body of for loop is separated fron the rest of the code using indentation."
   ]
  },
  {
   "cell_type": "code",
   "execution_count": null,
   "metadata": {},
   "outputs": [],
   "source": [
    "# Using a for loop to iterate each value in a list object\n",
    "a = [84, 92, 76]\n",
    "for i in a:\n",
    "    print(i)"
   ]
  },
  {
   "cell_type": "code",
   "execution_count": null,
   "metadata": {},
   "outputs": [],
   "source": [
    "# Using a for loop to iterate each value in a list object and print 1 divided by the value\n",
    "b = [10, 5, 2]\n",
    "for i in b:\n",
    "    print(1/i)"
   ]
  },
  {
   "cell_type": "markdown",
   "metadata": {},
   "source": [
    "##### range( ) and len( ) function\n",
    "\n",
    "Genearlly speaking, Python **for loop** interates over an enumeration of a set of items.  In each iteration step a loop variable is set to a value in a sequence or other data collection.  In some cases, we want to create a loop by iterating a sequence, which we can use the range() and len() functions. Here is an example:\n",
    "\n",
    "``` Python\n",
    "# Find all the negative vlaues in a list\n",
    "x = [1, 3, -7, 4, 9, -5, 4]\n",
    "for i in range(len(x)):\n",
    "    if x[i] < 0:\n",
    "        print(\"Found a negative value, it's index is \", i)\n",
    "\n",
    "# Generally speaking, this is case, we should use enumerate() function.\n",
    "```\n",
    "\n",
    "In the previous example, range(n) return a sequence from 0 to n and the len(x) returns the length of the list x, which defines the sequence by the range function.  The for loop interates through the return list from range(len(x)) and return the value of in the sequence i from each iteration."
   ]
  },
  {
   "cell_type": "code",
   "execution_count": null,
   "metadata": {},
   "outputs": [],
   "source": [
    "# Find all the negative vlaues in a list\n",
    "x = [1, 3, -7, 4, 9, -5, 4]\n",
    "for i in range(len(x)):\n",
    "    if x[i] < 0:\n",
    "        print(\"Found a negative value, it's index is \", i)"
   ]
  },
  {
   "cell_type": "markdown",
   "metadata": {},
   "source": [
    "##### range(m, n)\n",
    "\n",
    "If we are trying to loop through a specific sequence, we can use the second argument of the range( ) function. For example, using range(m, n) creates a sequence from m to n-1.  Here is an example:\n",
    "\n",
    "``` Python\n",
    "# Check different range set ups\n",
    "list(range(3, 7))  # return [3, 4, 5, 6]\n",
    "\n",
    "list(range(2,10))  # return [2, 3, 4, 5, 6, 7, 8, 9]\n",
    "\n",
    "# range(m, n) cannot be reverse order\n",
    "list(range(5, 3))  # return empty list\n",
    "```\n",
    "\n",
    "The range( ) function has a third argument to define the increment value.  It is especially useful when we are trying to reverse count.  Here are some examples:\n",
    "\n",
    "``` Python\n",
    "# create a sequence of number from 0 to 10, but increment by 2 instead of 1\n",
    "list(range(0, 10, 2))  # return [0, 2, 4, 6, 8]\n",
    " \n",
    "# Create a reverse sequence from 5 to 1\n",
    "list(range(5, 0, -1))  # return [5, 4, 3, 2, 1]\n",
    "```"
   ]
  },
  {
   "cell_type": "code",
   "execution_count": null,
   "metadata": {},
   "outputs": [],
   "source": [
    "# Check different range set ups\n",
    "list(range(3, 7)) \n",
    "\n",
    "list(range(2,10))  \n",
    "\n",
    "list(range(5, 3)) "
   ]
  },
  {
   "cell_type": "code",
   "execution_count": null,
   "metadata": {},
   "outputs": [],
   "source": [
    "# create a sequence of number from 0 to 10, but increment by 2 instead of 1\n",
    "list(range(0, 10, 2))"
   ]
  },
  {
   "cell_type": "code",
   "execution_count": null,
   "metadata": {},
   "outputs": [],
   "source": [
    "# Create a reverse sequence from 5 to 1\n",
    "list(range(5, 0, -1)) "
   ]
  },
  {
   "cell_type": "markdown",
   "metadata": {},
   "source": [
    "##### tuple unpacking\n",
    "\n",
    "Combining for loop with tuple unpacking feature, it creates a simple and powerful code.  Suppose we have a list of tuples and each tuple contains two numeric elements. We want to calculate the sum of the multiple of the two element in each tuple, we can get a result from the below example:\n",
    "\n",
    "``` Python\n",
    "# Calculate the sum of the multiples by index\n",
    "somelist = [(1, 2), (3, 7), (9, 5)]\n",
    "result = 0\n",
    "for i in somelist:\n",
    "    result = result + (i[0] * i[1])\n",
    "    \n",
    "# Calculate the sum of the multiples by tuple unpack\n",
    "somelist = [(1, 2), (3, 7), (9, 5)]\n",
    "result = 0\n",
    "for num1, num2 in somelist:\n",
    "    result = result + (num1 * num2)\n",
    "```\n",
    "\n",
    "In these examples, using the tuple unpacking feature allow us to be more explicit in our code.  \"num1\" and \"num2\" are the unpacked values from each tuple.  The first example is harder to read because people most likely need to guess the values i[0] and i[1] by reading the whole coding block.  We would recommend new user getting used to the unpacking method (second example) for writing more readable code in the future."
   ]
  },
  {
   "cell_type": "code",
   "execution_count": null,
   "metadata": {},
   "outputs": [],
   "source": [
    "# Calculate the sum of the multiples by index\n",
    "somelist = [(1, 2), (3, 7), (9, 5)]\n",
    "result = 0\n",
    "for i in somelist:\n",
    "    result = result + (i[0] * i[1])"
   ]
  },
  {
   "cell_type": "code",
   "execution_count": null,
   "metadata": {},
   "outputs": [],
   "source": [
    "# Calculate the sum of the multiples by tuple unpack\n",
    "somelist = [(1, 2), (3, 7), (9, 5)]\n",
    "result = 0\n",
    "for num1, num2 in somelist:\n",
    "    result = result + (num1 * num2)"
   ]
  },
  {
   "cell_type": "markdown",
   "metadata": {},
   "source": [
    "##### enumerate( ) function\n",
    "\n",
    "Python provides a built-in function enumerate( ) to add a counter to an iterable and returns it in a form of enumerate object.  This enumerate object can then be used directly in for loops or be converted into a list of tuples using list( ) method. Here is an example:\n",
    "\n",
    "``` Python\n",
    "# List the enumerate object\n",
    "x = [\"a\", \"b\", \"c\"]\n",
    "list(enumerate(x))  # return [(0, 'a'), (1, 'b'), (2, 'c')]\n",
    "```\n",
    "\n",
    "When using a for loop with the enumerate( ) function, we can extract the elements in a collection and it's index position. Lets apply it to the previous example for fining the negative values in a list.\n",
    "\n",
    "``` Python\n",
    "# Find all the negative vlaues in a list\n",
    "x = [1, 3, -7, 4, 9, -5, 4]\n",
    "for i , n in enumerate(x):\n",
    "    if n < 0:\n",
    "        print(\"Found the negative value, its index is \", i)\n",
    "```\n",
    "\n",
    "Note that enumerate( ) function is a very useful tool in for loop because it automatically create the index for the interated element from a collection. It also simplify the code and makes it easy to read."
   ]
  },
  {
   "cell_type": "code",
   "execution_count": null,
   "metadata": {},
   "outputs": [],
   "source": [
    "# List the enumerate object\n",
    "x = [\"a\", \"b\", \"c\"]\n",
    "list(enumerate(x))  # return [(0, 'a'), (1, 'b'), (2, 'c')]"
   ]
  },
  {
   "cell_type": "code",
   "execution_count": null,
   "metadata": {},
   "outputs": [],
   "source": [
    "# Find all the negative vlaues in a list\n",
    "x = [1, 3, -7, 4, 9, -5, 4]\n",
    "for i , n in enumerate(x):\n",
    "    if n < 0:\n",
    "        print(\"Found the negative value, its index is \", i)"
   ]
  },
  {
   "cell_type": "markdown",
   "metadata": {},
   "source": [
    "##### zip( ) function\n",
    "\n",
    "The zip( ) function returns an iterator that will aggregate elements fro two or more iterables. The return object is an iterator of tuples where the first item in each passed iterator is paired together, and then the second item in each passed interator are paired and etc.  The iterator stops when the shortest input iterable is exhausted. Here is an example:\n",
    "\n",
    "``` python\n",
    "# Create two unequal length lists\n",
    "x = [1, 2, 3, 4]\n",
    "y = ['a', 'b', 'c']\n",
    "\n",
    "# Create a zip object\n",
    "z = zip(x, y)\n",
    "list(z)  # return [(1, 'a'), (2, 'b'), (3, 'c')]\n",
    "```"
   ]
  },
  {
   "cell_type": "code",
   "execution_count": null,
   "metadata": {},
   "outputs": [],
   "source": [
    "# Create two unequal length lists\n",
    "x = [1, 2, 3, 4]\n",
    "y = ['a', 'b', 'c']\n",
    "\n",
    "# Create a zip object\n",
    "z = zip(x, y)\n",
    "list(z) "
   ]
  },
  {
   "cell_type": "code",
   "execution_count": null,
   "metadata": {},
   "outputs": [],
   "source": [
    "# Try it yourself!\n",
    "\n",
    "# Suppose you have a list below,\n",
    "\n",
    "x = [1, 3, 5, 0, -1, 3, -2]\n",
    "\n",
    "# Write a program that removes / deletes all the negative values from the list\n",
    "\n"
   ]
  },
  {
   "cell_type": "code",
   "execution_count": null,
   "metadata": {},
   "outputs": [],
   "source": [
    "# For the below list,\n",
    "\n",
    "y = [[1, -1, 0], [2, 5, -9], [-2, -3, 0]]\n",
    "\n",
    "# How should we calculate the sum of all negative values in this list?\n",
    "\n"
   ]
  },
  {
   "cell_type": "code",
   "execution_count": null,
   "metadata": {},
   "outputs": [],
   "source": [
    "# Write a program, \n",
    "# when x is less than -5, print \"very low\"\n",
    "# when x is between -5 and 0, print 'low'\n",
    "# when x equals 0, print neutral\n",
    "# when x is between 0 and 5, print 'high'\n",
    "# when x is greater than 5, print 'very high'\n",
    "\n"
   ]
  },
  {
   "cell_type": "markdown",
   "metadata": {},
   "source": [
    "## 5.4 - Comprehension and Generator\n",
    "\n",
    "##### Comprehension\n",
    "We often see a for loop is used to iterate a collection of elements and create a collection of new elements. For instance, we can create a new list of values by squaring the original list of values.\n",
    "\n",
    "``` Python\n",
    "# Using a for loop to create a new list of squared values from list x\n",
    "x = [1, 2, 3, 4]\n",
    "x_squared = []\n",
    "for i in x:\n",
    "    x_squared.append(i*i)\n",
    "    \n",
    "x_squared  # return [1, 4, 9, 16]\n",
    "```\n",
    "\n",
    "Python has a syntactical extension or shortcut feature, called \"**comprehension**\", which is specifically for this type of operation.  **Comprehension** is an elegant way to define and create a collections based on existing collections. Generally speaking **comprehension** often applies to list object and dictionary object.  Here is an example of a list comprehension:\n",
    "\n",
    "``` Python\n",
    "# List comprehension syntax\n",
    "new_list = [(calcuation) for (variable) in (original list) if (conditions)]\n",
    "\n",
    "# Create a new list of squared values from list x by list comprehension\n",
    "x = [1, 2, 3, 4]\n",
    "x_squared = [i * i for i in x]\n",
    "x_squared  # return [1, 4, 9, 16]\n",
    "```\n",
    "\n",
    "In this example, each element in **list x** is passing into variable **i**, which later gets into the calculation **i * i**.  **if** statement is not a required in a comprehension, but we can select specific values from the list based on the condition statement.  Here is an example:\n",
    "\n",
    "``` Python\n",
    "# Only calculate the squared term given the value is grater than 2\n",
    "x = [1, 2, 3, 4]\n",
    "x_squared = [i * i for i in x if i > 2]\n",
    "x_squared  # return [9, 16]\n",
    "```"
   ]
  },
  {
   "cell_type": "code",
   "execution_count": null,
   "metadata": {},
   "outputs": [],
   "source": [
    "# Create a new list of squared values from list x by list comprehension\n",
    "x = [1, 2, 3, 4]\n",
    "x_squared = [i * i for i in x]\n",
    "x_squared  "
   ]
  },
  {
   "cell_type": "code",
   "execution_count": null,
   "metadata": {},
   "outputs": [],
   "source": [
    "# Only calculate the squared term given the value is grater than 2\n",
    "x = [1, 2, 3, 4]\n",
    "x_squared = [i * i for i in x if i > 2]\n",
    "x_squared  "
   ]
  },
  {
   "cell_type": "markdown",
   "metadata": {},
   "source": [
    "Similar to list comprehension, dictionary comprehension is used to produce Python dictionary objects instaed of list objects.  Dict comprehensions arejust like list comprehensions, except that you group the expression using curly braces instand of square braces.  Also, the left part before the for keyword expresses both a key and a value, separated by a colon. The notation is specifcially designed to remind us of list comprehensions as applied to dictionaries. Here is an example:\n",
    "\n",
    "``` Python\n",
    "# dictionary comprehension syntax\n",
    "new_dict = {(key calculation): (value calculation) for (variable) in (original list) if (condtions)}\n",
    "\n",
    "# Create a new dictionary with keys from list x and values of the key is the squared values from list x by dictionary comprehension\n",
    "x = [1, 2, 3, 4]\n",
    "x_squared = {i : i * i for i in x}\n",
    "x_squared  # return {1:1, 2:4, 3:9, 4:16}\n",
    "```\n",
    "\n",
    "Using comprehension to create a new list or dictionary is an efficient and powerful tool, which reduce the complexity of your code significantly. It is recommended to practice the application of comprehension, so that you can write your code more Pythonic!"
   ]
  },
  {
   "cell_type": "code",
   "execution_count": null,
   "metadata": {},
   "outputs": [],
   "source": [
    "# Create a new dictionary with keys from list x and values of the key is the squared values from list x by dictionary comprehension\n",
    "x = [1, 2, 3, 4]\n",
    "x_squared = {i : i * i for i in x}\n",
    "x_squared  "
   ]
  },
  {
   "cell_type": "markdown",
   "metadata": {},
   "source": [
    "##### Generator\n",
    "\n",
    "**Generators**, are similar to **list comprehesions**, are used to create iterators, but with a different approach. Generators are simple functions which return an interable set of items, one at a time, in a special way.  When an interation over a set of item starts using the for statement, the generator is run.  Once the generator's function code reaches a 'yield' statement, the generator yields its execution back to the for loop, returning a new value from the set. Below example demonstrates the use of a generator function:\n",
    "\n",
    "``` Python\n",
    "# Create a generator object by squaring the values in list x\n",
    "x = [1, 2, 3, 4]\n",
    "x_squared = (i : i * i for i in x)\n",
    "x_squared  # return a generator object\n",
    "\n",
    "# Iterate through the generator object\n",
    "for s in x_squared:\n",
    "    print(s, end=\" \")  # return 1 4 9 16\n",
    "```\n",
    "\n",
    "Note: The generator syntax is almost the same as a list comprehension, except we are using the parentheses instead of square brackets. Also, list comprehension returns a new list, but the generator return a generator object, which can be iterated by a for loop.\n",
    "\n",
    "One of the advantages of generators is that, same as the range( ) function, generators do not require the memory storage duirng the operation, which can iterate through a significantly large data set without occupying huge amount of memory. "
   ]
  },
  {
   "cell_type": "code",
   "execution_count": null,
   "metadata": {},
   "outputs": [],
   "source": [
    "# Create a generator object by squaring the values in list x\n",
    "x = [1, 2, 3, 4]\n",
    "x_squared = (i : i * i for i in x)\n",
    "x_squared"
   ]
  },
  {
   "cell_type": "code",
   "execution_count": null,
   "metadata": {},
   "outputs": [],
   "source": [
    "# Iterate through the generator object\n",
    "for s in x_squared:\n",
    "    print(s, end=\" \")"
   ]
  },
  {
   "cell_type": "code",
   "execution_count": null,
   "metadata": {},
   "outputs": [],
   "source": [
    "# Try it yourself!\n",
    "\n",
    "# Use a \"generator\" to remove/delete all negative values in a list.\n",
    "\n"
   ]
  },
  {
   "cell_type": "code",
   "execution_count": null,
   "metadata": {},
   "outputs": [],
   "source": [
    "# Create a comprehension that return a list of odds number within the range 1 to 100.\n",
    "\n"
   ]
  },
  {
   "cell_type": "code",
   "execution_count": null,
   "metadata": {},
   "outputs": [],
   "source": [
    "# Write a program to create a dictionary, where there key is intergers 11 to 15,\n",
    "# and the value of each key is its cubic power.\n",
    "\n"
   ]
  },
  {
   "cell_type": "markdown",
   "metadata": {},
   "source": [
    "##### Statement, Suite, Indentation\n",
    "\n",
    "Once we start using the control flow tools, it requires frequent use of **suites** and **indentation** in our code.  **Suites** are groups of individual statements which form a single code block. **Indentation** is used to define the structure of the code blocks in our code. In the first lesson, we introduced the basic coding structure in Python. Statements are coded line by line in Python. In fact, if the statments are fairly short within a code block, we can put them in one line and separate them by semicolon (;). Similarly, after a conditional statement, we can continue the execution statements right after the colon (:) without jumping into the next line.\n",
    "\n",
    "Here are some examples:\n",
    "\n",
    "``` Python\n",
    "# Separate three statements with semicolons\n",
    "x = 1; y = 0; z = 0\n",
    "\n",
    "# Condition in one line\n",
    "if x > 0: y = 1; z = 10\n",
    "else: y = -1\n",
    "    \n",
    "# Print the result from the condition test\n",
    "print(x, y, z)  # return 1 1 10\n",
    "```"
   ]
  },
  {
   "cell_type": "code",
   "execution_count": 2,
   "metadata": {},
   "outputs": [],
   "source": [
    "# Separate three statements with semicolons\n",
    "x = 1; y = 0; z = 0"
   ]
  },
  {
   "cell_type": "code",
   "execution_count": 4,
   "metadata": {},
   "outputs": [
    {
     "name": "stdout",
     "output_type": "stream",
     "text": [
      "1 1 10\n"
     ]
    }
   ],
   "source": [
    "# Condition in one line\n",
    "if x > 0: y = 1; z = 10\n",
    "else: y = -1\n",
    "    \n",
    "print(x, y, z)"
   ]
  },
  {
   "cell_type": "markdown",
   "metadata": {},
   "source": [
    "Indentation could be a common source to cause an error in your code. There are three common indentation errors, which you may need to pay attention in the future.\n",
    "\n",
    "1. Indent when it should not be indented\n",
    "\n",
    "2. Forget skiping a line after complete a code block\n",
    "\n",
    "3. Statements not align correctly within a code block\n",
    "\n",
    "Here are some examples to demonstrates the errors:\n",
    "\n",
    "``` Python\n",
    "# Indent when it should not be intented\n",
    "    x = 5  # Return an error because the empty spaces are not necessary\n",
    "\n",
    "# Forget sKiping a line after complete a code block\n",
    "x = [1, 2, 3, 4]\n",
    "result = []\n",
    "for i in x:\n",
    "    result.append(i%2)\n",
    "print(result)  # Need to skip a line after the for loop\n",
    "\n",
    "# Statements not align correctly within a code block\n",
    "x = [1, 2, 3, 4]\n",
    "result = []\n",
    "k = 0\n",
    "for i in x:\n",
    "    if x > 2:\n",
    "            result.append(i%2)\n",
    "        k = k + 1  # This line is not align with the statement in the same code block\n",
    "    else:\n",
    "        result.append(i)\n",
    "        k = k - 1\n",
    "```"
   ]
  },
  {
   "cell_type": "code",
   "execution_count": null,
   "metadata": {},
   "outputs": [],
   "source": [
    "# Indent when it should not be intented\n",
    "    x = 5 "
   ]
  },
  {
   "cell_type": "code",
   "execution_count": null,
   "metadata": {},
   "outputs": [],
   "source": [
    "# Forget sKiping a line after complete a code block\n",
    "x = [1, 2, 3, 4]\n",
    "result = []\n",
    "for i in x:\n",
    "    result.append(i%2)\n",
    "print(result) "
   ]
  },
  {
   "cell_type": "code",
   "execution_count": null,
   "metadata": {},
   "outputs": [],
   "source": [
    "# Statements not align correctly within a code block\n",
    "x = [1, 2, 3, 4]\n",
    "result = []\n",
    "k = 0\n",
    "for i in x:\n",
    "    if x > 2:\n",
    "            result.append(i%2)\n",
    "        k = k + 1\n",
    "    else:\n",
    "        result.append(i)\n",
    "        k = k - 1"
   ]
  },
  {
   "cell_type": "markdown",
   "metadata": {},
   "source": [
    "As we writing complex code with more conditions, we may encounter a statement that is too long to read, which needs to be broken down to several lines.  In such case, we can use the backslash \"\\\" at the end of a line to continue a statement in the next line.  Python actually allows to complete a long statement by indentation with notations like (), {}, and [].  Here are some examples to demonstrate:\n",
    "\n",
    "``` Python\n",
    "# Use backslash for long collection of string elements\n",
    "print('string1', 'string2', 'string3', 'string4', \\\n",
    "      'string5', 'string6', 'string7', 'string8')\n",
    "\n",
    "# Use backslash for long calculation\n",
    "x = 100 + 200 + 300 + 400 +500 + \\\n",
    "    600 + 700 + 800 + 900 + 1000\n",
    "x\n",
    "\n",
    "# Create a long list of numerics with indentation\n",
    "v = [100, 300, 500, 700, 900,\n",
    "     1100, 1300, 1500, 1700, 1900]\n",
    "v\n",
    "\n",
    "# Complete a statement with indentation\n",
    "max(1000, 300, 500, \n",
    "    800, 1200, 700)\n",
    "\n",
    "# Long calculation with indentation\n",
    "x = (100 + 200 + 300 +\n",
    "     400 + 500 + 600)\n",
    "x\n",
    "```\n",
    "\n",
    "Note: When using a backslash \"\\\", no space should be behind the backslash.  "
   ]
  },
  {
   "cell_type": "code",
   "execution_count": null,
   "metadata": {},
   "outputs": [],
   "source": [
    "# Use backslash for long collection of string elements\n",
    "print('string1', 'string2', 'string3', 'string4', \\\n",
    "      'string5', 'string6', 'string7', 'string8')"
   ]
  },
  {
   "cell_type": "code",
   "execution_count": null,
   "metadata": {},
   "outputs": [],
   "source": [
    "# Use backslash for long calculation\n",
    "x = 100 + 200 + 300 + 400 +500 + \\\n",
    "    600 + 700 + 800 + 900 + 1000\n",
    "x"
   ]
  },
  {
   "cell_type": "code",
   "execution_count": null,
   "metadata": {},
   "outputs": [],
   "source": [
    "# Create a long list of numerics with indentation\n",
    "v = [100, 300, 500, 700, 900,\n",
    "     1100, 1300, 1500, 1700, 1900]\n",
    "v"
   ]
  },
  {
   "cell_type": "code",
   "execution_count": null,
   "metadata": {},
   "outputs": [],
   "source": [
    "# Complete a statement with indentation\n",
    "max(1000, 300, 500, \n",
    "    800, 1200, 700)"
   ]
  },
  {
   "cell_type": "code",
   "execution_count": null,
   "metadata": {},
   "outputs": [],
   "source": [
    "# Long calculation with indentation\n",
    "x = (100 + 200 + 300 +\n",
    "     400 + 500 + 600)\n",
    "x"
   ]
  },
  {
   "cell_type": "markdown",
   "metadata": {},
   "source": [
    "## 5.5 - Boolean Evaluation\n",
    "\n",
    "In the previous sections, we have discussed the fundamental structure of the control flow tools. In this section, we cover how to use booleans in programming to make comparisons and to control the flow of the program. \n",
    "\n",
    "Python **boolean** has only two values \"True\" and \"False\". Any boolean evaluation only returns either True or False. Similar to other programming languages, such as C that zero represents false and other non-zero vlaues represent true. Almost any Python object can be boolean representation, here is a list of the representations for Python boolean:\n",
    "\n",
    "- Numeric values 0, 0.0, and 0+0j represent \"False\"; any other numeric values represent True.\n",
    "- Empty string \"\" represents False; any non-empty strings represent True.\n",
    "- Empty list [ ] respresents False; any non-empty lists represent True.\n",
    "- Empty tuple ( ) represents False; any non-empty tuples represent True.\n",
    "- Empty dictionary { } represents False; any non-empty dictionaries represent True.\n",
    "- Key word \"None\" is always False.\n",
    "\n",
    "Another way to return a boolean value is by comparing two Python objects with the comparsion expressions, such as <, <=, >, >=, etc.  \"==\" is used to test for equality and \"!=\" is for inequality. There are also other Python key words for testing, such as **in**, **not in**, **is**, **is not**, etc.  For more complex comparison operations, we can also use key words like **and**, **or*, **not**, etc. Below are some examples to demonstrate:\n",
    "\n",
    "``` Python\n",
    "# Test if variable x is between 0 and 10\n",
    "if 0 < and x < 10:\n",
    "    print(\"x is between 0 and 10\")\n",
    "\n",
    "# We can also use the mathematical logical for the same task\n",
    "if 0 < x < 10:\n",
    "    print(\"x is between 0 and 10\")\n",
    "```"
   ]
  },
  {
   "cell_type": "code",
   "execution_count": null,
   "metadata": {},
   "outputs": [],
   "source": [
    "# Test if variable x is between 0 and 10\n",
    "if 0 < and x < 10:\n",
    "    print(\"x is between 0 and 10\")"
   ]
  },
  {
   "cell_type": "code",
   "execution_count": null,
   "metadata": {},
   "outputs": [],
   "source": [
    "# We can also use the mathematical logical for the same task\n",
    "if 0 < x < 10:\n",
    "    print(\"x is between 0 and 10\")"
   ]
  },
  {
   "cell_type": "markdown",
   "metadata": {},
   "source": [
    "When using == and != operators for conditional test, we are comparing the values of both the operands and checks for value equality.  Whereas **is** or **is not** operator checks whether both the operands refer to the same object or not. It's often confusing for benginners to identify the different between them, but we mostly rely on == and != operators for conditional test.\n",
    "\n",
    "``` Python\n",
    "# Create two list objects x and y\n",
    "x = [0]\n",
    "y = [x, 1]\n",
    "\n",
    "# Test x and y[0] with \"is\" operator\n",
    "x is y[0]  # return true because they both reference to the same object\n",
    "\n",
    "# Reassign new value to x\n",
    "x = [0]\n",
    "\n",
    "# Test x and y[0] with \"is\" operator again\n",
    "x is y[0]  # return False because they reference to differnt object after x is assigned with new object\n",
    "\n",
    "# Test x and y[0] with == operator\n",
    "x == y[0]  # return True because the values of the objects are the same even though they are reference different objects\n",
    "```"
   ]
  },
  {
   "cell_type": "code",
   "execution_count": null,
   "metadata": {},
   "outputs": [],
   "source": [
    "# Create two list objects x and y\n",
    "x = [0]\n",
    "y = [x, 1]"
   ]
  },
  {
   "cell_type": "code",
   "execution_count": null,
   "metadata": {},
   "outputs": [],
   "source": [
    "# Test x and y[0] with \"is\" operator\n",
    "x is y[0]"
   ]
  },
  {
   "cell_type": "code",
   "execution_count": null,
   "metadata": {},
   "outputs": [],
   "source": [
    "# Reassign new value to x\n",
    "x = [0]"
   ]
  },
  {
   "cell_type": "code",
   "execution_count": null,
   "metadata": {},
   "outputs": [],
   "source": [
    "# Test x and y[0] with \"is\" operator again\n",
    "x is y[0]"
   ]
  },
  {
   "cell_type": "code",
   "execution_count": null,
   "metadata": {},
   "outputs": [],
   "source": [
    "# Test x and y[0] with == operator\n",
    "x == y[0]"
   ]
  },
  {
   "cell_type": "code",
   "execution_count": null,
   "metadata": {},
   "outputs": [],
   "source": [
    "# Try it yourself!\n",
    "\n",
    "# Determine the below statement return True or False:\n",
    "\n",
    "1\n",
    "\n",
    "0\n",
    "\n",
    "-1\n",
    "\n",
    "[0]\n",
    "\n",
    "1 and 0\n",
    "\n",
    "1 > 0 or []\n"
   ]
  },
  {
   "cell_type": "markdown",
   "metadata": {},
   "source": [
    "## 5.6 - Simple Program for Textual Analysis\n",
    "\n",
    "To better understand Python programming, we introduce a simple program for textual analysis, which is similar to **wc** program used in UNIX. This example try to simplify the code, so beginners can easily read and understand it.\n",
    "\n",
    "``` Python\n",
    "# !/usr/bin/env Python3\n",
    "\"\"\" Reads a file and returns the number of lines, words, and characters - similar to the UNIX wc utility\n",
    "\"\"\"\n",
    "\n",
    "infile = open('word_counts.tst')\n",
    "lines = infile.read().split(\"\\n\")\n",
    "\n",
    "line_count = len(lines)\n",
    "word_count = 0\n",
    "char_count = 0\n",
    "\n",
    "for line in lines:\n",
    "    words = line.split()\n",
    "    word_count += len(words)\n",
    "    char_count += len(line)\n",
    "\n",
    "print(\"File has {0} lines, {1} words, {2} characters\".format(line_count, word_count, char_count))\n",
    "```\n",
    "\n",
    "  "
   ]
  },
  {
   "cell_type": "code",
   "execution_count": 2,
   "metadata": {},
   "outputs": [
    {
     "name": "stdout",
     "output_type": "stream",
     "text": [
      "File has 4 lines, 30 words, 189 characters\n"
     ]
    }
   ],
   "source": [
    "# !/usr/bin/env Python3\n",
    "\"\"\" Reads a file and returns the number of lines, words, and characters - similar to the UNIX wc utility\n",
    "\"\"\"\n",
    "\n",
    "infile = open('word_count.tst')\n",
    "lines = infile.read().split(\"\\n\")\n",
    "\n",
    "line_count = len(lines)\n",
    "word_count = 0\n",
    "char_count = 0\n",
    "\n",
    "for line in lines:\n",
    "    words = line.split()\n",
    "    word_count += len(words)\n",
    "    char_count += len(line)\n",
    "\n",
    "print(\"File has {0} lines, {1} words, {2} characters\".format(line_count, word_count, char_count))"
   ]
  },
  {
   "cell_type": "code",
   "execution_count": null,
   "metadata": {},
   "outputs": [],
   "source": [
    "# Try it yourself!\n",
    "\n",
    "# Try to rewrite and simplify the program in the example.  \n",
    "# Try to also add additional features to your program, such as\n",
    "# take out the special notations before counting."
   ]
  },
  {
   "cell_type": "code",
   "execution_count": null,
   "metadata": {},
   "outputs": [],
   "source": []
  }
 ],
 "metadata": {
  "kernelspec": {
   "display_name": "Python 3",
   "language": "python",
   "name": "python3"
  },
  "language_info": {
   "codemirror_mode": {
    "name": "ipython",
    "version": 3
   },
   "file_extension": ".py",
   "mimetype": "text/x-python",
   "name": "python",
   "nbconvert_exporter": "python",
   "pygments_lexer": "ipython3",
   "version": "3.7.1"
  }
 },
 "nbformat": 4,
 "nbformat_minor": 2
}
