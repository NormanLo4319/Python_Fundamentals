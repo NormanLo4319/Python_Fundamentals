{
 "cells": [
  {
   "cell_type": "markdown",
   "metadata": {},
   "source": [
    "# Control Flow Tools\n",
    "\n",
    "A program’s control flow is the order in which the program’s code executes. The control flow of a Python program is regulated by conditional statements, loops, and function calls. This section covers the if statement and for and while loops.\n",
    "\n",
    "- 5.1 - while loop\n",
    "- 5.2 - if-elif-else conditional statments\n",
    "- 5.3 - for loop\n",
    "- 5.4 - Comprehension & Generator\n",
    "- 5.5 - Boolean Evaluation\n",
    "- 5.6 - Simple Program to Evaluate a Text File\n",
    "\n",
    "## 5.1 - while loop\n",
    "\n",
    "In the previous lessons, we have seen a few examples of basic while loop. Here is a formal expression of a while loop:\n",
    "\n",
    "``` Python\n",
    "while Conditional statement:\n",
    "    main statement\n",
    "else:\n",
    "    backup statement\n",
    "```\n",
    "\n",
    "The **conditional statement** in the while loop is a boolean evaluation which returns either True or False value.  As long as the condition is True, the execution of the main statement(s) will continue to repeat. Once the condition hits False, while loop will execute the backup statement(s) under **else** condition and exit the while loop. If the condition fails to be True in the first evaluation, it automatically execute the backup statement and exit the while loop. \n",
    "\n",
    "The main statement and backup statement can be one or multiple statements.  Each line of statement should be indented by the same whitespaces under the condition statement. We have seem the format in the previous lesson:\n",
    "\n",
    "``` Python\n",
    "# while loop example\n",
    "n = 9\n",
    "r = 1\n",
    "while n > 0:\n",
    "    r = r * n\n",
    "    n = n -1\n",
    "```\n",
    "\n",
    "##### break & continue\n",
    "\n",
    "**break** and **continue** statements can alter the flow of a normal loop and are commonly used for control of the program flows.  The **break** statement terminates the loop and force an exist from the main body of the loop and the alternative statement (such as else statement). The continue statement is used to skip the rest of the code inside a loop for the current iteration only. Loop does not terminate but continues on with the next iteration.\n",
    "\n",
    "Let's take a quick look of a simple example:\n",
    "\n",
    "``` Python\n",
    "# Using the break statement in a while loop\n",
    "data = get_data() # reading the data\n",
    "while data != \"\":\n",
    "    if \"Good\" in data:\n",
    "        print(\"Found the word: Good\")\n",
    "        break\n",
    "    data = get_data() # Continue reading the data\n",
    "else:\n",
    "    print(\"Cannot find the word: Good\")\n",
    "\n",
    "# We can also have the same result without the else statement\n",
    "found = False\n",
    "data = get_data()\n",
    "while data != \"\":\n",
    "    if \"Good\" in data:\n",
    "        print(\"Found the word: Good\")\n",
    "        found = True\n",
    "        break\n",
    "    data = get_data()\n",
    "\n",
    "if not found:\n",
    "    print(\"Cannot find the word: Good\")\n",
    "```"
   ]
  },
  {
   "cell_type": "code",
   "execution_count": null,
   "metadata": {},
   "outputs": [],
   "source": [
    "# Try it yourself!\n",
    "\n",
    "# Try to write a while loop to include a continue statement\n",
    "\n"
   ]
  },
  {
   "cell_type": "markdown",
   "metadata": {},
   "source": [
    "## 5.2 - if-elif-else statements\n",
    "\n",
    "The **if**, **elif**, and **else** statement is used in Python to execute a code when a certain condition is satisfied. Here is the condition statement syntax:\n",
    "\n",
    "``` Python\n",
    "if Condition 1:\n",
    "    Body of statement(s) 1\n",
    "elif Condition 2:\n",
    "    Body of statement(s) 2\n",
    "elif Condition 3:\n",
    "    Body of statement(s) 3\n",
    "...\n",
    "elif Condition n-1:\n",
    "    Body of statements(s) n-1\n",
    "else:\n",
    "    Body of statement(s) n\n",
    "```\n",
    "\n",
    "The **elif** is short for **else if**.  It allows us to check for multiple expressions.  If the first condition is met, the body of statement under condition 1 is executed.  If condition 1 is failed to be True, it checks the condition of the next elif condition and so on.  If all the condition are False, the body of statement under else is executed. The structure of the code is the similar to while loop, where the body of statement(s) under each condition is indented.  \n",
    "\n",
    "Let's check out some simple examples here:\n",
    "\n",
    "``` Python\n",
    "# Check if n is above 100\n",
    "if n > 100:\n",
    "    result = \"success\"\n",
    "else:\n",
    "    result = \"failed\"\n",
    "```\n"
   ]
  },
  {
   "cell_type": "code",
   "execution_count": null,
   "metadata": {},
   "outputs": [],
   "source": []
  },
  {
   "cell_type": "code",
   "execution_count": null,
   "metadata": {},
   "outputs": [],
   "source": []
  },
  {
   "cell_type": "code",
   "execution_count": null,
   "metadata": {},
   "outputs": [],
   "source": []
  },
  {
   "cell_type": "code",
   "execution_count": null,
   "metadata": {},
   "outputs": [],
   "source": []
  },
  {
   "cell_type": "code",
   "execution_count": null,
   "metadata": {},
   "outputs": [],
   "source": []
  },
  {
   "cell_type": "code",
   "execution_count": null,
   "metadata": {},
   "outputs": [],
   "source": []
  },
  {
   "cell_type": "code",
   "execution_count": null,
   "metadata": {},
   "outputs": [],
   "source": []
  },
  {
   "cell_type": "code",
   "execution_count": null,
   "metadata": {},
   "outputs": [],
   "source": []
  },
  {
   "cell_type": "code",
   "execution_count": null,
   "metadata": {},
   "outputs": [],
   "source": []
  },
  {
   "cell_type": "code",
   "execution_count": null,
   "metadata": {},
   "outputs": [],
   "source": []
  },
  {
   "cell_type": "code",
   "execution_count": null,
   "metadata": {},
   "outputs": [],
   "source": []
  },
  {
   "cell_type": "code",
   "execution_count": null,
   "metadata": {},
   "outputs": [],
   "source": []
  },
  {
   "cell_type": "code",
   "execution_count": null,
   "metadata": {},
   "outputs": [],
   "source": []
  },
  {
   "cell_type": "code",
   "execution_count": null,
   "metadata": {},
   "outputs": [],
   "source": []
  },
  {
   "cell_type": "code",
   "execution_count": null,
   "metadata": {},
   "outputs": [],
   "source": []
  },
  {
   "cell_type": "code",
   "execution_count": null,
   "metadata": {},
   "outputs": [],
   "source": []
  },
  {
   "cell_type": "code",
   "execution_count": null,
   "metadata": {},
   "outputs": [],
   "source": []
  },
  {
   "cell_type": "code",
   "execution_count": null,
   "metadata": {},
   "outputs": [],
   "source": []
  },
  {
   "cell_type": "code",
   "execution_count": null,
   "metadata": {},
   "outputs": [],
   "source": []
  },
  {
   "cell_type": "code",
   "execution_count": null,
   "metadata": {},
   "outputs": [],
   "source": []
  },
  {
   "cell_type": "code",
   "execution_count": null,
   "metadata": {},
   "outputs": [],
   "source": []
  },
  {
   "cell_type": "code",
   "execution_count": null,
   "metadata": {},
   "outputs": [],
   "source": []
  },
  {
   "cell_type": "code",
   "execution_count": null,
   "metadata": {},
   "outputs": [],
   "source": []
  },
  {
   "cell_type": "code",
   "execution_count": null,
   "metadata": {},
   "outputs": [],
   "source": []
  },
  {
   "cell_type": "code",
   "execution_count": null,
   "metadata": {},
   "outputs": [],
   "source": []
  },
  {
   "cell_type": "code",
   "execution_count": null,
   "metadata": {},
   "outputs": [],
   "source": []
  },
  {
   "cell_type": "code",
   "execution_count": null,
   "metadata": {},
   "outputs": [],
   "source": []
  },
  {
   "cell_type": "code",
   "execution_count": null,
   "metadata": {},
   "outputs": [],
   "source": []
  }
 ],
 "metadata": {
  "kernelspec": {
   "display_name": "Python 3",
   "language": "python",
   "name": "python3"
  },
  "language_info": {
   "codemirror_mode": {
    "name": "ipython",
    "version": 3
   },
   "file_extension": ".py",
   "mimetype": "text/x-python",
   "name": "python",
   "nbconvert_exporter": "python",
   "pygments_lexer": "ipython3",
   "version": "3.7.1"
  }
 },
 "nbformat": 4,
 "nbformat_minor": 2
}
