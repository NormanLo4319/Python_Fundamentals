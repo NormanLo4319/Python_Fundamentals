{
 "cells": [
  {
   "cell_type": "markdown",
   "metadata": {},
   "source": [
    "## Lesson 3 - String Processing\n",
    "\n",
    "- 3.1 - String Sequence\n",
    "- 3.2 - Basic Operations of String Object\n",
    "- 3.3 - Special String and Escape Sequence\n",
    "- 3.4 - Methods and Functions of String Object\n",
    "- 3.5 - Transforming Object to a Sting: repr() and str()\n",
    "- 3.6 - Formating String Object: format(), %, and f-string\n",
    "- 3.7 - Using bytes Object\n",
    "- 3.8 - Application of print()\n",
    "\n",
    "In everyday business operation, **string** is one of the most important and challenging type of data in programming design from user's name, file name, and other text processing. The powerful built-in text processing and formatting tools allows us to complete these tasks efficiently. We are going to discuss some of these tools for processing **string** object in Python.\n",
    "\n",
    "String literals can be enclosed by either double or single quotes, although single quotes are more commonly used.  A double quoted string literal can contain signle quotes without any fuss and likewise single quoted string can contain double quotes.  "
   ]
  },
  {
   "cell_type": "markdown",
   "metadata": {},
   "source": [
    "## 3.1 - String Sequence\n",
    "\n",
    "In the previous lesson, we mentioned that **list** and **tuple** are ordered colletions of arbitrary objects, in which the order of the elments are defined when it was created. This kind of ordered data type is called \"**sequence**\" in Python. The Python **strings** object is an immutable sequence of Unicode characters.  \n",
    "\n",
    "Since Python **Strings** is a sequence data type, we can also apply indexing [n] to access a character or slicing [n:m] to access a sub-part of sequences from a string. Python strings are **immutable** which means they cannot be changed after they are created. Therefore, the extracted or modified characters needs to be assigned to a new variable.\n",
    "\n",
    "e.g. Python strings\n",
    "``` Python\n",
    "x = \"Hello\"\n",
    "x[0]  # return \"H\"\n",
    "x[-1]  # return \"o\"\n",
    "x[1:]  # return \"ello\"\n",
    "```\n",
    "\n",
    "An application for slicing a string is for text processing to take out any **escape** character at the end of the string, such as \"\\n\" is a newline character, \"\\t\" is a tab character, etc. It is an useful text processing for raw text data.\n",
    "\n",
    "e.g. \n",
    "``` Python\n",
    "x = \"Goodbye\\n\"\n",
    "x = x[:-1]\n",
    "x  # return 'Goodbye'\n",
    "```\n",
    "\n",
    "The previous example is just one of the ways to remove those unnecessary character from a string.  Python has many built-in functions and methods to handle the task.\n",
    "\n",
    "We can also use Python built-in len( ) function to count the characters within a string.  For example,\n",
    "\n",
    "``` Python\n",
    "len(\"Goodbye\")  # return 7\n",
    "```\n",
    "\n",
    "Note: Do not confuse between a list and a string, the most obvious different between the two is that: string is **immutable**, which is mainly for performance purpose. Any attempt to modify a string will return an error message. For instances,\n",
    "\n",
    "``` Python\n",
    "string = \"Hello\"\n",
    "string.append('c') # return error message\n",
    "string[0] = \"A\"  # return error message\n",
    "```\n",
    "\n",
    "In the previous example, when we are trying to remove an escape character '\\n', we are literally copying from the orginal string, slicing it, and then creating a new string. In the following sections, we will discover some of the functions and methods of string objects, which applies exactly the same logic."
   ]
  },
  {
   "cell_type": "code",
   "execution_count": null,
   "metadata": {},
   "outputs": [],
   "source": [
    "## 3.2 - Basic Operations of String Object\n",
    "\n"
   ]
  },
  {
   "cell_type": "code",
   "execution_count": null,
   "metadata": {},
   "outputs": [],
   "source": []
  },
  {
   "cell_type": "code",
   "execution_count": null,
   "metadata": {},
   "outputs": [],
   "source": []
  },
  {
   "cell_type": "code",
   "execution_count": null,
   "metadata": {},
   "outputs": [],
   "source": []
  },
  {
   "cell_type": "code",
   "execution_count": null,
   "metadata": {},
   "outputs": [],
   "source": []
  },
  {
   "cell_type": "code",
   "execution_count": null,
   "metadata": {},
   "outputs": [],
   "source": []
  },
  {
   "cell_type": "code",
   "execution_count": null,
   "metadata": {},
   "outputs": [],
   "source": []
  },
  {
   "cell_type": "code",
   "execution_count": null,
   "metadata": {},
   "outputs": [],
   "source": []
  },
  {
   "cell_type": "code",
   "execution_count": null,
   "metadata": {},
   "outputs": [],
   "source": []
  }
 ],
 "metadata": {
  "kernelspec": {
   "display_name": "Python 3",
   "language": "python",
   "name": "python3"
  },
  "language_info": {
   "codemirror_mode": {
    "name": "ipython",
    "version": 3
   },
   "file_extension": ".py",
   "mimetype": "text/x-python",
   "name": "python",
   "nbconvert_exporter": "python",
   "pygments_lexer": "ipython3",
   "version": "3.7.1"
  }
 },
 "nbformat": 4,
 "nbformat_minor": 2
}
