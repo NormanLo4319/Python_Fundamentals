{
 "cells": [
  {
   "cell_type": "markdown",
   "metadata": {},
   "source": [
    "### Word Processing Exercise\n",
    "\n",
    "When processing the original text file, we usually need to clean and process the words in the file, such as counting the frequency of each word in the text. The very first step is to modify the text and transform all the characters to either lowercase or uppercase and remove all the notations in the text.  \n",
    "\n",
    "This exercise is to process the text file (the first chapter of Moby Dick's text file):\n",
    "\n",
    "1. Modify all the characters to lowercase\n",
    "2. Remove all the notations in the text file\n",
    "3. Create a data structure to store each word to a new line\n",
    "4. Write it into a new file"
   ]
  },
  {
   "cell_type": "code",
   "execution_count": null,
   "metadata": {},
   "outputs": [],
   "source": [
    "# Given code\n",
    "with open(\"moby_01.txt\") as infile, open(\"moby_01_clean.txt\", \"w\") as outfiles:\n",
    "    for line in infile:\n",
    "        # transform all characters to lowercase\n",
    "        \n",
    "        # remove all notations\n",
    "        \n",
    "        # separate each word\n",
    "        \n",
    "        # store each word to a new line\n",
    "        \n",
    "        outfile.write(clean_words)"
   ]
  }
 ],
 "metadata": {
  "kernelspec": {
   "display_name": "Python 3",
   "language": "python",
   "name": "python3"
  },
  "language_info": {
   "codemirror_mode": {
    "name": "ipython",
    "version": 3
   },
   "file_extension": ".py",
   "mimetype": "text/x-python",
   "name": "python",
   "nbconvert_exporter": "python",
   "pygments_lexer": "ipython3",
   "version": "3.7.1"
  }
 },
 "nbformat": 4,
 "nbformat_minor": 2
}
