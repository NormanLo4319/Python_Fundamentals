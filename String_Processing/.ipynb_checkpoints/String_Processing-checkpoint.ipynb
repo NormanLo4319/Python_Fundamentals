{
 "cells": [
  {
   "cell_type": "markdown",
   "metadata": {},
   "source": [
    "## Lesson 3 - String Processing\n",
    "\n",
    "- 3.1 - String Sequence\n",
    "- 3.2 - Basic Operations of String Object\n",
    "- 3.3 - Special Character and Escape Sequence\n",
    "- 3.4 - Methods and Functions of String Object\n",
    "- 3.5 - Transforming Object to a Sting: repr() and str()\n",
    "- 3.6 - Formating String Object: format(), %, and f-string\n",
    "- 3.7 - Using bytes Object\n",
    "- 3.8 - Application of print()\n",
    "\n",
    "In everyday business operation, **string** is one of the most important and challenging type of data in programming design from user's name, file name, and other text processing. The powerful built-in text processing and formatting tools allows us to complete these tasks efficiently. We are going to discuss some of these tools for processing **string** object in Python.\n",
    "\n",
    "String literals can be enclosed by either double or single quotes, although single quotes are more commonly used.  A double quoted string literal can contain signle quotes without any fuss and likewise single quoted string can contain double quotes.  \n",
    "\n",
    "Reference: https://docs.python.org/3/library/stdtypes.html#text-sequence-type-str"
   ]
  },
  {
   "cell_type": "markdown",
   "metadata": {},
   "source": [
    "## 3.1 - String Sequence\n",
    "\n",
    "In the previous lesson, we mentioned that **list** and **tuple** are ordered colletions of arbitrary objects, in which the order of the elments are defined when it was created. This kind of ordered data type is called \"**sequence**\" in Python. The Python **strings** object is an immutable sequence of Unicode characters.  \n",
    "\n",
    "Since Python **Strings** is a sequence data type, we can also apply indexing [n] to access a character or slicing [n:m] to access a sub-part of sequences from a string. Python strings are **immutable** which means they cannot be changed after they are created. Therefore, the extracted or modified characters needs to be assigned to a new variable.\n",
    "\n",
    "e.g. Python strings\n",
    "``` Python\n",
    "x = \"Hello\"\n",
    "x[0]  # return \"H\"\n",
    "x[-1]  # return \"o\"\n",
    "x[1:]  # return \"ello\"\n",
    "```"
   ]
  },
  {
   "cell_type": "code",
   "execution_count": null,
   "metadata": {},
   "outputs": [],
   "source": [
    "# Create the Python sting\n",
    "x = \"Hello\"\n",
    "x[0]  # return \"H\"\n",
    "x[-1]  # return \"o\"\n",
    "x[1:]  # return \"ello\""
   ]
  },
  {
   "cell_type": "markdown",
   "metadata": {},
   "source": [
    "An application for slicing a string is for text processing to take out any **escape** character at the end of the string, such as \"\\n\" is a newline character, \"\\t\" is a tab character, etc. It is an useful text processing for raw text data.\n",
    "\n",
    "e.g. \n",
    "``` Python\n",
    "x = \"Goodbye\\n\"\n",
    "x = x[:-1]\n",
    "x  # return 'Goodbye'\n",
    "```"
   ]
  },
  {
   "cell_type": "code",
   "execution_count": null,
   "metadata": {},
   "outputs": [],
   "source": [
    "# Take out the escape character\n",
    "x = \"Goodbye\\n\"\n",
    "x = x[:-1]\n",
    "x  # return 'Goodbye'"
   ]
  },
  {
   "cell_type": "markdown",
   "metadata": {},
   "source": [
    "The previous example is just one of the ways to remove those unnecessary character from a string.  Python has many built-in functions and methods to handle the task.\n",
    "\n",
    "We can also use Python built-in len( ) function to count the characters within a string.  For example,\n",
    "\n",
    "``` Python\n",
    "len(\"Goodbye\")  # return 7\n",
    "```\n",
    "\n"
   ]
  },
  {
   "cell_type": "code",
   "execution_count": null,
   "metadata": {},
   "outputs": [],
   "source": [
    "# Using the len( ) function on string\n",
    "len(\"Goodbye\")  # return 7"
   ]
  },
  {
   "cell_type": "markdown",
   "metadata": {},
   "source": [
    "Note: Do not confuse between a list and a string, the most obvious different between the two is that: string is **immutable**, which is mainly for performance purpose. Any attempt to modify a string will return an error message. For instances,\n",
    "\n",
    "``` Python\n",
    "string = \"Hello\"\n",
    "string.append('c') # return error message\n",
    "string[0] = \"A\"  # return error message\n",
    "```\n",
    "\n",
    "In the previous example, when we are trying to remove an escape character '\\n', we are literally copying from the orginal string, slicing it, and then creating a new string. In the following sections, we will discover some of the functions and methods of string objects, which applies exactly the same logic."
   ]
  },
  {
   "cell_type": "code",
   "execution_count": null,
   "metadata": {},
   "outputs": [],
   "source": [
    "# Error message for modifying the string object\n",
    "string = \"Hello\"\n",
    "string.append('c') # return error message\n",
    "string[0] = \"A\"  # return error message"
   ]
  },
  {
   "cell_type": "markdown",
   "metadata": {},
   "source": [
    "## 3.2 - Basic Operations of String Object\n",
    "\n",
    "When we need to join multiple strings, the easiest (or most popular) way is to connect the strings with the mathematical operator (+):\n",
    "\n",
    "``` Python\n",
    "x = \"Hello \" + \"World\"\n",
    "x  # return 'Hello World'\n",
    "```\n",
    "\n",
    "Python will also join the strings with space between them:\n",
    "\n",
    "``` Python\n",
    "x = \"Hello \"   \"World\"\n",
    "x  # return 'Hello World'\n",
    "```\n",
    "\n",
    "The multiplication operator (*) also works with the string data type (even though it is not often used).\n",
    "\n",
    "``` Python\n",
    "8 * \"x\"  # return 'xxxxxxxx'\n",
    "```"
   ]
  },
  {
   "cell_type": "code",
   "execution_count": null,
   "metadata": {},
   "outputs": [],
   "source": [
    "# Using the addition operator to join two string objects\n",
    "x = \"Hello \" + \"World\"\n",
    "x  # return 'Hello World'"
   ]
  },
  {
   "cell_type": "code",
   "execution_count": null,
   "metadata": {},
   "outputs": [],
   "source": [
    "# Using space to join two string objects\n",
    "x = \"Hello \"   \"World\"\n",
    "x  # return 'Hello World'"
   ]
  },
  {
   "cell_type": "code",
   "execution_count": null,
   "metadata": {},
   "outputs": [],
   "source": [
    "# Using multiplication operator on string object\n",
    "8 * \"x\"  # return 'xxxxxxxx'"
   ]
  },
  {
   "cell_type": "markdown",
   "metadata": {},
   "source": [
    "## 3.3 - Special Characters and Escape Sequence\n",
    "\n",
    "In the previous section, we have seen an example of **escape character**: \\n means newline and \\t means tab. In Python strings, the backslash \"\\\" is a special character, also called the **escape character**, when it is combined with other characters it becomes an **escape sequence**, which is used in representing certain withespace characters. In this section, we introduce some of the most common **escape sequences** and their applications.\n",
    "\n",
    "##### Basic Escape Sequence\n",
    "\n",
    "Below table presents the most common used **escape sequences**.  These **escape sequences** also apply to the **bytes** object covered at the end of this lesson.\n",
    "\n",
    "|  Escape Sequence  |  Meaning  |\n",
    "| :---:  |  :---:  |\n",
    "|  \\newline  |  Ignored  |\n",
    "|  \\'  |  single quote (')  |\n",
    "|  \\\"  |  double quote (\")  |\n",
    "|  \\\\  |  Backslash (\\)  |\n",
    "|  \\a  |  ASCII Bell (Bell)  |\n",
    "|  \\b  |  ASCII Backspace (Backspace)  |\n",
    "|  \\f  |  ASCII Formfeed (start a new page)  |\n",
    "|  \\n  |  ASCII Linefeed (start a new line)  |\n",
    "|  \\r  |  ASCII Carriage Return (Carriage Return)  |\n",
    "|  \\t  |  ASCII Horizontal Tab (Tab)  |\n",
    "|  \\v  |  ASCII Vertical Tab (Vertical Tab)  |\n",
    "\n",
    "Except the escape squences mentioned above, there are other ASCII characters are defined with numbers.  \n",
    "\n",
    "#####  Unicode Escape Sequence (8 bit / 16 bit)\n",
    "\n",
    "In Python, we can use 8-bit or 16-bit escape sequence to presents any ASCII (American Standard Code for Inofrmation Interchange) characters.  8-bits escape sequence is deined by a backslash (\\) follow with three numbers: \\nnn, where nnn is a 8-bit value.  16-bit escape sequence is defined by a backslash and x (\\x) follow with two 16-bit characters: \\xnn, where nn presents a 16-bit value.\n",
    "\n",
    "e.g. Unicode Escape Sequence\n",
    "``` Python\n",
    "'m'  # return 'm'\n",
    "'\\155'  # return 'm'\n",
    "'\\x6D'  # return 'm'\n",
    "'\\x6d'  # return 'm', we can write the 16-bit value in either small or capital letter\n",
    "```\n",
    "\n",
    "Applying the same logic, we can write other escape sequence in the following way:\n",
    "\n",
    "``` Python\n",
    "'\\n'  # return '\\n'\n",
    "'\\012'  # return '\\n'\n",
    "'\\x0A'  # return '\\n'\n",
    "```\n",
    "\n",
    "Starting Python 3, all string object is defined by Unicode string, which allow us to presents any characters from different languages. Here is some simple example to demonstrate the use of 16-bit character and Unicode name.\n",
    "\n",
    "``` Python\n",
    "# Using the Unicode name to present Unicode character\n",
    "unicode_a = '\\N{LATIN SMALL LETTER A}'\n",
    "unicode_a  # return 'a'\n",
    "\n",
    "unicode_a_with_acute = '\\N{LATIN SMALL LETTER A WITH ACUTE}'\n",
    "unicode_a_with_acute  # return 'á'\n",
    "\n",
    "# Using \\u follow with 4 digit 16-bit character to present a Unicode Character\n",
    "'\\u00E1'  # return 'á' by Unicode character\n",
    "```"
   ]
  },
  {
   "cell_type": "code",
   "execution_count": 1,
   "metadata": {},
   "outputs": [
    {
     "data": {
      "text/plain": [
       "'á'"
      ]
     },
     "execution_count": 1,
     "metadata": {},
     "output_type": "execute_result"
    }
   ],
   "source": [
    "# Using the Unicode name to present Unicode character\n",
    "unicode_a = '\\N{LATIN SMALL LETTER A}'\n",
    "unicode_a  # return 'a'"
   ]
  },
  {
   "cell_type": "code",
   "execution_count": null,
   "metadata": {},
   "outputs": [],
   "source": [
    "# Using the Unicode name to present Unicode character\n",
    "unicode_a_with_acute = '\\N{LATIN SMALL LETTER A WITH ACUTE}'\n",
    "unicode_a_with_acute  # return 'á'"
   ]
  },
  {
   "cell_type": "code",
   "execution_count": null,
   "metadata": {},
   "outputs": [],
   "source": [
    "# Using \\u follow with 4 digit 16-bit character to present a Unicode Character\n",
    "'\\u00E1'  # return 'á' by Unicode character"
   ]
  },
  {
   "cell_type": "markdown",
   "metadata": {},
   "source": [
    "##### Use print( ) function to show the escape sequence\n",
    "\n",
    "To present the escape sequence, we can use the print( ) function to actually see the return value from sequence.  Here are some examples,\n",
    "\n",
    "e.g. a string 'a\\n\\tb' verus print('a\\n\\tb')\n",
    "\n",
    "``` Python\n",
    "# Python interpret the string directly\n",
    "'a\\n\\tb'  # return 'a\\n\\tb' \n",
    "\n",
    "# print( ) function interpret escape sequence and return the actual value\n",
    "print('a\\n\\tb')  # return a and b with newline and tab\n",
    "```\n",
    "\n",
    "In this example, the first case returned the original string format.  In the second case, the print( ) function interpret the escape sequence and return the actual value with the newline and tab space."
   ]
  },
  {
   "cell_type": "code",
   "execution_count": null,
   "metadata": {},
   "outputs": [],
   "source": [
    "# Python interpret the string directly\n",
    "'a\\n\\tb'  # return 'a\\n\\tb' "
   ]
  },
  {
   "cell_type": "code",
   "execution_count": null,
   "metadata": {},
   "outputs": [],
   "source": [
    "# print( ) function interpret escape sequence and return the actual value\n",
    "print('a\\n\\tb')  # return a and b with newline and tab"
   ]
  },
  {
   "cell_type": "markdown",
   "metadata": {},
   "source": [
    "Generally, the print( ) function returns the string with an additional newline.  Sometime a string contains a newline escape sequence and we are trying to avoid doubling the newline, we can put in an argument in the print( ) function (end=\"\") and set the newline as empty, so that the return value does not include an additional newline.\n",
    "\n",
    "e.g.\n",
    "``` Python\n",
    "print('Hello World\\n')  # return 'Hello World' with two newlines\n",
    "\n",
    "print('Hello World\\n', end=\"\")  # return 'Hello World with one newline\n",
    "```"
   ]
  },
  {
   "cell_type": "code",
   "execution_count": 2,
   "metadata": {},
   "outputs": [
    {
     "name": "stdout",
     "output_type": "stream",
     "text": [
      "Hello World\n",
      "\n"
     ]
    }
   ],
   "source": [
    "# With additional newline from print( ) function\n",
    "print('Hello World\\n')"
   ]
  },
  {
   "cell_type": "code",
   "execution_count": 3,
   "metadata": {},
   "outputs": [
    {
     "name": "stdout",
     "output_type": "stream",
     "text": [
      "Hello World\n"
     ]
    }
   ],
   "source": [
    "# Without additional newline from print( ) function\n",
    "print('Hello World\\n', end=\"\")"
   ]
  },
  {
   "cell_type": "markdown",
   "metadata": {},
   "source": [
    "## 3.4 - Methods and Function for Strings\n",
    "\n",
    "Python has a set of built-in methods that we can apply on strings, which we can directly apply these methods for text processing.  Furthermore, the string module contains a number of useful constants and classes, as well as some deprecated functions that are also available as methonds on strings.  In this section, we only focus on how to apply the Python built-in methods and their applications.  To apply the Python built-in methods on strings, we only need to remember to add a period (.) after the string to operate:\n",
    "\n",
    "Reference: https://docs.python.org/2.5/lib/string-methods.html\n",
    "\n",
    "e.g.  stringName.method()\n",
    "``` Python\n",
    "# returns lowercased string\n",
    "x = 'HELLO WORLD'\n",
    "x.lower()  # return new string 'hello world'\n",
    "\n",
    "# returns uppercased string\n",
    "x.upper()  # return new string 'HELLO WORLD'\n",
    "\n",
    "# converts first character to Captial letter\n",
    "x.capitalize()  # return new string 'Hello world'\n",
    "```\n",
    "\n",
    "Note: Keep in mind that string is an immutable sequence, so the method of string object is actaully returning a new string, but not modifying the original string."
   ]
  },
  {
   "cell_type": "code",
   "execution_count": 4,
   "metadata": {},
   "outputs": [
    {
     "data": {
      "text/plain": [
       "'hello world'"
      ]
     },
     "execution_count": 4,
     "metadata": {},
     "output_type": "execute_result"
    }
   ],
   "source": [
    "# returns lowercased string\n",
    "x = 'HELLO WORLD'\n",
    "x.lower()  # return new string 'hello world'"
   ]
  },
  {
   "cell_type": "code",
   "execution_count": 5,
   "metadata": {},
   "outputs": [
    {
     "data": {
      "text/plain": [
       "'HELLO WORLD'"
      ]
     },
     "execution_count": 5,
     "metadata": {},
     "output_type": "execute_result"
    }
   ],
   "source": [
    "# returns uppercased string\n",
    "x.upper()  # return new string 'HELLO WORLD'"
   ]
  },
  {
   "cell_type": "code",
   "execution_count": 6,
   "metadata": {},
   "outputs": [
    {
     "data": {
      "text/plain": [
       "'Hello world'"
      ]
     },
     "execution_count": 6,
     "metadata": {},
     "output_type": "execute_result"
    }
   ],
   "source": [
    "# converts first character to Captial letter\n",
    "x.capitalize()  # return new string 'Hello world'"
   ]
  },
  {
   "cell_type": "markdown",
   "metadata": {},
   "source": [
    "##### Using split( ) and join( ) \n",
    "\n",
    "Both the split( ) and join( ) methods are very powerful tools for text processing.  They have the exact opposite function in text processing: split( ) method breaks a string object into a list of strings, and the join( ) method connects a list of strings and form a new string object.  \n",
    "\n",
    "Using (+) for joining strings could be useful.  However, when a massive number of strings need to be joined, the (+) method will create efficiency problem.  For instance, when we are trying to join two strings \"Hello\" and \"world\", three objects need to be created: \"Hello\", \"world\", and \"Hello world\".  The first two objects will only be dumped when the thrid object is created.  Therefore, the (+) method actually creates a massive useless string objects during the process.  \n",
    "\n",
    "The join( ) method is a more efficient way for the same task.\n",
    "\n",
    "Syntex: str.join(sequence) \n",
    "\n",
    "e.g. join a list of strings with empty spaces between each element\n",
    "``` Python\n",
    "# join a list of strings with empty spaces between them\n",
    "\" \".join([\"join\", \"puts\", \"spaces\", \"between\", \"elements\"])\n",
    "# return 'join puts spaces between elements'\n",
    "```\n",
    "\n",
    "We only need to change the string object in front of the join( ) function to identify the object between each string from the list.\n",
    "\n",
    "e.g. join a list of strings with ::\n",
    "``` Python\n",
    "# join a list of strings with double colon\n",
    "\"::\".join([\"Separated\", \"with\", \"colons\"])\n",
    "# return 'Separated::with::colons'\n",
    "```\n",
    "\n",
    "We can also join a list of strings with empty space.\n",
    "\n",
    "``` Python\n",
    "# join a list of string with empty space\n",
    "\"\".join([\"Separated\", \"by\", \"nothing\"])\n",
    "# return 'Separatedbynothing'\n",
    "```"
   ]
  },
  {
   "cell_type": "code",
   "execution_count": null,
   "metadata": {},
   "outputs": [],
   "source": [
    "# join a list of strings with empty spaces between them\n",
    "\" \".join([\"join\", \"puts\", \"spaces\", \"between\", \"elements\"])"
   ]
  },
  {
   "cell_type": "code",
   "execution_count": null,
   "metadata": {},
   "outputs": [],
   "source": [
    "# join a list of strings with double colon\n",
    "\"::\".join([\"Separated\", \"with\", \"colons\"])"
   ]
  },
  {
   "cell_type": "code",
   "execution_count": null,
   "metadata": {},
   "outputs": [],
   "source": [
    "# join a list of string with empty space\n",
    "\"\".join([\"Separated\", \"by\", \"nothing\"])"
   ]
  },
  {
   "cell_type": "markdown",
   "metadata": {},
   "source": [
    "split( ) method splits a string into a list.  The default separator is any whitespace, but users can specify the separator for spliting.  Here are some examples:\n",
    "\n",
    "Syntex: str.split(separator, max)\n",
    "\n",
    "e.g.\n",
    "``` Python\n",
    "x = \"You\\t\\t can have tabs\\t\\n \\t and newlines \\n\\n \" \\\"mixed in\"\n",
    "x.split()  # return ['You', 'can', 'have', 'tabs', 'and, 'newlines', 'mixed', 'in']\n",
    "\n",
    "x = \"Mississippi\"\n",
    "x.split(\"ss\")  # return ['Mi', 'i', 'ippi']\n",
    "```\n",
    "\n",
    "We can also use the second argument to define the number of split.  If given the argument with value of n, split( ) creates a list of n+1 elements or until the string cannot be split.  Here are some examples:\n",
    "\n",
    "``` Python\n",
    "x = 'a b c d e'\n",
    "x.split(' ', 1)  # return ['a', 'b c d e']\n",
    "x.split(' ', 2)  # return ['a', 'b', 'c d e']\n",
    "x.split(' ', 9)  # return ['a', 'b', 'c', 'd', 'c']\n",
    "```\n",
    "\n",
    "If we want to split a string with a whitespace with the second arugment defined, we can pass in \"None\" for the first arugment.  \n",
    "\n",
    "``` Python\n",
    "x = 'a\\nb c d'\n",
    "x.split(' ', 2)  # return ['a\\nb', 'c', 'd']\n",
    "x.split(None, 2)  # return ['a', 'b', 'c d']\n",
    "```\n",
    "\n",
    "split( ) and join( ) are popular tool used for textual data. It is recommended to use the Python standard csv and json packages for language processing. "
   ]
  },
  {
   "cell_type": "code",
   "execution_count": null,
   "metadata": {},
   "outputs": [],
   "source": [
    "x = \"You\\t\\t can have tabs\\t\\n \\t and newlines \\n\\n \" \\\"mixed in\"\n",
    "x.split()"
   ]
  },
  {
   "cell_type": "code",
   "execution_count": null,
   "metadata": {},
   "outputs": [],
   "source": [
    "x = \"Mississippi\"\n",
    "x.split(\"ss\")"
   ]
  },
  {
   "cell_type": "code",
   "execution_count": null,
   "metadata": {},
   "outputs": [],
   "source": [
    "x = 'a b c d e'\n",
    "x.split(' ', 1)"
   ]
  },
  {
   "cell_type": "code",
   "execution_count": null,
   "metadata": {},
   "outputs": [],
   "source": [
    "x.split(' ', 2)"
   ]
  },
  {
   "cell_type": "code",
   "execution_count": null,
   "metadata": {},
   "outputs": [],
   "source": [
    "x.split(' ', 9)"
   ]
  },
  {
   "cell_type": "code",
   "execution_count": null,
   "metadata": {},
   "outputs": [],
   "source": [
    "x = 'a\\nb c d'\n",
    "x.split(' ', 2)"
   ]
  },
  {
   "cell_type": "code",
   "execution_count": null,
   "metadata": {},
   "outputs": [],
   "source": [
    "x.split(None, 2)"
   ]
  },
  {
   "cell_type": "code",
   "execution_count": null,
   "metadata": {},
   "outputs": [],
   "source": [
    "# Try it yourself!\n",
    "\n",
    "# How to use split( ) and joint( ) to change all the whitespaces in a string\n",
    "# to '-'?\n",
    "# e.g.\n",
    "# \"this is a test\"  =>  \"this-is-a-test\""
   ]
  },
  {
   "cell_type": "markdown",
   "metadata": {},
   "source": [
    "##### Using int( ) and float( )\n",
    "\n",
    "Integers and floasts are data tyeps that deal with numbers.  Python has built-in functions int( ) and float( ) converting strings to integers or floats. If the string cannot be interpreted, the functions will return ValueError. \n",
    "\n",
    "int( ) function has two arguments, which the second argument is optional that can be used to define the number format.  The default value is 10.  Here are some examples:\n",
    "\n",
    "e.g. \n",
    "``` Python\n",
    "float('123.456')\n",
    "\n",
    "float('xxyy')\n",
    "\n",
    "int('3333')\n",
    "\n",
    "int('123.456')\n",
    "\n",
    "int('10000', 8)\n",
    "\n",
    "int('101', 2)\n",
    "\n",
    "int('ff', 16)\n",
    "\n",
    "int('123456', 6)\n",
    "```\n",
    "\n"
   ]
  },
  {
   "cell_type": "code",
   "execution_count": null,
   "metadata": {},
   "outputs": [],
   "source": []
  },
  {
   "cell_type": "code",
   "execution_count": null,
   "metadata": {},
   "outputs": [],
   "source": []
  },
  {
   "cell_type": "code",
   "execution_count": null,
   "metadata": {},
   "outputs": [],
   "source": []
  },
  {
   "cell_type": "code",
   "execution_count": null,
   "metadata": {},
   "outputs": [],
   "source": []
  },
  {
   "cell_type": "code",
   "execution_count": null,
   "metadata": {},
   "outputs": [],
   "source": []
  },
  {
   "cell_type": "code",
   "execution_count": null,
   "metadata": {},
   "outputs": [],
   "source": []
  },
  {
   "cell_type": "code",
   "execution_count": null,
   "metadata": {},
   "outputs": [],
   "source": []
  },
  {
   "cell_type": "code",
   "execution_count": null,
   "metadata": {},
   "outputs": [],
   "source": []
  },
  {
   "cell_type": "code",
   "execution_count": null,
   "metadata": {},
   "outputs": [],
   "source": []
  },
  {
   "cell_type": "code",
   "execution_count": null,
   "metadata": {},
   "outputs": [],
   "source": []
  },
  {
   "cell_type": "code",
   "execution_count": null,
   "metadata": {},
   "outputs": [],
   "source": []
  },
  {
   "cell_type": "code",
   "execution_count": null,
   "metadata": {},
   "outputs": [],
   "source": []
  },
  {
   "cell_type": "code",
   "execution_count": null,
   "metadata": {},
   "outputs": [],
   "source": []
  },
  {
   "cell_type": "code",
   "execution_count": null,
   "metadata": {},
   "outputs": [],
   "source": []
  },
  {
   "cell_type": "code",
   "execution_count": null,
   "metadata": {},
   "outputs": [],
   "source": []
  },
  {
   "cell_type": "code",
   "execution_count": null,
   "metadata": {},
   "outputs": [],
   "source": []
  }
 ],
 "metadata": {
  "kernelspec": {
   "display_name": "Python 3",
   "language": "python",
   "name": "python3"
  },
  "language_info": {
   "codemirror_mode": {
    "name": "ipython",
    "version": 3
   },
   "file_extension": ".py",
   "mimetype": "text/x-python",
   "name": "python",
   "nbconvert_exporter": "python",
   "pygments_lexer": "ipython3",
   "version": "3.7.1"
  }
 },
 "nbformat": 4,
 "nbformat_minor": 2
}
