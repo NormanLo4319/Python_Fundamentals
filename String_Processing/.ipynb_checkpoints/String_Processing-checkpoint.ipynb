{
 "cells": [
  {
   "cell_type": "markdown",
   "metadata": {},
   "source": [
    "## Lesson 3 - String Processing\n",
    "\n",
    "- 3.1 - String Sequence\n",
    "- 3.2 - Basic Operations of String Object\n",
    "- 3.3 - Special Character and Escape Sequence\n",
    "- 3.4 - Methods and Functions of String Object\n",
    "- 3.5 - String Search\n",
    "- 3.6 - String Modification\n",
    "- 3.5 - Transforming Object to a Sting: repr() and str()\n",
    "- 3.6 - Formating String Object: format(), %, and f-string\n",
    "- 3.7 - Using bytes Object\n",
    "- 3.8 - Application of print()\n",
    "\n",
    "In everyday business operation, **string** is one of the most important and challenging type of data in programming design from user's name, file name, and other text processing. The powerful built-in text processing and formatting tools allows us to complete these tasks efficiently. We are going to discuss some of these tools for processing **string** object in Python.\n",
    "\n",
    "String literals can be enclosed by either double or single quotes, although single quotes are more commonly used.  A double quoted string literal can contain signle quotes without any fuss and likewise single quoted string can contain double quotes.  \n",
    "\n",
    "Reference: https://docs.python.org/3/library/stdtypes.html#text-sequence-type-str"
   ]
  },
  {
   "cell_type": "markdown",
   "metadata": {},
   "source": [
    "## 3.1 - String Sequence\n",
    "\n",
    "In the previous lesson, we mentioned that **list** and **tuple** are ordered colletions of arbitrary objects, in which the order of the elments are defined when it was created. This kind of ordered data type is called \"**sequence**\" in Python. The Python **strings** object is an immutable sequence of Unicode characters.  \n",
    "\n",
    "Since Python **Strings** is a sequence data type, we can also apply indexing [n] to access a character or slicing [n:m] to access a sub-part of sequences from a string. Python strings are **immutable** which means they cannot be changed after they are created. Therefore, the extracted or modified characters needs to be assigned to a new variable.\n",
    "\n",
    "e.g. Python strings\n",
    "``` Python\n",
    "x = \"Hello\"\n",
    "x[0]  # return \"H\"\n",
    "x[-1]  # return \"o\"\n",
    "x[1:]  # return \"ello\"\n",
    "```"
   ]
  },
  {
   "cell_type": "code",
   "execution_count": null,
   "metadata": {},
   "outputs": [],
   "source": [
    "# Create the Python sting\n",
    "x = \"Hello\"\n",
    "x[0]  # return \"H\"\n",
    "x[-1]  # return \"o\"\n",
    "x[1:]  # return \"ello\""
   ]
  },
  {
   "cell_type": "markdown",
   "metadata": {},
   "source": [
    "An application for slicing a string is for text processing to take out any **escape** character at the end of the string, such as \"\\n\" is a newline character, \"\\t\" is a tab character, etc. It is an useful text processing for raw text data.\n",
    "\n",
    "e.g. \n",
    "``` Python\n",
    "x = \"Goodbye\\n\"\n",
    "x = x[:-1]\n",
    "x  # return 'Goodbye'\n",
    "```"
   ]
  },
  {
   "cell_type": "code",
   "execution_count": null,
   "metadata": {},
   "outputs": [],
   "source": [
    "# Take out the escape character\n",
    "x = \"Goodbye\\n\"\n",
    "x = x[:-1]\n",
    "x  # return 'Goodbye'"
   ]
  },
  {
   "cell_type": "markdown",
   "metadata": {},
   "source": [
    "The previous example is just one of the ways to remove those unnecessary character from a string.  Python has many built-in functions and methods to handle the task.\n",
    "\n",
    "We can also use Python built-in len( ) function to count the characters within a string.  For example,\n",
    "\n",
    "``` Python\n",
    "len(\"Goodbye\")  # return 7\n",
    "```\n",
    "\n"
   ]
  },
  {
   "cell_type": "code",
   "execution_count": null,
   "metadata": {},
   "outputs": [],
   "source": [
    "# Using the len( ) function on string\n",
    "len(\"Goodbye\")  # return 7"
   ]
  },
  {
   "cell_type": "markdown",
   "metadata": {},
   "source": [
    "Note: Do not confuse between a list and a string, the most obvious different between the two is that: string is **immutable**, which is mainly for performance purpose. Any attempt to modify a string will return an error message. For instances,\n",
    "\n",
    "``` Python\n",
    "string = \"Hello\"\n",
    "string.append('c') # return error message\n",
    "string[0] = \"A\"  # return error message\n",
    "```\n",
    "\n",
    "In the previous example, when we are trying to remove an escape character '\\n', we are literally copying from the orginal string, slicing it, and then creating a new string. In the following sections, we will discover some of the functions and methods of string objects, which applies exactly the same logic."
   ]
  },
  {
   "cell_type": "code",
   "execution_count": null,
   "metadata": {},
   "outputs": [],
   "source": [
    "# Error message for modifying the string object\n",
    "string = \"Hello\"\n",
    "string.append('c') # return error message\n",
    "string[0] = \"A\"  # return error message"
   ]
  },
  {
   "cell_type": "markdown",
   "metadata": {},
   "source": [
    "## 3.2 - Basic Operations of String Object\n",
    "\n",
    "When we need to join multiple strings, the easiest (or most popular) way is to connect the strings with the mathematical operator (+):\n",
    "\n",
    "``` Python\n",
    "x = \"Hello \" + \"World\"\n",
    "x  # return 'Hello World'\n",
    "```\n",
    "\n",
    "Python will also join the strings with space between them:\n",
    "\n",
    "``` Python\n",
    "x = \"Hello \"   \"World\"\n",
    "x  # return 'Hello World'\n",
    "```\n",
    "\n",
    "The multiplication operator (*) also works with the string data type (even though it is not often used).\n",
    "\n",
    "``` Python\n",
    "8 * \"x\"  # return 'xxxxxxxx'\n",
    "```"
   ]
  },
  {
   "cell_type": "code",
   "execution_count": null,
   "metadata": {},
   "outputs": [],
   "source": [
    "# Using the addition operator to join two string objects\n",
    "x = \"Hello \" + \"World\"\n",
    "x  # return 'Hello World'"
   ]
  },
  {
   "cell_type": "code",
   "execution_count": null,
   "metadata": {},
   "outputs": [],
   "source": [
    "# Using space to join two string objects\n",
    "x = \"Hello \"   \"World\"\n",
    "x  # return 'Hello World'"
   ]
  },
  {
   "cell_type": "code",
   "execution_count": null,
   "metadata": {},
   "outputs": [],
   "source": [
    "# Using multiplication operator on string object\n",
    "8 * \"x\"  # return 'xxxxxxxx'"
   ]
  },
  {
   "cell_type": "markdown",
   "metadata": {},
   "source": [
    "## 3.3 - Special Characters and Escape Sequence\n",
    "\n",
    "In the previous section, we have seen an example of **escape character**: \\n means newline and \\t means tab. In Python strings, the backslash \"\\\" is a special character, also called the **escape character**, when it is combined with other characters it becomes an **escape sequence**, which is used in representing certain withespace characters. In this section, we introduce some of the most common **escape sequences** and their applications.\n",
    "\n",
    "##### Basic Escape Sequence\n",
    "\n",
    "Below table presents the most common used **escape sequences**.  These **escape sequences** also apply to the **bytes** object covered at the end of this lesson.\n",
    "\n",
    "|  Escape Sequence  |  Meaning  |\n",
    "| :---:  |  :---:  |\n",
    "|  \\newline  |  Ignored  |\n",
    "|  \\'  |  single quote (')  |\n",
    "|  \\\"  |  double quote (\")  |\n",
    "|  \\\\  |  Backslash (\\)  |\n",
    "|  \\a  |  ASCII Bell (Bell)  |\n",
    "|  \\b  |  ASCII Backspace (Backspace)  |\n",
    "|  \\f  |  ASCII Formfeed (start a new page)  |\n",
    "|  \\n  |  ASCII Linefeed (start a new line)  |\n",
    "|  \\r  |  ASCII Carriage Return (Carriage Return)  |\n",
    "|  \\t  |  ASCII Horizontal Tab (Tab)  |\n",
    "|  \\v  |  ASCII Vertical Tab (Vertical Tab)  |\n",
    "\n",
    "Except the escape squences mentioned above, there are other ASCII characters are defined with numbers.  \n",
    "\n",
    "#####  Unicode Escape Sequence (8 bit / 16 bit)\n",
    "\n",
    "In Python, we can use 8-bit or 16-bit escape sequence to presents any ASCII (American Standard Code for Inofrmation Interchange) characters.  8-bits escape sequence is deined by a backslash (\\) follow with three numbers: \\nnn, where nnn is a 8-bit value.  16-bit escape sequence is defined by a backslash and x (\\x) follow with two 16-bit characters: \\xnn, where nn presents a 16-bit value.\n",
    "\n",
    "e.g. Unicode Escape Sequence\n",
    "``` Python\n",
    "'m'  # return 'm'\n",
    "'\\155'  # return 'm'\n",
    "'\\x6D'  # return 'm'\n",
    "'\\x6d'  # return 'm', we can write the 16-bit value in either small or capital letter\n",
    "```\n",
    "\n",
    "Applying the same logic, we can write other escape sequence in the following way:\n",
    "\n",
    "``` Python\n",
    "'\\n'  # return '\\n'\n",
    "'\\012'  # return '\\n'\n",
    "'\\x0A'  # return '\\n'\n",
    "```\n",
    "\n",
    "Starting Python 3, all string object is defined by Unicode string, which allow us to presents any characters from different languages. Here is some simple example to demonstrate the use of 16-bit character and Unicode name.\n",
    "\n",
    "``` Python\n",
    "# Using the Unicode name to present Unicode character\n",
    "unicode_a = '\\N{LATIN SMALL LETTER A}'\n",
    "unicode_a  # return 'a'\n",
    "\n",
    "unicode_a_with_acute = '\\N{LATIN SMALL LETTER A WITH ACUTE}'\n",
    "unicode_a_with_acute  # return 'á'\n",
    "\n",
    "# Using \\u follow with 4 digit 16-bit character to present a Unicode Character\n",
    "'\\u00E1'  # return 'á' by Unicode character\n",
    "```"
   ]
  },
  {
   "cell_type": "code",
   "execution_count": 1,
   "metadata": {},
   "outputs": [
    {
     "data": {
      "text/plain": [
       "'á'"
      ]
     },
     "execution_count": 1,
     "metadata": {},
     "output_type": "execute_result"
    }
   ],
   "source": [
    "# Using the Unicode name to present Unicode character\n",
    "unicode_a = '\\N{LATIN SMALL LETTER A}'\n",
    "unicode_a  # return 'a'"
   ]
  },
  {
   "cell_type": "code",
   "execution_count": null,
   "metadata": {},
   "outputs": [],
   "source": [
    "# Using the Unicode name to present Unicode character\n",
    "unicode_a_with_acute = '\\N{LATIN SMALL LETTER A WITH ACUTE}'\n",
    "unicode_a_with_acute  # return 'á'"
   ]
  },
  {
   "cell_type": "code",
   "execution_count": null,
   "metadata": {},
   "outputs": [],
   "source": [
    "# Using \\u follow with 4 digit 16-bit character to present a Unicode Character\n",
    "'\\u00E1'  # return 'á' by Unicode character"
   ]
  },
  {
   "cell_type": "markdown",
   "metadata": {},
   "source": [
    "##### Use print( ) function to show the escape sequence\n",
    "\n",
    "To present the escape sequence, we can use the print( ) function to actually see the return value from sequence.  Here are some examples,\n",
    "\n",
    "e.g. a string 'a\\n\\tb' verus print('a\\n\\tb')\n",
    "\n",
    "``` Python\n",
    "# Python interpret the string directly\n",
    "'a\\n\\tb'  # return 'a\\n\\tb' \n",
    "\n",
    "# print( ) function interpret escape sequence and return the actual value\n",
    "print('a\\n\\tb')  # return a and b with newline and tab\n",
    "```\n",
    "\n",
    "In this example, the first case returned the original string format.  In the second case, the print( ) function interpret the escape sequence and return the actual value with the newline and tab space."
   ]
  },
  {
   "cell_type": "code",
   "execution_count": null,
   "metadata": {},
   "outputs": [],
   "source": [
    "# Python interpret the string directly\n",
    "'a\\n\\tb'  # return 'a\\n\\tb' "
   ]
  },
  {
   "cell_type": "code",
   "execution_count": null,
   "metadata": {},
   "outputs": [],
   "source": [
    "# print( ) function interpret escape sequence and return the actual value\n",
    "print('a\\n\\tb')  # return a and b with newline and tab"
   ]
  },
  {
   "cell_type": "markdown",
   "metadata": {},
   "source": [
    "Generally, the print( ) function returns the string with an additional newline.  Sometime a string contains a newline escape sequence and we are trying to avoid doubling the newline, we can put in an argument in the print( ) function (end=\"\") and set the newline as empty, so that the return value does not include an additional newline.\n",
    "\n",
    "e.g.\n",
    "``` Python\n",
    "print('Hello World\\n')  # return 'Hello World' with two newlines\n",
    "\n",
    "print('Hello World\\n', end=\"\")  # return 'Hello World with one newline\n",
    "```"
   ]
  },
  {
   "cell_type": "code",
   "execution_count": 2,
   "metadata": {},
   "outputs": [
    {
     "name": "stdout",
     "output_type": "stream",
     "text": [
      "Hello World\n",
      "\n"
     ]
    }
   ],
   "source": [
    "# With additional newline from print( ) function\n",
    "print('Hello World\\n')"
   ]
  },
  {
   "cell_type": "code",
   "execution_count": 3,
   "metadata": {},
   "outputs": [
    {
     "name": "stdout",
     "output_type": "stream",
     "text": [
      "Hello World\n"
     ]
    }
   ],
   "source": [
    "# Without additional newline from print( ) function\n",
    "print('Hello World\\n', end=\"\")"
   ]
  },
  {
   "cell_type": "markdown",
   "metadata": {},
   "source": [
    "## 3.4 - Methods and Function for Strings\n",
    "\n",
    "Python has a set of built-in methods that we can apply on strings, which we can directly apply these methods for text processing.  Furthermore, the string module contains a number of useful constants and classes, as well as some deprecated functions that are also available as methonds on strings.  In this section, we only focus on how to apply the Python built-in methods and their applications.  To apply the Python built-in methods on strings, we only need to remember to add a period (.) after the string to operate:\n",
    "\n",
    "Reference: https://docs.python.org/2.5/lib/string-methods.html\n",
    "\n",
    "e.g.  stringName.method()\n",
    "``` Python\n",
    "# returns lowercased string\n",
    "x = 'HELLO WORLD'\n",
    "x.lower()  # return new string 'hello world'\n",
    "\n",
    "# returns uppercased string\n",
    "x.upper()  # return new string 'HELLO WORLD'\n",
    "\n",
    "# converts first character to Captial letter\n",
    "x.capitalize()  # return new string 'Hello world'\n",
    "```\n",
    "\n",
    "Note: Keep in mind that string is an immutable sequence, so the method of string object is actaully returning a new string, but not modifying the original string."
   ]
  },
  {
   "cell_type": "code",
   "execution_count": 4,
   "metadata": {},
   "outputs": [
    {
     "data": {
      "text/plain": [
       "'hello world'"
      ]
     },
     "execution_count": 4,
     "metadata": {},
     "output_type": "execute_result"
    }
   ],
   "source": [
    "# returns lowercased string\n",
    "x = 'HELLO WORLD'\n",
    "x.lower()  # return new string 'hello world'"
   ]
  },
  {
   "cell_type": "code",
   "execution_count": 5,
   "metadata": {},
   "outputs": [
    {
     "data": {
      "text/plain": [
       "'HELLO WORLD'"
      ]
     },
     "execution_count": 5,
     "metadata": {},
     "output_type": "execute_result"
    }
   ],
   "source": [
    "# returns uppercased string\n",
    "x.upper()  # return new string 'HELLO WORLD'"
   ]
  },
  {
   "cell_type": "code",
   "execution_count": 6,
   "metadata": {},
   "outputs": [
    {
     "data": {
      "text/plain": [
       "'Hello world'"
      ]
     },
     "execution_count": 6,
     "metadata": {},
     "output_type": "execute_result"
    }
   ],
   "source": [
    "# converts first character to Captial letter\n",
    "x.capitalize()  # return new string 'Hello world'"
   ]
  },
  {
   "cell_type": "markdown",
   "metadata": {},
   "source": [
    "##### Using split( ) and join( ) \n",
    "\n",
    "Both the split( ) and join( ) methods are very powerful tools for text processing.  They have the exact opposite function in text processing: split( ) method breaks a string object into a list of strings, and the join( ) method connects a list of strings and form a new string object.  \n",
    "\n",
    "Using (+) for joining strings could be useful.  However, when a massive number of strings need to be joined, the (+) method will create efficiency problem.  For instance, when we are trying to join two strings \"Hello\" and \"world\", three objects need to be created: \"Hello\", \"world\", and \"Hello world\".  The first two objects will only be dumped when the thrid object is created.  Therefore, the (+) method actually creates a massive useless string objects during the process.  \n",
    "\n",
    "The join( ) method is a more efficient way for the same task.\n",
    "\n",
    "Syntex: str.join(sequence) \n",
    "\n",
    "e.g. join a list of strings with empty spaces between each element\n",
    "``` Python\n",
    "# join a list of strings with empty spaces between them\n",
    "\" \".join([\"join\", \"puts\", \"spaces\", \"between\", \"elements\"])\n",
    "# return 'join puts spaces between elements'\n",
    "```\n",
    "\n",
    "We only need to change the string object in front of the join( ) function to identify the object between each string from the list.\n",
    "\n",
    "e.g. join a list of strings with ::\n",
    "``` Python\n",
    "# join a list of strings with double colon\n",
    "\"::\".join([\"Separated\", \"with\", \"colons\"])\n",
    "# return 'Separated::with::colons'\n",
    "```\n",
    "\n",
    "We can also join a list of strings with empty space.\n",
    "\n",
    "``` Python\n",
    "# join a list of string with empty space\n",
    "\"\".join([\"Separated\", \"by\", \"nothing\"])\n",
    "# return 'Separatedbynothing'\n",
    "```"
   ]
  },
  {
   "cell_type": "code",
   "execution_count": null,
   "metadata": {},
   "outputs": [],
   "source": [
    "# join a list of strings with empty spaces between them\n",
    "\" \".join([\"join\", \"puts\", \"spaces\", \"between\", \"elements\"])"
   ]
  },
  {
   "cell_type": "code",
   "execution_count": null,
   "metadata": {},
   "outputs": [],
   "source": [
    "# join a list of strings with double colon\n",
    "\"::\".join([\"Separated\", \"with\", \"colons\"])"
   ]
  },
  {
   "cell_type": "code",
   "execution_count": null,
   "metadata": {},
   "outputs": [],
   "source": [
    "# join a list of string with empty space\n",
    "\"\".join([\"Separated\", \"by\", \"nothing\"])"
   ]
  },
  {
   "cell_type": "markdown",
   "metadata": {},
   "source": [
    "split( ) method splits a string into a list.  The default separator is any whitespace, but users can specify the separator for spliting.  Here are some examples:\n",
    "\n",
    "Syntex: str.split(separator, max)\n",
    "\n",
    "e.g.\n",
    "``` Python\n",
    "x = \"You\\t\\t can have tabs\\t\\n \\t and newlines \\n\\n \" \\\"mixed in\"\n",
    "x.split()  # return ['You', 'can', 'have', 'tabs', 'and, 'newlines', 'mixed', 'in']\n",
    "\n",
    "x = \"Mississippi\"\n",
    "x.split(\"ss\")  # return ['Mi', 'i', 'ippi']\n",
    "```\n",
    "\n",
    "We can also use the second argument to define the number of split.  If given the argument with value of n, split( ) creates a list of n+1 elements or until the string cannot be split.  Here are some examples:\n",
    "\n",
    "``` Python\n",
    "x = 'a b c d e'\n",
    "x.split(' ', 1)  # return ['a', 'b c d e']\n",
    "x.split(' ', 2)  # return ['a', 'b', 'c d e']\n",
    "x.split(' ', 9)  # return ['a', 'b', 'c', 'd', 'c']\n",
    "```\n",
    "\n",
    "If we want to split a string with a whitespace with the second arugment defined, we can pass in \"None\" for the first arugment.  \n",
    "\n",
    "``` Python\n",
    "x = 'a\\nb c d'\n",
    "x.split(' ', 2)  # return ['a\\nb', 'c', 'd']\n",
    "x.split(None, 2)  # return ['a', 'b', 'c d']\n",
    "```\n",
    "\n",
    "split( ) and join( ) are popular tool used for textual data. It is recommended to use the Python standard csv and json packages for language processing. "
   ]
  },
  {
   "cell_type": "code",
   "execution_count": null,
   "metadata": {},
   "outputs": [],
   "source": [
    "x = \"You\\t\\t can have tabs\\t\\n \\t and newlines \\n\\n \" \\\"mixed in\"\n",
    "x.split()"
   ]
  },
  {
   "cell_type": "code",
   "execution_count": null,
   "metadata": {},
   "outputs": [],
   "source": [
    "x = \"Mississippi\"\n",
    "x.split(\"ss\")"
   ]
  },
  {
   "cell_type": "code",
   "execution_count": null,
   "metadata": {},
   "outputs": [],
   "source": [
    "x = 'a b c d e'\n",
    "x.split(' ', 1)"
   ]
  },
  {
   "cell_type": "code",
   "execution_count": null,
   "metadata": {},
   "outputs": [],
   "source": [
    "x.split(' ', 2)"
   ]
  },
  {
   "cell_type": "code",
   "execution_count": null,
   "metadata": {},
   "outputs": [],
   "source": [
    "x.split(' ', 9)"
   ]
  },
  {
   "cell_type": "code",
   "execution_count": null,
   "metadata": {},
   "outputs": [],
   "source": [
    "x = 'a\\nb c d'\n",
    "x.split(' ', 2)"
   ]
  },
  {
   "cell_type": "code",
   "execution_count": null,
   "metadata": {},
   "outputs": [],
   "source": [
    "x.split(None, 2)"
   ]
  },
  {
   "cell_type": "code",
   "execution_count": null,
   "metadata": {},
   "outputs": [],
   "source": [
    "# Try it yourself!\n",
    "\n",
    "# How to use split( ) and joint( ) to change all the whitespaces in a string\n",
    "# to '-'?\n",
    "# e.g.\n",
    "# \"this is a test\"  =>  \"this-is-a-test\""
   ]
  },
  {
   "cell_type": "markdown",
   "metadata": {},
   "source": [
    "##### Using int( ) and float( )\n",
    "\n",
    "Integers and floasts are data tyeps that deal with numbers.  Python has built-in functions int( ) and float( ) converting strings to integers or floats. If the string cannot be interpreted, the functions will return ValueError. \n",
    "\n",
    "int( ) function has two arguments, which the second argument is optional that can be used to define the number format.  The default value is 10.  Here are some examples:\n",
    "\n",
    "e.g. \n",
    "``` Python\n",
    "float('123.456')  # return 123.456\n",
    "\n",
    "float('xxyy')  # return error message\n",
    "\n",
    "int('3333')  # return 3333\n",
    "\n",
    "int('123.456')  # return error message\n",
    "\n",
    "int('10000', 8)  # return 4096\n",
    "\n",
    "int('101', 2)  # return 5\n",
    "\n",
    "int('ff', 16)  # return 255\n",
    "\n",
    "int('123456', 6)  # return error message\n",
    "```"
   ]
  },
  {
   "cell_type": "code",
   "execution_count": null,
   "metadata": {},
   "outputs": [],
   "source": [
    "# Try it yourself!\n",
    "\n",
    "# Try to translate the following into numbers and explain why they will return an error.\n",
    "\n",
    "int('a1')\n",
    "\n",
    "int('12G', 16)\n",
    "\n",
    "float('12345678901234567890')\n",
    "\n",
    "int('12*2')"
   ]
  },
  {
   "cell_type": "markdown",
   "metadata": {},
   "source": [
    "##### Using strip( ), lstrip( ), rstrip( ) to remove whitespaces\n",
    "\n",
    "strip( ), lstrip( ), and rstrip( ) are the simple methods used for removing the whitespaces starting or ending in a string.  lstrip( ) and rstrip( ) are used to remove the left whitespace and the right whitespace respectively. Here are some examples:\n",
    "\n",
    "e.g.\n",
    "\n",
    "``` Python\n",
    "x = \" Hello, World\\t\\t\"\n",
    "x.strip()  # return 'Hello, World'\n",
    "\n",
    "x.lstrip()  # return 'Hello, World\\t\\t'\n",
    "\n",
    "x.rstrip()  # return ' Hello, World'\n",
    "```\n",
    "\n",
    "Note: Whitespaces may be interpreted differently in different operation systems, but we can check the space characters using string.whitespace from **string** package.  Here is the returned whitespace characters from Window operation system.\n",
    "\n",
    "``` Python\n",
    "import string\n",
    "string.whitespace  # return the whitespace characters\n",
    "\n",
    "\" \\t\\n\\r\\v\\f\"  # return ' \\t\\n\\r\\x0b\\x0c'\n",
    "```\n",
    "\n",
    "Above returned values **\\x0b** and **\\x0c** translate as the **line tabulation** and **form feed**.  We should be careful not to change any of the whitespace characters in the orginal string when using strip( ) because it may return an unexpected result. \n",
    "\n",
    "Another way is to assign the removed characters to a variable and using strip( ), lstrip( ) and rstrip( ) to remove the specific characters from a string.\n",
    "\n",
    "e.g.\n",
    "``` Python\n",
    "x = \"www.python.org\"\n",
    "x.strip(\"w\")  # return '.python.org'\n",
    "\n",
    "x.strip(\"gor\")  # return 'www.python.'\n",
    "\n",
    "x.strip('.gorw')  # return 'python'\n",
    "```\n",
    "\n",
    "Note: Regardless the order of the characters in the string, strip( ) removes all the characters specified in the argument.\n",
    "\n",
    "rstrip( ) would be extremely helpful when we are dealing with text file with multiple lines, which can effectively remove all the newline whitespaces at the end of each line.  "
   ]
  },
  {
   "cell_type": "code",
   "execution_count": 1,
   "metadata": {},
   "outputs": [
    {
     "data": {
      "text/plain": [
       "' \\t\\n\\r\\x0b\\x0c'"
      ]
     },
     "execution_count": 1,
     "metadata": {},
     "output_type": "execute_result"
    }
   ],
   "source": [
    "# Check the whitespaces characters in your OS\n",
    "import string\n",
    "string.whitespace"
   ]
  },
  {
   "cell_type": "code",
   "execution_count": 2,
   "metadata": {},
   "outputs": [
    {
     "data": {
      "text/plain": [
       "' \\t\\n\\r\\x0b\\x0c'"
      ]
     },
     "execution_count": 2,
     "metadata": {},
     "output_type": "execute_result"
    }
   ],
   "source": [
    "\" \\t\\n\\r\\v\\f\""
   ]
  },
  {
   "cell_type": "code",
   "execution_count": null,
   "metadata": {},
   "outputs": [],
   "source": [
    "# Using the strip( ) arugments to remove specific character from a string\n",
    "x = \"www.python.org\"\n",
    "x.strip(\"w\") "
   ]
  },
  {
   "cell_type": "code",
   "execution_count": null,
   "metadata": {},
   "outputs": [],
   "source": [
    "x.strip(\"gor\")"
   ]
  },
  {
   "cell_type": "code",
   "execution_count": null,
   "metadata": {},
   "outputs": [],
   "source": [
    "x.strip('.gorw')"
   ]
  },
  {
   "cell_type": "code",
   "execution_count": null,
   "metadata": {},
   "outputs": [],
   "source": [
    "# Try it yourself!\n",
    "\n",
    "# If string x = \"(name, data),\\n\", which of the following return \"(name, date)\" string?\n",
    "\n",
    "x.rstrip(\"),\")\n",
    "\n",
    "x.strip(\"),\\n\")\n",
    "\n",
    "x.strip(\"\\n)(,\")"
   ]
  },
  {
   "cell_type": "markdown",
   "metadata": {},
   "source": [
    "##### Using isdigit( ), isalpha( ), islower( ), and isupper( )\n",
    "\n",
    "Python has a few useful methods used for checking the value of the string, such as checking if a string contains numberical or text only, check if all the text are uppercase or lowercase, etc.  Here are some examples of this methods:\n",
    "\n",
    "e.g.\n",
    "\n",
    "``` Python\n",
    "x = \"123\"\n",
    "\n",
    "# Check if the string is numbers\n",
    "x. isdigit()  # return True\n",
    "\n",
    "# Check if the string is English letters\n",
    "x.isalpha()  # return False\n",
    "\n",
    "x = \"ABC\"\n",
    "\n",
    "# Check if the characters in the string are all lowercase\n",
    "x.islower()  # return False\n",
    "\n",
    "# Check if the characters in the string are all uppercase\n",
    "x.isupper()  # return True\n",
    "```"
   ]
  },
  {
   "cell_type": "markdown",
   "metadata": {},
   "source": [
    "## 3.5 - String Search\n",
    "\n",
    "Python provides some built-in methods for string search.  \n",
    "\n",
    "##### Using \"in\" keyword\n",
    "\n",
    "We have mentioned that string is a sequence data type, so we can use the \"**in**\" keyword for word search in a string:\n",
    "\n",
    "e.g.\n",
    "``` Python\n",
    "x = \"The string\"\n",
    "\"str\" in x  # return True\n",
    "\n",
    "\"sTr\" in x  # return False\n",
    "\n",
    "\"e s\" in x  # return True\n",
    "```\n",
    "\n"
   ]
  },
  {
   "cell_type": "code",
   "execution_count": null,
   "metadata": {},
   "outputs": [],
   "source": [
    "x = \"The string\"\n",
    "\"str\" in x "
   ]
  },
  {
   "cell_type": "code",
   "execution_count": null,
   "metadata": {},
   "outputs": [],
   "source": [
    "\"sTr\" in x"
   ]
  },
  {
   "cell_type": "code",
   "execution_count": null,
   "metadata": {},
   "outputs": [],
   "source": [
    "\"e s\" in x "
   ]
  },
  {
   "cell_type": "markdown",
   "metadata": {},
   "source": [
    "##### Using fine( ), rfind( ), index( ), and rindex( )\n",
    "\n",
    "We can also perform word search using some Python built-in methods, such as find( ), rfind( ), index( ), and rindex( ).\n",
    "\n",
    "We introduce the use of find( ) method here.  When using the find( ) method for word search, we need to pass in the search substring as an argument.  The method will return the lowest index of the substring if it is found in given string.  If it's not found then it returns -1.\n",
    "\n",
    "e.g. \n",
    "``` Python\n",
    "x = \"Mississippi\"\n",
    "x.find(\"is\")  # return 1\n",
    "\n",
    "x.find(\"zz\")  # return -1\n",
    "```\n",
    "\n",
    "The find( ) method has two optional arugments, which can be used in the following form, find(substring, start, end), where both **start** and **end** arguments must be an interger.  **start** refers to the starting position where sub is needs to be checked within the string.  **end** refers to the ending position where suffix is needs to be checked within the string.\n",
    "\n",
    "e.g.\n",
    "``` Python\n",
    "x = \"Mississippi\"\n",
    "x.find(\"s\")  # return 2\n",
    "\n",
    "x.find(\"s\", 2)  # return 2\n",
    "\n",
    "x.find(\"s\", 4)  # return 5\n",
    "\n",
    "x.find(\"s\", 4, 5)  # return -1\n",
    "\n",
    "x.find(\"ss\", 3)  # return 5\n",
    "\n",
    "x.find(\"ss\", 0, 3)  # return -1\n",
    "```\n",
    "\n",
    "rfind( ) method is exactly like the find( ) method, but searching from an opposite direction.  It starts at the end of the string to the head, so the return position of the substring will be the last one in the string.\n",
    "\n",
    "e.g.\n",
    "``` Python\n",
    "x = \"Mississippi\"\n",
    "x.rfind(\"ss\")  # return 5\n",
    "```\n",
    "\n",
    "rfind( ) also has the same optional arguments, which work exactly the same way as find( ), but in the reverse order."
   ]
  },
  {
   "cell_type": "code",
   "execution_count": null,
   "metadata": {},
   "outputs": [],
   "source": [
    "x = \"Mississippi\"\n",
    "x.find(\"is\")"
   ]
  },
  {
   "cell_type": "code",
   "execution_count": null,
   "metadata": {},
   "outputs": [],
   "source": [
    "x.find(\"zz\")"
   ]
  },
  {
   "cell_type": "code",
   "execution_count": null,
   "metadata": {},
   "outputs": [],
   "source": [
    "x = \"Mississippi\"\n",
    "x.find(\"s\") "
   ]
  },
  {
   "cell_type": "code",
   "execution_count": null,
   "metadata": {},
   "outputs": [],
   "source": [
    "x.find(\"s\", 2)"
   ]
  },
  {
   "cell_type": "code",
   "execution_count": null,
   "metadata": {},
   "outputs": [],
   "source": [
    "x.find(\"s\", 4) "
   ]
  },
  {
   "cell_type": "code",
   "execution_count": null,
   "metadata": {},
   "outputs": [],
   "source": [
    "x.find(\"s\", 4, 5)"
   ]
  },
  {
   "cell_type": "code",
   "execution_count": null,
   "metadata": {},
   "outputs": [],
   "source": [
    "x.find(\"ss\", 3)"
   ]
  },
  {
   "cell_type": "code",
   "execution_count": null,
   "metadata": {},
   "outputs": [],
   "source": [
    "x.find(\"ss\", 0, 3)"
   ]
  },
  {
   "cell_type": "code",
   "execution_count": null,
   "metadata": {},
   "outputs": [],
   "source": [
    "x = \"Mississippi\"\n",
    "x.rfind(\"ss\")"
   ]
  },
  {
   "cell_type": "markdown",
   "metadata": {},
   "source": [
    "index( ) and rindex( ) are similar to find( ) and rfind( ), but index( ) and rindex( ) return ValueError when the substring cannot be found.  \n",
    "\n",
    "e.g.\n",
    "``` Python\n",
    "x = \"Mississippi\"\n",
    "x.index(\"s\")  # return 2\n",
    "\n",
    "x.index(\"s\", 4)  # return 5\n",
    "\n",
    "x.index(\"ss\", 0, 3)  # return ValueError\n",
    "\n",
    "x.rindex(\"ss\")  # return 5\n",
    "```"
   ]
  },
  {
   "cell_type": "code",
   "execution_count": 1,
   "metadata": {},
   "outputs": [
    {
     "data": {
      "text/plain": [
       "2"
      ]
     },
     "execution_count": 1,
     "metadata": {},
     "output_type": "execute_result"
    }
   ],
   "source": [
    "x = \"Mississippi\"\n",
    "x.index(\"s\")"
   ]
  },
  {
   "cell_type": "code",
   "execution_count": 2,
   "metadata": {},
   "outputs": [
    {
     "data": {
      "text/plain": [
       "5"
      ]
     },
     "execution_count": 2,
     "metadata": {},
     "output_type": "execute_result"
    }
   ],
   "source": [
    "x.index(\"s\", 4)"
   ]
  },
  {
   "cell_type": "code",
   "execution_count": 4,
   "metadata": {},
   "outputs": [
    {
     "ename": "ValueError",
     "evalue": "substring not found",
     "output_type": "error",
     "traceback": [
      "\u001b[1;31m---------------------------------------------------------------------------\u001b[0m",
      "\u001b[1;31mValueError\u001b[0m                                Traceback (most recent call last)",
      "\u001b[1;32m<ipython-input-4-b6f9cb444ee1>\u001b[0m in \u001b[0;36m<module>\u001b[1;34m\u001b[0m\n\u001b[1;32m----> 1\u001b[1;33m \u001b[0mx\u001b[0m\u001b[1;33m.\u001b[0m\u001b[0mindex\u001b[0m\u001b[1;33m(\u001b[0m\u001b[1;34m\"ss\"\u001b[0m\u001b[1;33m,\u001b[0m \u001b[1;36m0\u001b[0m\u001b[1;33m,\u001b[0m \u001b[1;36m3\u001b[0m\u001b[1;33m)\u001b[0m\u001b[1;33m\u001b[0m\u001b[1;33m\u001b[0m\u001b[0m\n\u001b[0m",
      "\u001b[1;31mValueError\u001b[0m: substring not found"
     ]
    }
   ],
   "source": [
    "x.index(\"ss\", 0, 3)"
   ]
  },
  {
   "cell_type": "code",
   "execution_count": 5,
   "metadata": {},
   "outputs": [
    {
     "data": {
      "text/plain": [
       "5"
      ]
     },
     "execution_count": 5,
     "metadata": {},
     "output_type": "execute_result"
    }
   ],
   "source": [
    "x.rindex(\"ss\")"
   ]
  },
  {
   "cell_type": "markdown",
   "metadata": {},
   "source": [
    "##### count( ) Method\n",
    "\n",
    "String object has a method **count( )**, which can count the frequency of the substring in a string object.  To use count( ), we need to pass in the substring into the argument.\n",
    "\n",
    "e.g.\n",
    "``` Python\n",
    "x = \"Mississippi\"\n",
    "x.count(\"ss\")  # return 2\n",
    "```"
   ]
  },
  {
   "cell_type": "code",
   "execution_count": null,
   "metadata": {},
   "outputs": [],
   "source": [
    "x = \"Mississippi\"\n",
    "x.count(\"ss\")"
   ]
  },
  {
   "cell_type": "markdown",
   "metadata": {},
   "source": [
    "##### startswith( ) and endswith( ) Methods\n",
    "\n",
    "We can also use the startswith( ) and endswith( ) methods to check if a string starts or ends with a specific substring.  It returns a boolean.\n",
    "\n",
    "e.g.\n",
    "``` Python\n",
    "x = \"Mississippi\"\n",
    "x.startswith(\"Miss\")  # return True\n",
    "\n",
    "x.startswith(\"Mist\")  # return False\n",
    "\n",
    "x.ednswith(\"pi\")  # return True\n",
    "\n",
    "x.endswith(\"p\")  # return False\n",
    "```\n",
    "\n",
    "Note: Both startswith( ) and endswith( ) allows search with mutiple substrings, but the substrings need to be passed into the methods in tuple format.  Here is an example:\n",
    "\n",
    "e.g.\n",
    "``` Python\n",
    "x.endswith((\"i\", \"u\"))  # return True\n",
    "```\n"
   ]
  },
  {
   "cell_type": "code",
   "execution_count": null,
   "metadata": {},
   "outputs": [],
   "source": [
    "x = \"Mississippi\"\n",
    "x.startswith(\"Miss\")"
   ]
  },
  {
   "cell_type": "code",
   "execution_count": null,
   "metadata": {},
   "outputs": [],
   "source": [
    "x.startswith(\"Mist\")"
   ]
  },
  {
   "cell_type": "code",
   "execution_count": null,
   "metadata": {},
   "outputs": [],
   "source": [
    "x.ednswith(\"pi\")"
   ]
  },
  {
   "cell_type": "code",
   "execution_count": null,
   "metadata": {},
   "outputs": [],
   "source": [
    "x.endswith(\"p\") "
   ]
  },
  {
   "cell_type": "code",
   "execution_count": null,
   "metadata": {},
   "outputs": [],
   "source": [
    "# Check if x ends with either i or u\n",
    "x.endswith((\"i\", \"u\"))"
   ]
  },
  {
   "cell_type": "code",
   "execution_count": null,
   "metadata": {},
   "outputs": [],
   "source": [
    "# Try it yourself!\n",
    "\n",
    "# If you want to check if there is a line end with \"rejected\",\n",
    "# what method you are going to use and is there another way to achieve the same task?\n",
    "\n"
   ]
  },
  {
   "cell_type": "markdown",
   "metadata": {},
   "source": [
    "## 3.6 - String Modification\n",
    "\n",
    "As mentioned eariler, string is an immutable object in Python.  However, there are a few methods that we can use to operate with a string object and return a new modified string.  These methods satisfy the demand for most of the everyday text operations. \n",
    "\n",
    "First of all, we can use **replace( )** to replace some of the characters in a string and return a new one.  The first argument is the substring to be replaced and the second arugment is the new replacement.  This method has the third optional argument, which can be found in the Python documentation.\n",
    "\n",
    "e.g.\n",
    "``` Python\n",
    "x = \"Mississippi\"\n",
    "x.replace(\"ss\", \"+++\")  # return 'Mi+++i+++ippi'\n",
    "```\n",
    "\n"
   ]
  },
  {
   "cell_type": "code",
   "execution_count": null,
   "metadata": {},
   "outputs": [],
   "source": [
    "x = \"Mississippi\"\n",
    "x.replace(\"ss\", \"+++\")"
   ]
  },
  {
   "cell_type": "markdown",
   "metadata": {},
   "source": [
    "We can also use **maketrans( )** with **translate( )** to creat a one to one mapping of a character to its translation/replacement.  This may not be common methods to use, but it could be useful when we are trying to simplify our programming code.  Here is an example:\n",
    "\n",
    "e.g.\n",
    "``` Python\n",
    "x = \"~x ^ (y % z)\"\n",
    "table = x.maketrans(\"~^()\", \"!&{}\")\n",
    "x.translate(table)  # return '!x & [y % z]'\n",
    "```"
   ]
  },
  {
   "cell_type": "code",
   "execution_count": null,
   "metadata": {},
   "outputs": [],
   "source": [
    "x = \"~x ^ (y % z)\"\n",
    "table = x.maketrans(\"~^()\", \"!&{}\")\n",
    "x.translate(table)"
   ]
  },
  {
   "cell_type": "markdown",
   "metadata": {},
   "source": [
    "##### lower( ), upper( ), capitalize( ), title( ), swapcase( ), and expandtabs( )\n",
    "\n",
    "The following methods are the commonly used in text editing:\n",
    "\n",
    "**lower( )**: returns the lowercased string from the given string  \n",
    "**upper( )**: returns the uppercased string from the given string  \n",
    "**capitalize( )**: coverts the first character of the string to capital letter and returns new string  \n",
    "**title( )**: converts the first character in each word to capital letter and remaining characters to lowercase in string and returns new string  \n",
    "**swapcase( )**: converst all uppercase characters to lowercase and vice versa the given string and returns new string  \n",
    "**expandtabs( )**: specifies the amount of space to be substituted with the \"\\t\" symbol in the given string and returns new string  "
   ]
  },
  {
   "cell_type": "code",
   "execution_count": 7,
   "metadata": {},
   "outputs": [
    {
     "data": {
      "text/plain": [
       "'this is a test'"
      ]
     },
     "execution_count": 7,
     "metadata": {},
     "output_type": "execute_result"
    }
   ],
   "source": [
    "x = \"This Is A Test\"\n",
    "x.lower()"
   ]
  },
  {
   "cell_type": "code",
   "execution_count": 8,
   "metadata": {},
   "outputs": [
    {
     "data": {
      "text/plain": [
       "'THIS IS A TEST'"
      ]
     },
     "execution_count": 8,
     "metadata": {},
     "output_type": "execute_result"
    }
   ],
   "source": [
    "x.upper()"
   ]
  },
  {
   "cell_type": "code",
   "execution_count": 9,
   "metadata": {},
   "outputs": [
    {
     "data": {
      "text/plain": [
       "'This is a test'"
      ]
     },
     "execution_count": 9,
     "metadata": {},
     "output_type": "execute_result"
    }
   ],
   "source": [
    "x = \"this is a test\"\n",
    "x.capitalize()"
   ]
  },
  {
   "cell_type": "code",
   "execution_count": 10,
   "metadata": {},
   "outputs": [
    {
     "data": {
      "text/plain": [
       "'This Is A Test'"
      ]
     },
     "execution_count": 10,
     "metadata": {},
     "output_type": "execute_result"
    }
   ],
   "source": [
    "x.title()"
   ]
  },
  {
   "cell_type": "code",
   "execution_count": 11,
   "metadata": {},
   "outputs": [
    {
     "data": {
      "text/plain": [
       "'tHiS iS a tEsT'"
      ]
     },
     "execution_count": 11,
     "metadata": {},
     "output_type": "execute_result"
    }
   ],
   "source": [
    "x = \"ThIs Is A TeSt\"\n",
    "x.swapcase()"
   ]
  },
  {
   "cell_type": "code",
   "execution_count": 16,
   "metadata": {},
   "outputs": [
    {
     "data": {
      "text/plain": [
       "'this    is      a       test'"
      ]
     },
     "execution_count": 16,
     "metadata": {},
     "output_type": "execute_result"
    }
   ],
   "source": [
    "x = \"this\\tis\\ta\\ttest\"\n",
    "x.expandtabs()"
   ]
  },
  {
   "cell_type": "code",
   "execution_count": null,
   "metadata": {},
   "outputs": [],
   "source": [
    "# Try it yourself!\n",
    "\n",
    "# Try to use all of the methods to play around with different strings.\n",
    "\n"
   ]
  },
  {
   "cell_type": "markdown",
   "metadata": {},
   "source": [
    "##### ljust( ), rjust( ), center( ), zfill( )\n",
    "\n",
    "We can apply the following methods for filling specific characters in a string.\n",
    "\n",
    "**ljust( )**: returns a new string of given length after substituting a given character in right side of orginal string  \n",
    "**rjust( )**: returns a new string of given length after substituting a given character in left side of original string  \n",
    "**center( )**: creates and returns a new string which is padded with the specified character  \n",
    "**zfill( )**: return a copy of the string with '0' characters paded to the leftside of the given string"
   ]
  },
  {
   "cell_type": "code",
   "execution_count": 20,
   "metadata": {},
   "outputs": [
    {
     "data": {
      "text/plain": [
       "'test      '"
      ]
     },
     "execution_count": 20,
     "metadata": {},
     "output_type": "execute_result"
    }
   ],
   "source": [
    "x = \"test\"\n",
    "x.ljust(10)"
   ]
  },
  {
   "cell_type": "code",
   "execution_count": 21,
   "metadata": {},
   "outputs": [
    {
     "data": {
      "text/plain": [
       "'      test'"
      ]
     },
     "execution_count": 21,
     "metadata": {},
     "output_type": "execute_result"
    }
   ],
   "source": [
    "x.rjust(10)"
   ]
  },
  {
   "cell_type": "code",
   "execution_count": 22,
   "metadata": {},
   "outputs": [
    {
     "data": {
      "text/plain": [
       "'   test   '"
      ]
     },
     "execution_count": 22,
     "metadata": {},
     "output_type": "execute_result"
    }
   ],
   "source": [
    "x.center(10)"
   ]
  },
  {
   "cell_type": "code",
   "execution_count": 23,
   "metadata": {},
   "outputs": [
    {
     "data": {
      "text/plain": [
       "'000000test'"
      ]
     },
     "execution_count": 23,
     "metadata": {},
     "output_type": "execute_result"
    }
   ],
   "source": [
    "x.zfill(10)"
   ]
  },
  {
   "cell_type": "code",
   "execution_count": null,
   "metadata": {},
   "outputs": [],
   "source": [
    "# Try it yourself!\n",
    "\n",
    "# Try to use all of the methods to play around with different strings."
   ]
  },
  {
   "cell_type": "markdown",
   "metadata": {},
   "source": [
    "##### Using list to modify string object\n",
    "\n",
    "Since string is an immutable object in Python, so we cannot modify it as a list object.  Even though we can apply the methods mentioned above to create a new string object, but sometime we still want to modify it directly.  We can achieve this objective by changing a string object to a list then modify the characters in the list and finally change the modified list of characters back into a string.  Here is an example:\n",
    "\n",
    "e.g. \n",
    "``` Python\n",
    "text = \"Hello, World\"\n",
    "\n",
    "# Change the string to a list of characters\n",
    "wordList = list(text)\n",
    "\n",
    "# Remove all character after comma\n",
    "wordList[6:] = []\n",
    "\n",
    "# Reverse the characters order\n",
    "wordList.reverse()\n",
    "\n",
    "# Join the characters in the list with no space\n",
    "text = \"\".join(wordList)\n",
    "\n",
    "# Print the text\n",
    "print(text)  # return ',olleH'\n",
    "```\n",
    "\n",
    "Note: We can also use tuple( ) to transform the string into a tuple and use \"\".join( ) to switch it back to string.  However, neither of the two are suggested methods for text processing in Python because the process continues to create and delete string object, which is a relatively expensive method.  The efficiency be significantly affected when the program is designed for processing a massive string objects (hundreds of million words)."
   ]
  },
  {
   "cell_type": "code",
   "execution_count": null,
   "metadata": {},
   "outputs": [],
   "source": [
    "text = \"Hello, World\"\n",
    "\n",
    "# Change the string to a list of characters\n",
    "wordList = list(text)\n",
    "\n",
    "# Remove all character after comma\n",
    "wordList[6:] = []\n",
    "\n",
    "# Reverse the characters order\n",
    "wordList.reverse()\n",
    "\n",
    "# Join the characters in the list with no space\n",
    "text = \"\".join(wordList)\n",
    "\n",
    "print(text)"
   ]
  },
  {
   "cell_type": "code",
   "execution_count": null,
   "metadata": {},
   "outputs": [],
   "source": [
    "# Try it yourself!\n",
    "\n",
    "# Try to replace all symbol characters in a string to empty spaces\n",
    "\n"
   ]
  },
  {
   "cell_type": "markdown",
   "metadata": {},
   "source": [
    "## 3.7 - Transforming Object to a Sting: repr() and str()\n",
    "\n",
    "In Python, almost every thing can be transform into a string by the built-in function repr( ).  The repr( ) function returns a printable representational string of the given object.  We can use the following example to demonstrate how to transform a list object into a string.\n",
    "\n",
    "e.g.\n",
    "``` Python\n",
    "# Using repr( ) to transform a list object to a string\n",
    "repr([1, 2, 3])  # return '[1, 2, 3]'\n",
    "\n",
    "# Suppose we create a list and assign to x\n",
    "x = [1]\n",
    "x.append(2)\n",
    "x.append([3, 4])\n",
    "\n",
    "# Print a string with x\n",
    "'the list x is ' + repr(x)  # return 'the list x is [1, 2, [3, 4]]'\n",
    "```\n",
    "\n",
    "In this example, we use repr( ) to transfrom a list object to a string and casted with another string.  If we use \"+\" operator to join the string with a list object, Python will get confused of what you are trying to do and return an error message.  \n",
    "\n",
    "repr() bascially can be used to transform any Python object into a string.  We can also try to use repr( ) to interpret some of the built-in objects in Python.\n",
    "\n",
    "e.g. \n",
    "\n",
    "``` Python\n",
    "repr(len)  # return '<built-in function len>'\n",
    "\n",
    "repr(tuple)  # return \"<class 'tuple'>\"\n",
    "\n",
    "repr(input)  # return '<bound method Kernel.raw_input of <ipykernel.ipkernel.IPythonKernel object at 0x00000259B7E39208>>'\n",
    "```\n",
    "\n",
    "repr( ) does not return the built-in code of the function, but only return a string value that specifyies len( ) is a built-in function in Python.  Same for the tuple object, repr( ) only returns a string that describe the tuple object is a class in Python.  In general, repr( ) is an effective tools for debugging.\n",
    "\n",
    "Python also has a built-in function str( ) to transform different object to a string.  The difference between repr( ) and str( ) is that repr( ) returns a Python object called \"formal string represetnation\", which means we can also re-generate the orginal object with the given string.\n",
    "\n",
    "On the other hand, str( ) returns a Python object called \"informal string representation\", which we cannot use it to re-generate the orginal object.  In a simple term, str( ) return a string value for reading and repr( ) return a string for Python to interpret.  We can experience it with the following example:\n",
    "\n",
    "e.g.\n",
    "``` Python\n",
    "from datetime import datetime\n",
    "now = datetime.now()\n",
    "\n",
    "# Using print( ) to print the current date and time\n",
    "print(now)\n",
    "\n",
    "# Using str( ) to print the current date and time as string\n",
    "str(now)\n",
    "\n",
    "# Using repr( ) to interpret the datetime object \n",
    "repr(now)\n",
    "```\n",
    "\n",
    "For beginners, it is often the case people thought the two are the same and getting confused when to use one, but not the other.  It becomes handy when we need to identify the object type in our code.  In many cases, we would apply str( ) for creating readable string in the code and use repr( ) if we need to figure out the object representation."
   ]
  },
  {
   "cell_type": "code",
   "execution_count": null,
   "metadata": {},
   "outputs": [],
   "source": [
    "# Using repr( ) to transform a list object to a string\n",
    "repr([1, 2, 3])"
   ]
  },
  {
   "cell_type": "code",
   "execution_count": null,
   "metadata": {},
   "outputs": [],
   "source": [
    "# Suppose we create a list and assign to x\n",
    "x = [1]\n",
    "x.append(2)\n",
    "x.append([3, 4])\n",
    "\n",
    "# Print a string with x\n",
    "'the list x is ' + repr(x)"
   ]
  },
  {
   "cell_type": "code",
   "execution_count": 14,
   "metadata": {},
   "outputs": [
    {
     "data": {
      "text/plain": [
       "'<built-in function len>'"
      ]
     },
     "execution_count": 14,
     "metadata": {},
     "output_type": "execute_result"
    }
   ],
   "source": [
    "repr(len)"
   ]
  },
  {
   "cell_type": "code",
   "execution_count": 17,
   "metadata": {},
   "outputs": [
    {
     "data": {
      "text/plain": [
       "\"<class 'tuple'>\""
      ]
     },
     "execution_count": 17,
     "metadata": {},
     "output_type": "execute_result"
    }
   ],
   "source": [
    "repr(tuple)"
   ]
  },
  {
   "cell_type": "code",
   "execution_count": 16,
   "metadata": {},
   "outputs": [
    {
     "data": {
      "text/plain": [
       "'<bound method Kernel.raw_input of <ipykernel.ipkernel.IPythonKernel object at 0x00000259B7E39208>>'"
      ]
     },
     "execution_count": 16,
     "metadata": {},
     "output_type": "execute_result"
    }
   ],
   "source": [
    "repr(input)"
   ]
  },
  {
   "cell_type": "code",
   "execution_count": 18,
   "metadata": {},
   "outputs": [
    {
     "name": "stdout",
     "output_type": "stream",
     "text": [
      "2020-05-07 13:23:52.897323\n"
     ]
    }
   ],
   "source": [
    "from datetime import datetime\n",
    "now = datetime.now()\n",
    "\n",
    "# Using print( ) to print the current date and time\n",
    "print(now)"
   ]
  },
  {
   "cell_type": "code",
   "execution_count": 19,
   "metadata": {},
   "outputs": [
    {
     "data": {
      "text/plain": [
       "'2020-05-07 13:23:52.897323'"
      ]
     },
     "execution_count": 19,
     "metadata": {},
     "output_type": "execute_result"
    }
   ],
   "source": [
    "# Using str( ) to print the current date and time as string\n",
    "str(now)"
   ]
  },
  {
   "cell_type": "code",
   "execution_count": 20,
   "metadata": {},
   "outputs": [
    {
     "data": {
      "text/plain": [
       "'datetime.datetime(2020, 5, 7, 13, 23, 52, 897323)'"
      ]
     },
     "execution_count": 20,
     "metadata": {},
     "output_type": "execute_result"
    }
   ],
   "source": [
    "# Using repr( ) to interpret the datetime object \n",
    "repr(now)"
   ]
  },
  {
   "cell_type": "markdown",
   "metadata": {},
   "source": [
    "## 3.8 - Formatting a String\n",
    "\n",
    "Python 3 has three different methods for formatting strings.  In this section we first introduce format( ).  format( ) is a powerful formatting tool in Python, which provides multiple ways to format textual data into string.  We demonstrates a few basic formatting examples here:\n",
    "\n",
    "Reference: https://docs.python.org/3/library/string.html#format-string-syntax\n",
    "\n",
    "##### Placeholders and Numbered Indexes\n",
    "\n",
    "format( ) is method for string object.  The most common way to use it is to create an empty placeholders in a string and fill in the placeholders with the arguments in the format( ) function by its order.\n",
    "\n",
    "e.g. \n",
    "``` Python\n",
    "# Using empty placeholders\n",
    "\"{} is the {} of {}\".format(\"Ambrosia\", \"food\", \"the gods\")  # return 'Ambrosia is the food of the gods'\n",
    "\n",
    "# Using empty placeholders with curly brackets in the string\n",
    "\"{{Ambrosia}} is the {} of {}\".format(\"food\", \"the gods\")  # return '{Ambrosia} is the food of the gods'\n",
    "```\n",
    "\n",
    "In this example, the curly brackets { } are the placeholders in the orginal string, which are replaced by the sub-string values by their order. When a string contain curly brackets, we need to make sure it has double curly brackets to include the original curly brackets.\n",
    "\n",
    "Not only string can be passed into format( ).  Any Python object can be passed into format( ) and Python will transform it to string.\n",
    "\n",
    "e.g.\n",
    "``` Python\n",
    "# Passing in number and mathematical operation to format( )\n",
    "\"{} + {} = {}\".format(1, 2, 1+2)  # return '1 + 2 = 3'\n",
    "\n",
    "# Passing in a list object to format( )\n",
    "x = [1, 2 , 'three']\n",
    "\"The {} contains: {}\".format(\"list\", x)  # return \"The list contains: [1, 2, 'three']\"\n",
    "```\n",
    "\n",
    "We can also use the number indexes to appoint the sub-strings to the specific placeholders in a string.  Here is an example:\n",
    "\n",
    "e.g.\n",
    "``` Python\n",
    "# Use number indexes\n",
    "\"{2} is the {0} of {1}\".format(\"food\", \"the gods\", \"Ambrosia\")  # return 'Ambrosia is the food of the gods'\n",
    "```\n",
    "\n",
    "In this example, we have three number indexes {0}, {1}, and {2}, which are used to identify the position of the sub-strings.  Since the placeholders depends on the nubmer index, we can also repeat these indexes using format( ) method.  Here is an example:\n",
    "\n",
    "e.g. \n",
    "``` Python\n",
    "# Repeat the indexes\n",
    "\"{0} is not {1} and {1} is not {0}\".format(\"abc\", \"cba\")  # return 'abc is not cba and cba is not abc'\n",
    "```\n"
   ]
  },
  {
   "cell_type": "code",
   "execution_count": null,
   "metadata": {},
   "outputs": [],
   "source": [
    "# Using empty placeholders\n",
    "\"{} is the {} of {}\".format(\"Ambrosia\", \"food\", \"the gods\")"
   ]
  },
  {
   "cell_type": "code",
   "execution_count": null,
   "metadata": {},
   "outputs": [],
   "source": [
    "# Using empty placeholders with curly brackets in the string\n",
    "\"{{Ambrosia}} is the {} of {}\".format(\"food\", \"the gods\") "
   ]
  },
  {
   "cell_type": "code",
   "execution_count": null,
   "metadata": {},
   "outputs": [],
   "source": [
    "# Passing in number and mathematical operation to format( )\n",
    "\"{} + {} = {}\".format(1, 2, 1+2) "
   ]
  },
  {
   "cell_type": "code",
   "execution_count": null,
   "metadata": {},
   "outputs": [],
   "source": [
    "# Passing in a list object to format( )\n",
    "x = [1, 2 , 'three']\n",
    "\"The {} contains: {}\".format(\"list\", x) "
   ]
  },
  {
   "cell_type": "code",
   "execution_count": null,
   "metadata": {},
   "outputs": [],
   "source": [
    "# Use number indexes\n",
    "\"{2} is the {0} of {1}\".format(\"food\", \"the gods\", \"Ambrosia\") "
   ]
  },
  {
   "cell_type": "code",
   "execution_count": 21,
   "metadata": {},
   "outputs": [
    {
     "data": {
      "text/plain": [
       "'abc is not cba and cba is not abc'"
      ]
     },
     "execution_count": 21,
     "metadata": {},
     "output_type": "execute_result"
    }
   ],
   "source": [
    "# Repeat the indexes\n",
    "\"{0} is not {1} and {1} is not {0}\".format(\"abc\", \"cba\")"
   ]
  },
  {
   "cell_type": "markdown",
   "metadata": {},
   "source": [
    "##### Using named parameter\n",
    "\n",
    "format( ) also allow us using the variable name of the sub-string to fill a specific placeholder.  Here is an example:\n",
    "\n",
    "e.g.\n",
    "``` Python\n",
    "# Use the named parameter\n",
    "\"{food} is the food of {user}\".format(food=\"Ambrosia\", user=\"the gods\")  # return 'Ambrosia is the food of the gods'\n",
    "```\n",
    "\n"
   ]
  },
  {
   "cell_type": "code",
   "execution_count": null,
   "metadata": {},
   "outputs": [],
   "source": []
  },
  {
   "cell_type": "code",
   "execution_count": null,
   "metadata": {},
   "outputs": [],
   "source": []
  },
  {
   "cell_type": "code",
   "execution_count": null,
   "metadata": {},
   "outputs": [],
   "source": []
  },
  {
   "cell_type": "code",
   "execution_count": null,
   "metadata": {},
   "outputs": [],
   "source": []
  }
 ],
 "metadata": {
  "kernelspec": {
   "display_name": "Python 3",
   "language": "python",
   "name": "python3"
  },
  "language_info": {
   "codemirror_mode": {
    "name": "ipython",
    "version": 3
   },
   "file_extension": ".py",
   "mimetype": "text/x-python",
   "name": "python",
   "nbconvert_exporter": "python",
   "pygments_lexer": "ipython3",
   "version": "3.7.1"
  }
 },
 "nbformat": 4,
 "nbformat_minor": 2
}
