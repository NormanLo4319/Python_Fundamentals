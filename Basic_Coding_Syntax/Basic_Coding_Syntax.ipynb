{
 "cells": [
  {
   "cell_type": "markdown",
   "metadata": {},
   "source": [
    "## Lesson 1 - Basic Coding Syntax\n",
    "- 1.1 - Coding Structure\n",
    "- 1.2 - Comment between Codes\n",
    "- 1.3 - Assignment\n",
    "- 1.4 - Mathematical Operations\n",
    "- 1.5 - String\n",
    "- 1.6 - Number\n",
    "- 1.7 - None\n",
    "- 1.8 - Input\n",
    "- 1.9 - Basic Style Guide for Python Code\n"
   ]
  },
  {
   "cell_type": "markdown",
   "metadata": {},
   "source": [
    "## 1.1 - Coding Structure\n",
    "\n",
    "Unlike C, C++, or Java using semi colons and curly braces to separate a long complied code. Python uses indentation, which helps to improve readability, reduces complex syntax, and is often 3 - 5 times shorter than equivalent Java code.\n",
    "\n",
    "For instance, most languages use { } to identify the elements in a loop.\n",
    "\n",
    "``` C\n",
    "/* While Loop in C Programming */\n",
    "int n, r;\n",
    "n = 9;\n",
    "r = 1;\n",
    "while (n > 0){\n",
    "    r *= n;\n",
    "    n--;\n",
    "}\n",
    "```\n",
    "\n",
    "This is how to write the same while loop in Python\n",
    "\n",
    "``` Python\n",
    "n = 9\n",
    "r = 1\n",
    "while n > 0:\n",
    "    r = r*n # within the while loop by indentation\n",
    "    n = n-1 # within the while loop by indentation\n",
    "```\n",
    "\n",
    "Note: it could be confusing for some people who learned other programming language at first.\n",
    "\n",
    "The indentation rule applies to multiple layers of operations\n",
    "\n",
    "``` Python\n",
    "a = [5]\n",
    "b = [10]\n",
    "\n",
    "if a == [5]:\n",
    "    for number in a: # within the if condition\n",
    "        c = number + b[0] # within the first for loop\n",
    "    for number in b: # within the if condition\n",
    "        d = number + a[0] # within the second for loop\n",
    "```"
   ]
  },
  {
   "cell_type": "markdown",
   "metadata": {},
   "source": [
    "### Advantages for Indentation\n",
    "\n",
    "1. Reduce the chance for miscounting the parentheses or bracket in a massive long code block.\n",
    "2. Increase the readablity of the code by looking at the structure of the code.\n",
    "3. Adopting to the same style of code."
   ]
  },
  {
   "cell_type": "markdown",
   "metadata": {},
   "source": [
    "### Matching the Parentheses\n",
    "\n",
    "To demonstrate the advantages of indentation, let's try to find where the three closing parentheses is matched in the code!!\n",
    "\n",
    "` C Programming Syntax `\n",
    "``` C\n",
    "public class Jva108{\n",
    "public static void main(String[] args){\n",
    "for(int i = 1 ; i < 10 ; i++){\n",
    "for(int j = 1 ; j < 10 ; j++){\n",
    "System.out.print(\"\"+i+\"*\"+j+\"=\"+(i*j)+\"\\t\");\n",
    "System.out.println();  /*Can you find which for loop does it belong?*/\n",
    "}}}\n",
    "```\n",
    "\n",
    "As you can image, the longer and more complex of the code, the more difficult to identify the miscounting of the parentheses or brackets.\n",
    "\n",
    "If we are going to write this in Python,\n",
    "\n",
    "``` Python\n",
    "for i in range(1,10):\n",
    "    for j in range(1,10):\n",
    "        print(f'{j}*{i}={j*i:2d}', end=' ') # This line belongs to the second loop\n",
    "    print() # This line belongs to the first loop\n",
    "```\n",
    "\n",
    "As you can see, indentation imporves the readability and coding structure in Python.  Just like writing an essay where the indentation can help reader to identify a new paragraph."
   ]
  },
  {
   "cell_type": "markdown",
   "metadata": {},
   "source": [
    "## 2.2 - Comment\n",
    "\n",
    "In most cases, Python read anything behind \"#\" as comment and it will not be interpreted.  However, if the \"#\" is within a string, it will just be part of the string.\n",
    "\n",
    "For example,\n",
    "\n",
    "``` Python\n",
    "x = 5\n",
    "x = 3 # We update the value of x equal to 3\n",
    "x = \"# This is not a comment\" # The string will be assigned to the variable x in this case\n",
    "```\n",
    "\n",
    "There are some people using a delimiter (\"\"\") on each end of the comment to comment out a block of code.  However, the (\"\"\") methods isn't actually a comment but defines a Text constant of the text between the (\"\"\").  It isn't displayed, but exists and could potentially cause unexpected errors.  \n",
    "\n",
    "The recommended method for commenting pultiple lines is using # on each line.\n",
    "\n",
    "It is actually important to develop a habit to use comment to record and identify the objective in your code, so that you or team member can modify the code without any complication."
   ]
  },
  {
   "cell_type": "markdown",
   "metadata": {},
   "source": [
    "## 2.3 - Assignment\n",
    "\n",
    "Assignment is the most baisc operation in computer programming.  An assignment statement sets or re-sets the value stored in the storage location(s) denoted by a variable name.  In most imperative programming languages, the assignment statement is a fundamental construct.  Python uses the same operation expression similar to other programming languages.\n",
    "\n",
    "For instance, if we want to assign a value 5 to a variable name x.\n",
    "\n",
    "``` Python\n",
    "x = 5\n",
    "```\n",
    "\n",
    "One of the unique characteristic for assignment statement in Python is that it doesn't require to define the type of the data to be stored in a variable.  The variable will automatically create the type of the data once it is assigned to the variable.  \n",
    "\n",
    "For example, assigning an interger 5 to a variable x  and a string \"Hello World\" in a variable y in C.\n",
    "\n",
    "``` C\n",
    "int x;\n",
    "x = 5;\n",
    "    \n",
    "char y;\n",
    "y = \"Hello World\";\n",
    "```\n",
    "\n",
    "Coding in Python,\n",
    "\n",
    "``` Python\n",
    "x = 5\n",
    "y = \"Hello World\n",
    "```"
   ]
  },
  {
   "cell_type": "markdown",
   "metadata": {},
   "source": [
    "### A bucket or Reference?\n",
    "\n",
    "It's relatively important to note that the variable created in Python is actually a reference tag or name tag to refer the assigned object.  Unlike C, once the value it assigned to a variable, it is stored into into that variable or sometime people refer to a bucket.  However, the variable created in Python is not the same as the bucket, but a reference to some object.\n",
    "\n",
    "Let's use an example to demonstrate this concept!"
   ]
  },
  {
   "cell_type": "code",
   "execution_count": 7,
   "metadata": {},
   "outputs": [
    {
     "name": "stdout",
     "output_type": "stream",
     "text": [
      "[1, 5, 3] [1, 5, 3] [1, 5, 3]\n"
     ]
    }
   ],
   "source": [
    "# Suppose we are creating a list object and assign to variable \"a\"\n",
    "a = [1, 2, 3]\n",
    "\n",
    "# We will assign object \"a\" to variables \"b\" and \"c\"\n",
    "b = a\n",
    "c = a\n",
    "\n",
    "# Let's make change of the second element in variable \"b\"\n",
    "b[1] = 5\n",
    "\n",
    "# Check which variable is affected by this change\n",
    "print(a, b, c)\n"
   ]
  },
  {
   "cell_type": "markdown",
   "metadata": {},
   "source": [
    "Result: All the variable changed by only changing the variable \"b\".  If Python variable is a bucket, it should not be the case because every bucket should be treated independently.  The reason all three variables are changing because they are referencing to each other.  When one is changed, other variables will reference to what they have been assigned to. "
   ]
  },
  {
   "cell_type": "markdown",
   "metadata": {},
   "source": [
    "If the Python variable is referencing an object cannot be changed, Python will assign a new object to the variable and replace the previous one."
   ]
  },
  {
   "cell_type": "code",
   "execution_count": 8,
   "metadata": {},
   "outputs": [
    {
     "name": "stdout",
     "output_type": "stream",
     "text": [
      "1 5 1\n"
     ]
    }
   ],
   "source": [
    "# Suppose we assign a values to variable \"a\"\n",
    "a = 1\n",
    "\n",
    "# Then assign variable \"a\" to variable \"b\" and \"C\"\n",
    "b = a\n",
    "c = a\n",
    "\n",
    "# Now we assign a new value to variable \"b\"\n",
    "b = 5\n",
    "\n",
    "# Check which variable is affected by this change\n",
    "print(a, b, c)"
   ]
  },
  {
   "cell_type": "markdown",
   "metadata": {},
   "source": [
    "In this example, all three variables were assigned to an unchangable object \"1\".  When b is assigned to a new object \"5\", it will replace the previous assigned object.  However, variable \"a\" and \"c\" are still refencing the object \"1\".\n",
    "\n",
    "**Again, Python variable is a name tag (reference), not a container (bucket), so the equal sign (=) is not saving the object into a variable.  Again, Python variable cannot save any value or data. Generally speaking, we should understand that we are only using variable \"a\" to reference object \"x\" as its label in Python.**"
   ]
  },
  {
   "cell_type": "code",
   "execution_count": 9,
   "metadata": {},
   "outputs": [
    {
     "name": "stdout",
     "output_type": "stream",
     "text": [
      "5\n"
     ]
    },
    {
     "ename": "NameError",
     "evalue": "name 'x' is not defined",
     "output_type": "error",
     "traceback": [
      "\u001b[1;31m---------------------------------------------------------------------------\u001b[0m",
      "\u001b[1;31mNameError\u001b[0m                                 Traceback (most recent call last)",
      "\u001b[1;32m<ipython-input-9-bbfca45b1fe8>\u001b[0m in \u001b[0;36m<module>\u001b[1;34m\u001b[0m\n\u001b[0;32m      5\u001b[0m \u001b[1;33m\u001b[0m\u001b[0m\n\u001b[0;32m      6\u001b[0m \u001b[1;32mdel\u001b[0m \u001b[0mx\u001b[0m \u001b[1;31m# Remove variable x\u001b[0m\u001b[1;33m\u001b[0m\u001b[1;33m\u001b[0m\u001b[0m\n\u001b[1;32m----> 7\u001b[1;33m \u001b[0mprint\u001b[0m\u001b[1;33m(\u001b[0m\u001b[0mx\u001b[0m\u001b[1;33m)\u001b[0m \u001b[1;31m# An Traceback error message will appear printing a removed variable\u001b[0m\u001b[1;33m\u001b[0m\u001b[1;33m\u001b[0m\u001b[0m\n\u001b[0m",
      "\u001b[1;31mNameError\u001b[0m: name 'x' is not defined"
     ]
    }
   ],
   "source": [
    "# After creating a variable in Python, it can be removed by using del\n",
    "\n",
    "x = 5\n",
    "print(x)\n",
    "\n",
    "del x # Remove variable x \n",
    "print(x) # An Traceback error message will appear printing a removed variable"
   ]
  },
  {
   "cell_type": "code",
   "execution_count": null,
   "metadata": {},
   "outputs": [],
   "source": []
  },
  {
   "cell_type": "code",
   "execution_count": null,
   "metadata": {},
   "outputs": [],
   "source": []
  },
  {
   "cell_type": "code",
   "execution_count": null,
   "metadata": {},
   "outputs": [],
   "source": []
  },
  {
   "cell_type": "code",
   "execution_count": null,
   "metadata": {},
   "outputs": [],
   "source": []
  },
  {
   "cell_type": "code",
   "execution_count": null,
   "metadata": {},
   "outputs": [],
   "source": []
  },
  {
   "cell_type": "code",
   "execution_count": null,
   "metadata": {},
   "outputs": [],
   "source": []
  },
  {
   "cell_type": "code",
   "execution_count": null,
   "metadata": {},
   "outputs": [],
   "source": []
  },
  {
   "cell_type": "code",
   "execution_count": null,
   "metadata": {},
   "outputs": [],
   "source": []
  },
  {
   "cell_type": "code",
   "execution_count": null,
   "metadata": {},
   "outputs": [],
   "source": []
  },
  {
   "cell_type": "code",
   "execution_count": null,
   "metadata": {},
   "outputs": [],
   "source": []
  },
  {
   "cell_type": "code",
   "execution_count": null,
   "metadata": {},
   "outputs": [],
   "source": []
  },
  {
   "cell_type": "code",
   "execution_count": null,
   "metadata": {},
   "outputs": [],
   "source": []
  },
  {
   "cell_type": "code",
   "execution_count": null,
   "metadata": {},
   "outputs": [],
   "source": []
  }
 ],
 "metadata": {
  "kernelspec": {
   "display_name": "Python 3",
   "language": "python",
   "name": "python3"
  },
  "language_info": {
   "codemirror_mode": {
    "name": "ipython",
    "version": 3
   },
   "file_extension": ".py",
   "mimetype": "text/x-python",
   "name": "python",
   "nbconvert_exporter": "python",
   "pygments_lexer": "ipython3",
   "version": "3.7.1"
  }
 },
 "nbformat": 4,
 "nbformat_minor": 2
}
