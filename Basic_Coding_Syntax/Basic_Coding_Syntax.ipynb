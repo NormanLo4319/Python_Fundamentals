{
 "cells": [
  {
   "cell_type": "markdown",
   "metadata": {},
   "source": [
    "## Lesson 1 - Basic Coding Syntax\n",
    "- 1.1 - Coding Structure\n",
    "- 1.2 - Comment between Codes\n",
    "- 1.3 - Assignment\n",
    "- 1.4 - Mathematical Operations\n",
    "- 1.5 - String\n",
    "- 1.6 - Number\n",
    "- 1.7 - None\n",
    "- 1.8 - Input\n",
    "- 1.9 - Basic Style Guide for Python Code and Naming"
   ]
  },
  {
   "cell_type": "markdown",
   "metadata": {},
   "source": [
    "## 1.1 - Coding Structure\n",
    "\n",
    "Unlike C, C++, or Java using semi colons and curly braces to separate a long complied code. Python uses indentation, which helps to improve readability, reduces complex syntax, and is often 3 - 5 times shorter than equivalent Java code.\n",
    "\n",
    "For instance, most languages use { } to identify the elements in a loop.\n",
    "\n",
    "``` C\n",
    "/* While Loop in C Programming */\n",
    "int n, r;\n",
    "n = 9;\n",
    "r = 1;\n",
    "while (n > 0){\n",
    "    r *= n;\n",
    "    n--;\n",
    "}\n",
    "```\n",
    "\n",
    "This is how to write the same while loop in Python\n",
    "\n",
    "``` Python\n",
    "n = 9\n",
    "r = 1\n",
    "while n > 0:\n",
    "    r = r*n # within the while loop by indentation\n",
    "    n = n-1 # within the while loop by indentation\n",
    "```\n",
    "\n",
    "Note: it could be confusing for some people who learned other programming language at first.\n",
    "\n",
    "The indentation rule applies to multiple layers of operations\n",
    "\n",
    "``` Python\n",
    "a = [5]\n",
    "b = [10]\n",
    "\n",
    "if a == [5]:\n",
    "    for number in a: # within the if condition\n",
    "        c = number + b[0] # within the first for loop\n",
    "    for number in b: # within the if condition\n",
    "        d = number + a[0] # within the second for loop\n",
    "```"
   ]
  },
  {
   "cell_type": "markdown",
   "metadata": {},
   "source": [
    "### Advantages for Indentation\n",
    "\n",
    "1. Reduce the chance for miscounting the parentheses or bracket in a massive long code block.\n",
    "2. Increase the readablity of the code by looking at the structure of the code.\n",
    "3. Adopting to the same style of code."
   ]
  },
  {
   "cell_type": "markdown",
   "metadata": {},
   "source": [
    "### Matching the Parentheses\n",
    "\n",
    "To demonstrate the advantages of indentation, let's try to find where the three closing parentheses is matched in the code!!\n",
    "\n",
    "` C Programming Syntax `\n",
    "``` C\n",
    "public class Jva108{\n",
    "public static void main(String[] args){\n",
    "for(int i = 1 ; i < 10 ; i++){\n",
    "for(int j = 1 ; j < 10 ; j++){\n",
    "System.out.print(\"\"+i+\"*\"+j+\"=\"+(i*j)+\"\\t\");\n",
    "System.out.println();  /*Can you find which for loop does it belong?*/\n",
    "}}}\n",
    "```\n",
    "\n",
    "As you can image, the longer and more complex of the code, the more difficult to identify the miscounting of the parentheses or brackets.\n",
    "\n",
    "If we are going to write this in Python,\n",
    "\n",
    "``` Python\n",
    "for i in range(1,10):\n",
    "    for j in range(1,10):\n",
    "        print(f'{j}*{i}={j*i:2d}', end=' ') # This line belongs to the second loop\n",
    "    print() # This line belongs to the first loop\n",
    "```\n",
    "\n",
    "As you can see, indentation imporves the readability and coding structure in Python.  Just like writing an essay where the indentation can help reader to identify a new paragraph."
   ]
  },
  {
   "cell_type": "markdown",
   "metadata": {},
   "source": [
    "## 1.2 - Comment\n",
    "\n",
    "In most cases, Python read anything behind \"#\" as comment and it will not be interpreted.  However, if the \"#\" is within a string, it will just be part of the string.\n",
    "\n",
    "For example,\n",
    "\n",
    "``` Python\n",
    "x = 5\n",
    "x = 3 # We update the value of x equal to 3\n",
    "x = \"# This is not a comment\" # The string will be assigned to the variable x in this case\n",
    "```\n",
    "\n",
    "There are some people using a delimiter (\"\"\") on each end of the comment to comment out a block of code.  However, the (\"\"\") methods isn't actually a comment but defines a Text constant of the text between the (\"\"\").  It isn't displayed, but exists and could potentially cause unexpected errors.  \n",
    "\n",
    "The recommended method for commenting pultiple lines is using # on each line.\n",
    "\n",
    "It is actually important to develop a habit to use comment to record and identify the objective in your code, so that you or team member can modify the code without any complication."
   ]
  },
  {
   "cell_type": "markdown",
   "metadata": {},
   "source": [
    "## 1.3 - Assignment\n",
    "\n",
    "Assignment is the most baisc operation in computer programming.  An assignment statement sets or re-sets the value stored in the storage location(s) denoted by a variable name.  In most imperative programming languages, the assignment statement is a fundamental construct.  Python uses the same operation expression similar to other programming languages.\n",
    "\n",
    "For instance, if we want to assign a value 5 to a variable name x.\n",
    "\n",
    "``` Python\n",
    "x = 5\n",
    "```\n",
    "\n",
    "One of the unique characteristic for assignment statement in Python is that it doesn't require to define the type of the data to be stored in a variable.  The variable will automatically create the type of the data once it is assigned to the variable.  \n",
    "\n",
    "For example, assigning an interger 5 to a variable x  and a string \"Hello World\" in a variable y in C.\n",
    "\n",
    "``` C\n",
    "int x;\n",
    "x = 5;\n",
    "    \n",
    "char y;\n",
    "y = \"Hello World\";\n",
    "```\n",
    "\n",
    "Coding in Python,\n",
    "\n",
    "``` Python\n",
    "x = 5\n",
    "y = \"Hello World\n",
    "```"
   ]
  },
  {
   "cell_type": "markdown",
   "metadata": {},
   "source": [
    "### A bucket or Reference?\n",
    "\n",
    "It's relatively important to note that the variable created in Python is actually a reference tag or name tag that refers to the assigned object.  Unlike C, once the value is assigned to a variable, it is stored into that variable or sometime people refer to a bucket.  However, the variable created in Python is not a bucket, but just a reference to some object.\n",
    "\n",
    "Let's use an example to demonstrate this concept!"
   ]
  },
  {
   "cell_type": "code",
   "execution_count": null,
   "metadata": {},
   "outputs": [],
   "source": [
    "# Suppose we are creating a list object and assign to variable \"a\"\n",
    "a = [1, 2, 3]\n",
    "\n",
    "# We will assign object \"a\" to variables \"b\" and \"c\"\n",
    "b = a\n",
    "c = a\n",
    "\n",
    "# Let's make change of the second element in variable \"b\"\n",
    "b[1] = 5\n",
    "\n",
    "# Check which variable is affected by this change\n",
    "print(a, b, c)\n"
   ]
  },
  {
   "cell_type": "markdown",
   "metadata": {},
   "source": [
    "Result: All the variable changed by only changing the variable \"b\".  If Python variable is a bucket, it should not be the case because every bucket should be treated independently.  The reason all three variables are changing because they are referencing to each other.  When one is changed, other variables will reference to what they have been assigned to. "
   ]
  },
  {
   "cell_type": "markdown",
   "metadata": {},
   "source": [
    "If the Python variable is referencing an object cannot be changed, Python will assign a new object to the variable and replace the previous one."
   ]
  },
  {
   "cell_type": "code",
   "execution_count": null,
   "metadata": {},
   "outputs": [],
   "source": [
    "# Suppose we assign a values to variable \"a\"\n",
    "a = 1\n",
    "\n",
    "# Then assign variable \"a\" to variable \"b\" and \"C\"\n",
    "b = a\n",
    "c = a\n",
    "\n",
    "# Now we assign a new value to variable \"b\"\n",
    "b = 5\n",
    "\n",
    "# Check which variable is affected by this change\n",
    "print(a, b, c)"
   ]
  },
  {
   "cell_type": "markdown",
   "metadata": {},
   "source": [
    "In this example, all three variables were assigned to an unchangable object \"1\".  When b is assigned to a new object \"5\", it will replace the previous assigned object.  However, variable \"a\" and \"c\" are still refencing the object \"1\".\n",
    "\n",
    "**Python variable is a name tag (reference), not a container (bucket), so the equal sign (=) is not saving the object into a variable, but just giving a name tag to that object.  Again, Python variable cannot save any value or data. Generally speaking, we should understand that we are only using variable \"a\" to reference object \"x\" as its label in Python.**"
   ]
  },
  {
   "cell_type": "code",
   "execution_count": null,
   "metadata": {},
   "outputs": [],
   "source": [
    "# After creating a variable in Python, it can be removed by using del\n",
    "\n",
    "x = 5\n",
    "print(x)\n",
    "\n",
    "del x # Remove variable x \n",
    "print(x) # An Traceback error message will appear when printing a removed variable"
   ]
  },
  {
   "cell_type": "markdown",
   "metadata": {},
   "source": [
    "The documentation in Python standard library lists out all the error messages and its cause.  Here is a link to the reference.\n",
    "\n",
    "[Error Documentation](docs.python.org/3/library/exceptions.html)"
   ]
  },
  {
   "cell_type": "markdown",
   "metadata": {},
   "source": [
    "## 1.4 - Mathematical Operations\n",
    "\n",
    "Python support most the mathematical operations similar to other programming languages.  For instance, we can calculate the average of 7 and 9, then assign it to variable \"z\".\n",
    "\n",
    "``` Python\n",
    "x = 7\n",
    "y = 9\n",
    "z = (x + y) / 2\n",
    "```\n",
    "\n",
    "#### Arithmetic Operators\n",
    "\n",
    "|  Operator  |  Description  |  Syntax  |\n",
    "|  :---:  |  :---:  |  :---:  |\n",
    "|  +  |  Addition: add two operands  |  x + y  |\n",
    "|  -  |  Subtraction: subtracts two operands  |  x - y  |\n",
    "|  *  |  Multiplication: multiplies two operand  |  x * y  |\n",
    "|  /  |  Divsion(float): divides the first operand by the second  |  x / y  |\n",
    "|  //  | Division(floor): divides the first operand by the second  |  x // y  |\n",
    "|  %  |  Modulus: returns the remainder when first operand is dividied by the second  |  x % y  |\n",
    "\n",
    "Please note that the \"order of operations\" or \"operator precedience\" in mathematics also applies to computer programming, especially in Python.  For instance, if we missed the parenthesize in the previous calcuation, the operation will be different.\n",
    "\n",
    "``` Python\n",
    "z = (x + y) / 2  # z = 8\n",
    "w = x + y / 2  # w = 11.5\n",
    "```"
   ]
  },
  {
   "cell_type": "code",
   "execution_count": null,
   "metadata": {},
   "outputs": [],
   "source": [
    "# Try it yourself!\n",
    "# Let's creat some variables and try to add a space, \"-\", \"+\", \n",
    "# or other operator sign betwee two variables and see what happen.\n",
    "\n",
    "x = \n",
    "y = \n",
    "\n",
    "# Try to code here,\n"
   ]
  },
  {
   "cell_type": "code",
   "execution_count": null,
   "metadata": {},
   "outputs": [],
   "source": [
    "# Try to do some complicated calcuation like,\n",
    "x = 2 + 4 * 5 - 6 / 3\n",
    "\n",
    "# Try to code here,\n"
   ]
  },
  {
   "cell_type": "code",
   "execution_count": null,
   "metadata": {},
   "outputs": [],
   "source": [
    "# Try to put the parenthesize(s) in a long calcuation and see if it change the result.\n",
    "10 + 13 * 2 - 6 + 2 / 4 - 3 * 12\n",
    "\n",
    "# Try to code here,\n"
   ]
  },
  {
   "cell_type": "markdown",
   "metadata": {},
   "source": [
    "## 1.5 - String\n",
    "\n",
    "Like most of the programming languages, Python also uses double quotation mark to define a string.  For instance, we can assigne a string \"Hello World\" to a variable x.\n",
    "\n",
    "``` Python\n",
    "x = \"Hello World\"\n",
    "```\n",
    "\n",
    "In Python, backslash referrs to an \"Escape Sequence\", which is used to escape characters that otherwise have a special meaning, such as newline, backslash itself, or the quote character. Here is a list of common escape sequence,\n",
    "\n",
    "\n",
    "|  Escape Sequence  |  Meaning  |\n",
    "|  :---:  |  :---:  |\n",
    "|  \\newline  |  Ignored  |\n",
    "|  \\\\\\  |  Backslash (\\\\)  |\n",
    "|  \\\\'  |  Single Quote (')  |\n",
    "|  \\\\\"  |  Double Quote (\")  |\n",
    "|  \\a  |  ASCII Bell (BEL)  |\n",
    "|  \\b  |  ASCII Backspace (BS) |\n",
    "|  \\t  |  ASCII Horizontal Tap (TAB)  |\n",
    "|  \\v  |  ASCII Vertical Tab (VT)  |"
   ]
  },
  {
   "cell_type": "code",
   "execution_count": null,
   "metadata": {},
   "outputs": [],
   "source": [
    "# We can start a string with tap space using \\t\n",
    "x = \"\\t this string start with \\\"tab\\\".\"\n",
    "print(x)"
   ]
  },
  {
   "cell_type": "code",
   "execution_count": null,
   "metadata": {},
   "outputs": [],
   "source": [
    "# We can also includes a backslash in string using \\\\\n",
    "x = \"this string contains a backslash (\\\\).\"\n",
    "print(x)"
   ]
  },
  {
   "cell_type": "markdown",
   "metadata": {},
   "source": [
    "#### Double Quote & Single Quote\n",
    "\n",
    "Python also permitted to use single qutoe (') to define a string.\n",
    "\n",
    "e.g.\n",
    "``` Python\n",
    "x = \"Hello World\"  \n",
    "y = 'Hellow World'\n",
    "x = y  # TRUE\n",
    "```\n",
    "\n",
    "The only things to remember is that when we are using a single quote ('), we do not need to use (\\\") to define a double quote in a string.  When using a double quote (\") for a string, we do not need to use (\\') to define a single quote in a string.\n",
    "\n",
    "e.g. \n",
    "``` Python\n",
    "x = 'You can leave the \" alone'  # No need to use backslash for the double quote in the string\n",
    "x = \"Don't need a backslash\"  # No need to use backslash for \"Don't\"\n",
    "x = 'Can\\'t get by without a backslash'  # Need to use backslash for \"Can't\"\n",
    "x = \"Backslash your \\\" character!\"  # Need to use backslash for the double quote in the string\n",
    "```"
   ]
  },
  {
   "cell_type": "code",
   "execution_count": null,
   "metadata": {},
   "outputs": [],
   "source": [
    "# Try to create some strings yourself!\n"
   ]
  },
  {
   "cell_type": "markdown",
   "metadata": {},
   "source": [
    "#### Triple-Double Quote\n",
    "\n",
    "Python also provide triple-double quote (\"\"\") to build a long string.  Within the triple-double quote (\"\"\"), we can bring the single quote (') or double quote (\") to the string without a backslash (\\).\n",
    "\n",
    "e.g.\n",
    "\n",
    "``` Python\n",
    "x = \"\"\"Strarting and ending a string with triple \" characters permits embedded newlines, and the use of \" and ' without backslashes.\"\"\"\n",
    "```\n",
    "\n",
    "#### 80 Characters Standard\n",
    "\n",
    "The official Python documenation recommended that each line of code should not be over 80 characters space.  This is rarely seen in other programming languages like C, C++, and Java.  Most of the Python IDEs, such as PyCharm, VS code, and Spyder, provide a line lenght with 79 character space as a standard.\n",
    "\n",
    "Reference: https://www.python.org/dev/peps/pep-0008/\n",
    "\n",
    "When a long string is needed, there are three simple solutions to write a readable code.\n",
    "\n",
    "1. Using Triple-Double Quote (\"\"\")\n",
    "\n",
    "e.g. \n",
    "\n",
    "``` Python\n",
    "if a == b:\n",
    "    long_string = \"\"\" Lorem ipsum dolor sit amet, consectetur adipisicing elit, sed do eiusmod tempor incididunt ut labore et dolore magna aliqua.\"\"\"\n",
    "```\n",
    "\n",
    "Note: The downside for using the \"\"\" is that it will break the indentation of the code and make it difficult to read.\n",
    "\n",
    "2. Using Backslash (\\)\n",
    "\n",
    "e.g.\n",
    "\n",
    "``` Python\n",
    "if a == b:\n",
    "    long_string = \"Lorem ipsum dolor sit amet, consectetur \" \\\n",
    "    \"adipisicing elit, sed do eiusmod tempor incididunt ut labore \" \\\n",
    "    \"et dolore magna aliqua.\"\n",
    "```\n",
    "\n",
    "Note: No space or character should be after the backslash.\n",
    "\n",
    "3. Using Parenthese \n",
    "\n",
    "e.g.\n",
    "\n",
    "``` Python\n",
    "if a == b:\n",
    "    long_string = (\n",
    "        \"Lorem ipsum dolor sit amet, consectetur adipisicing elit, \"\n",
    "        \"sed do eiusmod tempor incididunt ut labore et dolore magna \"\n",
    "        \"aliqua.\")\n",
    "```"
   ]
  },
  {
   "cell_type": "markdown",
   "metadata": {},
   "source": [
    "## 1.6 - Numbers\n",
    "\n",
    "Similar to other programming languages, Python provide four types of numerical format, integer, float, complex numbers and booleans.\n",
    "\n",
    "* **Integer**: A whole number; a number that is not a fraction. In Python, integers have unlimited precision.  \n",
    "\n",
    "* **Floating Point**: Equivalent to \"double\" (64-bit) in C. Float is used to represent real numbers and is written with a decimal point dividing the interger and fractional parts.  \n",
    "\n",
    "* **Complex Number**: It is a fairly advanced mathematical feature, which are written with the notation; the imaginary part is written with a j suffix, e.g. (3 + 2j), where j = sqrt(-1).  \n",
    "\n",
    "* **Boolean**: It is an expression evaluates to one of two states True or False.  The object returned is exactly equivalent to \"1\" and \"0\".\n"
   ]
  },
  {
   "cell_type": "code",
   "execution_count": null,
   "metadata": {},
   "outputs": [],
   "source": [
    "5 + 2 - 3 * 2  # An integer will return when a result is a whole number"
   ]
  },
  {
   "cell_type": "code",
   "execution_count": null,
   "metadata": {},
   "outputs": [],
   "source": [
    "5 / 2 # A floating point will return when dividing two integers"
   ]
  },
  {
   "cell_type": "code",
   "execution_count": null,
   "metadata": {},
   "outputs": [],
   "source": [
    "5 // 2 # Using // floor division will return an integer discard the fractional part"
   ]
  },
  {
   "cell_type": "code",
   "execution_count": null,
   "metadata": {},
   "outputs": [],
   "source": [
    "5.0 // 2 # Using a floating point in floor division will return a floating point discard the fractional part"
   ]
  },
  {
   "cell_type": "code",
   "execution_count": null,
   "metadata": {},
   "outputs": [],
   "source": [
    "30000000000  # This value usually over the limit in most programming language"
   ]
  },
  {
   "cell_type": "code",
   "execution_count": null,
   "metadata": {},
   "outputs": [],
   "source": [
    "30000000000 * 3 # Multiplication of two integers will return an integer"
   ]
  },
  {
   "cell_type": "code",
   "execution_count": null,
   "metadata": {},
   "outputs": [],
   "source": [
    "30000000000 * 3.0 # Using a floating point in multiplcation will return a floating point"
   ]
  },
  {
   "cell_type": "code",
   "execution_count": null,
   "metadata": {},
   "outputs": [],
   "source": [
    "2.0e-8  # Using the scientific notation will return a floating point"
   ]
  },
  {
   "cell_type": "code",
   "execution_count": null,
   "metadata": {},
   "outputs": [],
   "source": [
    "2.4e3 # Again, scientific notation will return a floating point"
   ]
  },
  {
   "cell_type": "code",
   "execution_count": null,
   "metadata": {},
   "outputs": [],
   "source": [
    "int(200.2) # Transform a floating point to an integer"
   ]
  },
  {
   "cell_type": "code",
   "execution_count": null,
   "metadata": {},
   "outputs": [],
   "source": [
    "int(2e2) # Transform a floating point to an interger"
   ]
  },
  {
   "cell_type": "code",
   "execution_count": null,
   "metadata": {},
   "outputs": [],
   "source": [
    "float(200) # Transform an integer to a floating point"
   ]
  },
  {
   "cell_type": "markdown",
   "metadata": {},
   "source": [
    "#### Python Number Advantages\n",
    "\n",
    "There are two main advantages using Python over C or Java when dealing with number data.\n",
    "\n",
    "1. Python integer is unlimited precision or arbitrary-precision integers, where C/C++/Java is limited to 64-bit.\n",
    "\n",
    "2. Dividing two integers will return a floating point.\n",
    "\n",
    "e.g. Dividing 3 by 2, we expect the return value to be 1.5.\n",
    "\n",
    "Writing in C,\n",
    "``` C\n",
    "3.0 / 2 // In C, we MUST define a floating point divided by 2 to get 1.5\n",
    "\n",
    "3 / 2 // This will return an integer\n",
    "```\n",
    "\n",
    "Writing in Python,\n",
    "``` Python\n",
    "3 / 2 # In Python, we can divide the integer 3 by 2 to get 1.5\n",
    "\n",
    "3.0 / 2 # This will also return a floating point 1.5\n",
    "```\n",
    "\n",
    "Python division will always return a floating point regardless the type of data is use in the code.  For instance, if we assign 3.0 to x and 3 to y and use both divided by 2, it will return the same result."
   ]
  },
  {
   "cell_type": "code",
   "execution_count": null,
   "metadata": {},
   "outputs": [],
   "source": [
    "x = 3.0\n",
    "x / 2  # 3.0 / 2"
   ]
  },
  {
   "cell_type": "code",
   "execution_count": null,
   "metadata": {},
   "outputs": [],
   "source": [
    "y = 3\n",
    "y / 2  # 3 / 2"
   ]
  },
  {
   "cell_type": "markdown",
   "metadata": {},
   "source": [
    "#### Python Built-In Functions\n",
    "\n",
    "Python has a number of functions built into it that are always available for numeric data.  Here is a list of the core functions.\n",
    "\n",
    "e.g.\n",
    "\n",
    "abs(), divmod(), float(), hex(), int(), max(), min(), oct(), pow(), round()\n",
    "\n",
    "Reference: https://docs.python.org/3/library/functions.html\n",
    "\n",
    "#### Python math Module \n",
    "For advance numeric operations, such as trigonometric functions (sin, cos, ...), exponential, square root, and some popular operations, were not built into Python, but is provided by standard Python [math](https://docs.python.org/3/library/math.html) module.  In order to use the module, we need to import to the working environment before using.\n",
    "\n",
    "Import the dependency,\n",
    "\n",
    "``` Python\n",
    "from math import *\n",
    "```\n",
    "\n",
    "Python math module provides following commonly used functions and constants,\n",
    "\n",
    "e.g.\n",
    "\n",
    "acos(), asin(), atan(), atan2(), ceil(), cos(), cosh(), e(), exp(), fabs(), floor(), fmod(), frexp(), hypot(), ldexp(), log(), log10(), mod(), pi(), pow(), sin(), sinh(), sqrt(), tan(), tanh()\n",
    "\n",
    "Reference: https://docs.python.org/3/library/math.html\n",
    "\n",
    "#### Numpy\n",
    "math is part of the standard Python library.  It provides functions for basic mathematical operations as well as some commonly used constants.  numpy on the other hand is a third party package geared towards scientific computing.  It is defacto pacakge for numerical and vector operations in Python, which is significantly increase the computational power and speed in Python.  numpy is a powerful tool for solving N-dimensional array object, matrix operation, and advanced functions.\n",
    "\n",
    "Reference: https://numpy.org/"
   ]
  },
  {
   "cell_type": "code",
   "execution_count": null,
   "metadata": {},
   "outputs": [],
   "source": [
    "# Try it yourself!\n",
    "\n",
    "# Try to create assign string or number into different variables\n",
    "\n",
    "\n",
    "# See what will happen if you trying to apply the mathematical operations to these varaibles.\n",
    "\n"
   ]
  },
  {
   "cell_type": "code",
   "execution_count": null,
   "metadata": {},
   "outputs": [],
   "source": [
    "# Try it yourself!\n",
    "\n",
    "# Import the Python math module and \n",
    "# try to apply some functions that is not avaialbe in standard Python.\n",
    "\n"
   ]
  },
  {
   "cell_type": "markdown",
   "metadata": {},
   "source": [
    "## 1.7 - None\n",
    "\n",
    "Other than string and numberic data, Python also has a special data type: **None**.  None represents an empty space, which is similar to \"null\" in other proramming languages.  You will probably see it often in the data.  For instance, when Python function does not return any element, it basically mean that the return value is None.  \n",
    "\n",
    "Note that Non in Python can be a \"place holder\", which can be used to label an empty space in a data structure (list, array, dataframe, etc). What it means is that it reserve a space in the data structure so it can be filled later.  In Python, None is an unique object and it only equals to itself."
   ]
  },
  {
   "cell_type": "code",
   "execution_count": null,
   "metadata": {},
   "outputs": [],
   "source": [
    "None == False  # None is not equal to False"
   ]
  },
  {
   "cell_type": "code",
   "execution_count": null,
   "metadata": {},
   "outputs": [],
   "source": [
    "None == 0  # None is not Zero"
   ]
  },
  {
   "cell_type": "code",
   "execution_count": null,
   "metadata": {},
   "outputs": [],
   "source": [
    "None == None  # None is only equal to itself"
   ]
  },
  {
   "cell_type": "code",
   "execution_count": null,
   "metadata": {},
   "outputs": [],
   "source": [
    "False == 0  # False is equal to Zero (Boolean value)"
   ]
  },
  {
   "cell_type": "markdown",
   "metadata": {},
   "source": [
    "## 1.8 - Using input() to Get User's Input\n",
    "\n",
    "Python offers the built-in input() function for developers to interact with users with a dialog box as a way of asking the user to provide some tyep of input and store it into a variable. input() can display the text or message on the output screen to ask a user to enter input value.  Whatever user enter as input, input function convert it into a string and assigned to a variable.\n",
    "\n",
    "e.g. "
   ]
  },
  {
   "cell_type": "code",
   "execution_count": null,
   "metadata": {},
   "outputs": [],
   "source": [
    "# Asking for user's name and assign it to variable \"name\"\n",
    "name = input(\"What is your name? \")\n",
    "print(name)"
   ]
  },
  {
   "cell_type": "code",
   "execution_count": null,
   "metadata": {},
   "outputs": [],
   "source": [
    "# If we want the return value store into an integer\n",
    "age = int(input(\"How old are you? \"))\n",
    "print(age+1)"
   ]
  },
  {
   "cell_type": "code",
   "execution_count": null,
   "metadata": {},
   "outputs": [],
   "source": [
    "# Try it yourself!\n",
    "\n",
    "# Try to use input() to get a string and an integer \n",
    "\n",
    "\n",
    "\n",
    "# Try to enter an integer to an input() without using int() as a wrapper\n",
    "# See what will be the return data type\n",
    "\n",
    "\n",
    "\n",
    "# Can you change your code to return a floating point like 25.8?\n",
    "\n",
    "\n",
    "# See what will happen if you set the return value from input() as an integer,\n",
    "# but the actual input is a string.\n",
    "\n",
    "\n"
   ]
  },
  {
   "cell_type": "markdown",
   "metadata": {},
   "source": [
    "## 1.9 - Basic Style Guide for Python Code and Naming\n",
    "\n",
    "Python programming has very little limitation compares to other programming languages, but it has some recommended programming and naming style, recorded in PEP 8 (Python Enhancement Proposal).  Here is a list of naming sytle guide for your reference.\n",
    "\n",
    "|  Situation  |  Recommendation  |  Example  |\n",
    "|  :---:  |  :---:  |  :---:  |\n",
    "|  Module or Package Name  |  Short, all-lowercase names, use underscores only when neccessary   |  imp, sys  |\n",
    "|  Function Name  |  all-lowercase names, use underscores to improve readability   |  foo(), my_func()  |\n",
    "|  Variable Name  |  all-lowercase names, use underscores to improve readability   |  my_var  |\n",
    "|  Class Name  |  CapWords, capitalize the first letter in each word   |  MyClass  |\n",
    "|  Constant Name  |  all capital letters with underscores separating words   |  PI, TAX_RATE  |\n",
    "\n",
    "We strongly recommend Python users comply to PEP 8 style guide becuase it improve the readability for other Python programmers and building more consistent community.\n",
    "\n",
    "Reference: www.python.org/dev/peps/pep-0008/\n"
   ]
  },
  {
   "cell_type": "markdown",
   "metadata": {},
   "source": [
    "#### Names Starts or Ends with Underscore\n",
    "\n",
    "As you develop as a Python developer, you will be reading names that start or end with underscore.  Indeed, the underscore in Python has it's very unique meaning.  Let's give you some examples here, so you will have an idea about it.\n",
    "\n",
    "e.g.\n",
    "\n",
    "**_var (Starts with an Underscore)**\n",
    "1. A private method or attribute that is not part of the API or public interface of the class.\n",
    "2. A variable or method is intended for internal use.\n",
    "\n",
    "**var_ (Ends with an Underscore)**\n",
    "1. When the most fitting name for a varialbe is alreayd taken by a keyword.  In order to avoid the naming conflict with Python keywords, a single trailing underscore (postfix) is used.\n",
    "\n",
    "**__var  (Starts with Double Underscore)**\n",
    "1. A double underscore prefix causes the Python interpreter to rewrite the attribute name in order to avoid naming conflicts in subclasses.\n",
    "\n",
    "**__var__ (Starts and Ends with Double Underscore)** \n",
    "1. Variables surrounded by a double underscore prefix and postfix are left unscathed by the Python interperter.  \n",
    "2. Names that have both leading and trailing double underscores are reserved for special use in the lanaguage.  This rule covers things like __init__ for object constructor, or __call__ to make an object callable.\n",
    "\n",
    "**_ (Single Underscore)**\n",
    "1. A single standalone underscore is sometimes used as a name to indicate that a variable is temporary or insignificant.\n",
    "2. It can also be used in unpacking experession as a \"don't care\" variable to ignore particular values.\n"
   ]
  },
  {
   "cell_type": "code",
   "execution_count": null,
   "metadata": {},
   "outputs": [],
   "source": []
  }
 ],
 "metadata": {
  "kernelspec": {
   "display_name": "Python 3",
   "language": "python",
   "name": "python3"
  },
  "language_info": {
   "codemirror_mode": {
    "name": "ipython",
    "version": 3
   },
   "file_extension": ".py",
   "mimetype": "text/x-python",
   "name": "python",
   "nbconvert_exporter": "python",
   "pygments_lexer": "ipython3",
   "version": "3.7.1"
  }
 },
 "nbformat": 4,
 "nbformat_minor": 2
}
